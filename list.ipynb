{
 "cells": [
  {
   "cell_type": "code",
   "execution_count": 2,
   "id": "d77f7fcd-483d-4fe7-b288-1e4120254da2",
   "metadata": {},
   "outputs": [
    {
     "data": {
      "text/plain": [
       "[2, 4, 6, 8]"
      ]
     },
     "execution_count": 2,
     "metadata": {},
     "output_type": "execute_result"
    }
   ],
   "source": [
    "list(range(2,10,2))"
   ]
  },
  {
   "cell_type": "code",
   "execution_count": 4,
   "id": "af87ee56-7e96-4324-8d20-9aa1f2023982",
   "metadata": {},
   "outputs": [
    {
     "data": {
      "text/plain": [
       "[]"
      ]
     },
     "execution_count": 4,
     "metadata": {},
     "output_type": "execute_result"
    }
   ],
   "source": [
    "list (range(10,30,-10))"
   ]
  },
  {
   "cell_type": "code",
   "execution_count": 6,
   "id": "8d040143-ba14-4892-b450-9fb0c7231f8b",
   "metadata": {},
   "outputs": [
    {
     "name": "stdout",
     "output_type": "stream",
     "text": [
      "4\n",
      "8\n",
      "12\n",
      "16\n",
      "20\n",
      "24\n",
      "28\n",
      "32\n",
      "36\n",
      "40\n",
      "hello\n"
     ]
    }
   ],
   "source": [
    "for i in range(1,11):\n",
    "    print(i*4))"
   ]
  },
  {
   "cell_type": "code",
   "execution_count": 34,
   "id": "625182a3-2e35-48cc-8d18-171a61350c80",
   "metadata": {},
   "outputs": [
    {
     "name": "stdout",
     "output_type": "stream",
     "text": [
      "10\n",
      "15\n",
      "hello\n"
     ]
    }
   ],
   "source": [
    "for i in range (10,20,5):#we can use else with for\n",
    "   if(i==14):\n",
    "       break\n",
    "       #continue\n",
    "   print(i)\n",
    "else:\n",
    "    print(\"hello\")\n"
   ]
  },
  {
   "cell_type": "code",
   "execution_count": 35,
   "id": "6b9d4f14-6dd3-4210-862c-e437c264d922",
   "metadata": {},
   "outputs": [
    {
     "name": "stdout",
     "output_type": "stream",
     "text": [
      "10\n",
      "12\n",
      "16\n",
      "18\n",
      "hello\n"
     ]
    }
   ],
   "source": [
    "for i in range (10,20,2):#we can use else with for\n",
    "   if(i==14):\n",
    "       continue\n",
    "   print(i)\n",
    "else:\n",
    "    print(\"hello\")\n"
   ]
  },
  {
   "cell_type": "code",
   "execution_count": 36,
   "id": "1e0a42fe-cd9d-480d-8b78-55279b517ae8",
   "metadata": {},
   "outputs": [
    {
     "name": "stdout",
     "output_type": "stream",
     "text": [
      "hello\n"
     ]
    }
   ],
   "source": [
    "for i in range (10,20,-2):#we can use else with for\n",
    "   if(i==14):\n",
    "       continue\n",
    "   print(i)\n",
    "else:\n",
    "    print(\"hello\")\n"
   ]
  },
  {
   "cell_type": "code",
   "execution_count": 37,
   "id": "cbc34b91-b730-4131-8417-f4d4303b261c",
   "metadata": {},
   "outputs": [
    {
     "name": "stdout",
     "output_type": "stream",
     "text": [
      "20\n",
      "18\n",
      "16\n",
      "12\n",
      "hello\n"
     ]
    }
   ],
   "source": [
    "for i in range (20,10,-2):#we can use else with for\n",
    "   if(i==14):\n",
    "       continue\n",
    "   print(i)\n",
    "else:\n",
    "    print(\"hello\")"
   ]
  },
  {
   "cell_type": "code",
   "execution_count": 38,
   "id": "5a6d5022-7f6a-444b-a247-d0c8d80a5bf2",
   "metadata": {},
   "outputs": [
    {
     "data": {
      "text/plain": [
       "'aa'"
      ]
     },
     "execution_count": 38,
     "metadata": {},
     "output_type": "execute_result"
    }
   ],
   "source": [
    "2*'a'#it replicates value "
   ]
  },
  {
   "cell_type": "code",
   "execution_count": 42,
   "id": "67783aa2-9d33-45be-8647-784e411a03a7",
   "metadata": {},
   "outputs": [
    {
     "name": "stdout",
     "output_type": "stream",
     "text": [
      "05Round\n",
      "15Round\n",
      "25Round\n",
      "35Round\n",
      "45Round\n",
      "55Round\n",
      "65Round\n",
      "75Round\n",
      "85Round\n",
      "95Round\n"
     ]
    }
   ],
   "source": [
    "for i in range (10):\n",
    "    print (i,end='5')\n",
    "    print('Round')"
   ]
  },
  {
   "cell_type": "code",
   "execution_count": null,
   "id": "1b9de95a-c9d5-49bb-9c69-34c26c852cd1",
   "metadata": {},
   "outputs": [],
   "source": []
  },
  {
   "cell_type": "code",
   "execution_count": 62,
   "id": "b3cda076-0f50-4e09-9608-16c04d5a7e47",
   "metadata": {},
   "outputs": [
    {
     "name": "stdout",
     "output_type": "stream",
     "text": [
      "\n",
      "1  \n",
      "2  2  \n",
      "3  3  3  \n",
      "4  4  4  4  \n"
     ]
    }
   ],
   "source": [
    "rows = 4 \n",
    "#int (input (\"Please enter how many rows you need: \"))  \n",
    "i='$'\n",
    "j='#'\n",
    "for i in range (rows+1):  \n",
    "    for j in range (i):  \n",
    "        print(i,end = \"  \")  \n",
    "    print () "
   ]
  },
  {
   "cell_type": "code",
   "execution_count": 74,
   "id": "576b7813-9a69-470a-aeb6-b1e2db9949d9",
   "metadata": {},
   "outputs": [
    {
     "name": "stdout",
     "output_type": "stream",
     "text": [
      " # \n",
      " &  & \n",
      " #  #  # \n",
      " &  &  &  & \n"
     ]
    }
   ],
   "source": [
    "for i in range (1,5):\n",
    "    if i % 2==0:\n",
    "        print(\" & \"*i)\n",
    "    else :\n",
    "        print(\" # \"*i)\n"
   ]
  },
  {
   "cell_type": "code",
   "execution_count": 134,
   "id": "cd17cb5c-97ef-455b-8106-feb89f78148d",
   "metadata": {},
   "outputs": [
    {
     "name": "stdout",
     "output_type": "stream",
     "text": [
      "1\n",
      "2\n",
      "3\n",
      "5\n",
      "7\n",
      "11\n",
      "13\n",
      "17\n",
      "19\n",
      "23\n",
      "29\n",
      "31\n",
      "37\n",
      "41\n",
      "43\n",
      "47\n",
      "53\n",
      "59\n",
      "61\n",
      "67\n",
      "71\n",
      "73\n",
      "79\n",
      "83\n",
      "89\n",
      "97\n"
     ]
    }
   ],
   "source": [
    "for i in range(1,101):   # The range() function does not included the ending number\n",
    "    for j in range(2,i):\n",
    "        if i%j == 0:\n",
    "            break\n",
    "    else :\n",
    "        print(i)\n",
    "  # second method #if i == j:\n",
    "        #print( i, end=\",\")"
   ]
  },
  {
   "cell_type": "code",
   "execution_count": 6,
   "id": "8e4afd16-a636-4fa5-b959-5c9616ab3d71",
   "metadata": {},
   "outputs": [
    {
     "name": "stdout",
     "output_type": "stream",
     "text": [
      "The decimal value of 344 is:\n",
      "0b101011000 in binary.\n",
      "0o530 in octal.\n",
      "0x158 in hexadecimal.\n"
     ]
    }
   ],
   "source": [
    "# Python program to convert decimal into other number systems\n",
    "dec = 344\n",
    "\n",
    "print(\"The decimal value of\", dec, \"is:\")\n",
    "print(bin(dec), \"in binary.\")\n",
    "print(oct(dec), \"in octal.\")\n",
    "print(hex(dec), \"in hexadecimal.\")\n"
   ]
  },
  {
   "cell_type": "code",
   "execution_count": 11,
   "id": "9c182d59-5d79-463c-8f23-849f34d3a36b",
   "metadata": {},
   "outputs": [
    {
     "name": "stdout",
     "output_type": "stream",
     "text": [
      "Roman value is: V"
     ]
    }
   ],
   "source": [
    "# Python3 program to convert\n",
    "# integer value to roman values\n",
    " \n",
    "# Function to convert integer to Roman values\n",
    "def printRoman(number):\n",
    "    num = [1, 4, 5, 9, 10, 40, 50, 90,\n",
    "        100, 400, 500, 900, 1000]\n",
    "    sym = [\"I\", \"IV\", \"V\", \"IX\", \"X\", \"XL\",\n",
    "        \"L\", \"XC\", \"C\", \"CD\", \"D\", \"CM\", \"M\"]\n",
    "    i = 12\n",
    "     \n",
    "    while number:\n",
    "        div = number // num[i]\n",
    "        number %= num[i]\n",
    " \n",
    "        while div:\n",
    "            print(sym[i], end = \"\")\n",
    "            div -= 1\n",
    "        i -= 1\n",
    " \n",
    "# Driver code\n",
    "if __name__ == \"__main__\":\n",
    "    number = 5\n",
    "    print(\"Roman value is:\", end = \" \")\n",
    "    printRoman(number)"
   ]
  },
  {
   "cell_type": "code",
   "execution_count": 8,
   "id": "d639070e-7f41-4cf3-a871-667021d018d0",
   "metadata": {},
   "outputs": [],
   "source": [
    "l3=[1,2,3,4,5,6,7,8,9,10]"
   ]
  },
  {
   "cell_type": "code",
   "execution_count": 9,
   "id": "8b35a900-7899-47ac-8dd5-077e6c0500fd",
   "metadata": {},
   "outputs": [
    {
     "data": {
      "text/plain": [
       "[1, 2, 3, 4, 5, 6, 7, 8, 9, 10]"
      ]
     },
     "execution_count": 9,
     "metadata": {},
     "output_type": "execute_result"
    }
   ],
   "source": [
    "l3"
   ]
  },
  {
   "cell_type": "code",
   "execution_count": 10,
   "id": "e8842f6a-561b-4750-ac07-be30066aa3c1",
   "metadata": {},
   "outputs": [
    {
     "name": "stdout",
     "output_type": "stream",
     "text": [
      "<class 'list'>\n"
     ]
    }
   ],
   "source": [
    "print (type(l3))"
   ]
  },
  {
   "cell_type": "code",
   "execution_count": 4,
   "id": "98abd6eb-a5ac-4fea-ad70-5127a88e1c0d",
   "metadata": {},
   "outputs": [],
   "source": [
    "l3=[\"pranav\",1,2,3,4,5,6,7,8,9,10]"
   ]
  },
  {
   "cell_type": "code",
   "execution_count": 5,
   "id": "7fd01277-bc26-4cbf-8f50-235c94fd5a07",
   "metadata": {},
   "outputs": [
    {
     "data": {
      "text/plain": [
       "['pranav', 1, 2, 3, 4, 5, 6, 7, 8, 9, 10]"
      ]
     },
     "execution_count": 5,
     "metadata": {},
     "output_type": "execute_result"
    }
   ],
   "source": [
    "l3"
   ]
  },
  {
   "cell_type": "code",
   "execution_count": 6,
   "id": "71bd9c9e-4e08-4811-836a-d8a4e8acc2a1",
   "metadata": {},
   "outputs": [
    {
     "name": "stdout",
     "output_type": "stream",
     "text": [
      "<class 'list'>\n"
     ]
    }
   ],
   "source": [
    "print(type(l3))"
   ]
  },
  {
   "cell_type": "code",
   "execution_count": 7,
   "id": "4e801877-5ca7-4d01-935d-6c76e9d86d80",
   "metadata": {},
   "outputs": [
    {
     "data": {
      "text/plain": [
       "3"
      ]
     },
     "execution_count": 7,
     "metadata": {},
     "output_type": "execute_result"
    }
   ],
   "source": [
    "l3 [3]"
   ]
  },
  {
   "cell_type": "code",
   "execution_count": 8,
   "id": "d85bddcf-dc79-491a-8282-45952f2ace99",
   "metadata": {},
   "outputs": [
    {
     "data": {
      "text/plain": [
       "'pranav'"
      ]
     },
     "execution_count": 8,
     "metadata": {},
     "output_type": "execute_result"
    }
   ],
   "source": [
    "l3 [0]"
   ]
  },
  {
   "cell_type": "code",
   "execution_count": 9,
   "id": "40ee1868-6e93-42ca-8575-a69d2e1ef6dd",
   "metadata": {},
   "outputs": [
    {
     "data": {
      "text/plain": [
       "10"
      ]
     },
     "execution_count": 9,
     "metadata": {},
     "output_type": "execute_result"
    }
   ],
   "source": [
    "l3[-1]"
   ]
  },
  {
   "cell_type": "code",
   "execution_count": 10,
   "id": "25a40b47-cb1c-4eca-81aa-49122c05ff08",
   "metadata": {},
   "outputs": [
    {
     "data": {
      "text/plain": [
       "[2, 3, 4, 5]"
      ]
     },
     "execution_count": 10,
     "metadata": {},
     "output_type": "execute_result"
    }
   ],
   "source": [
    "l3 [2:6]"
   ]
  },
  {
   "cell_type": "code",
   "execution_count": 11,
   "id": "d1a00bc1-78ad-4de6-b4fe-18ba86434b87",
   "metadata": {},
   "outputs": [
    {
     "data": {
      "text/plain": [
       "['pranav', 2, 4, 6]"
      ]
     },
     "execution_count": 11,
     "metadata": {},
     "output_type": "execute_result"
    }
   ],
   "source": [
    "l3 [0:8:2]"
   ]
  },
  {
   "cell_type": "code",
   "execution_count": 12,
   "id": "2f4c4eb6-a7b3-4327-adea-b1aef0de4407",
   "metadata": {},
   "outputs": [
    {
     "data": {
      "text/plain": [
       "['pranav', 1, 2, 3, 4, 5, 6, 7, 8, 9, 10]"
      ]
     },
     "execution_count": 12,
     "metadata": {},
     "output_type": "execute_result"
    }
   ],
   "source": [
    "l3 [:]"
   ]
  },
  {
   "cell_type": "code",
   "execution_count": 13,
   "id": "c12f0384-23f8-47d3-adcb-21205852a98a",
   "metadata": {},
   "outputs": [
    {
     "data": {
      "text/plain": [
       "['pranav', 1, 2, 3, 4, 5, 6, 7, 8, 9, 10]"
      ]
     },
     "execution_count": 13,
     "metadata": {},
     "output_type": "execute_result"
    }
   ],
   "source": [
    "l3 [::]"
   ]
  },
  {
   "cell_type": "code",
   "execution_count": 14,
   "id": "dc1e3d05-be2d-401b-85a6-2414455a6526",
   "metadata": {},
   "outputs": [
    {
     "data": {
      "text/plain": [
       "[3, 4, 5, 6, 7, 8, 9, 10]"
      ]
     },
     "execution_count": 14,
     "metadata": {},
     "output_type": "execute_result"
    }
   ],
   "source": [
    "l3 [3::]"
   ]
  },
  {
   "cell_type": "code",
   "execution_count": 15,
   "id": "cbbde4ac-839d-4024-be0e-57e4034fea4f",
   "metadata": {},
   "outputs": [
    {
     "data": {
      "text/plain": [
       "['pranav', 1, 2, 3, 4]"
      ]
     },
     "execution_count": 15,
     "metadata": {},
     "output_type": "execute_result"
    }
   ],
   "source": [
    "l3 [:5:]"
   ]
  },
  {
   "cell_type": "code",
   "execution_count": 18,
   "id": "bbabef0b-02e3-495b-9e3c-ab8e8903b90a",
   "metadata": {},
   "outputs": [
    {
     "data": {
      "text/plain": [
       "[]"
      ]
     },
     "execution_count": 18,
     "metadata": {},
     "output_type": "execute_result"
    }
   ],
   "source": [
    "l3 [3:8:-1]"
   ]
  },
  {
   "cell_type": "code",
   "execution_count": 21,
   "id": "ce94ddaa-b399-4ccd-8774-1361a74bb615",
   "metadata": {},
   "outputs": [
    {
     "data": {
      "text/plain": [
       "[10, 9, 8, 7, 6, 5, 4, 3, 2, 1, 'pranav']"
      ]
     },
     "execution_count": 21,
     "metadata": {},
     "output_type": "execute_result"
    }
   ],
   "source": [
    "l3 [::-1]"
   ]
  },
  {
   "cell_type": "code",
   "execution_count": 35,
   "id": "b7424e85-74c6-40cc-8960-a243e02c5e60",
   "metadata": {},
   "outputs": [
    {
     "data": {
      "text/plain": [
       "16"
      ]
     },
     "execution_count": 35,
     "metadata": {},
     "output_type": "execute_result"
    }
   ],
   "source": [
    "len(l3) "
   ]
  },
  {
   "cell_type": "code",
   "execution_count": 36,
   "id": "8246a0fb-e2bc-426e-8705-217b2eedf3e7",
   "metadata": {},
   "outputs": [],
   "source": [
    "#what are the list methods you know?\n",
    "#1 append,(it add element in last)\n",
    "l3.append(12)"
   ]
  },
  {
   "cell_type": "code",
   "execution_count": 37,
   "id": "fd251f04-b7a1-4599-b1c4-5161a8c6ac4e",
   "metadata": {},
   "outputs": [
    {
     "data": {
      "text/plain": [
       "['pranav', 1, 2, 3, 4, 5, 6, 7, 8, 9, 10, 25, 25, 25, 25, 25, 12]"
      ]
     },
     "execution_count": 37,
     "metadata": {},
     "output_type": "execute_result"
    }
   ],
   "source": [
    "l3"
   ]
  },
  {
   "cell_type": "code",
   "execution_count": 39,
   "id": "fd801b47-05b8-45a5-ba34-7f8ff000aec6",
   "metadata": {},
   "outputs": [],
   "source": [
    "#l3.insert (index or location ,value )want to denote compulsory 2 elements\n",
    "l3.insert (4 ,70 )"
   ]
  },
  {
   "cell_type": "code",
   "execution_count": 40,
   "id": "8217e28b-9c20-499d-8072-f837af012c7d",
   "metadata": {},
   "outputs": [
    {
     "data": {
      "text/plain": [
       "['pranav', 1, 2, 3, 70, 4, 5, 6, 7, 8, 9, 10, 25, 25, 25, 25, 25, 12]"
      ]
     },
     "execution_count": 40,
     "metadata": {},
     "output_type": "execute_result"
    }
   ],
   "source": [
    "l3"
   ]
  },
  {
   "cell_type": "code",
   "execution_count": 45,
   "id": "01f05247-7ab3-4c43-8da7-b58129621ffc",
   "metadata": {},
   "outputs": [],
   "source": [
    "l3.insert(6,[100,200,300 ])"
   ]
  },
  {
   "cell_type": "code",
   "execution_count": 46,
   "id": "6de70a7d-345f-4ab0-80c1-eb19cffc7367",
   "metadata": {},
   "outputs": [
    {
     "data": {
      "text/plain": [
       "['pranav',\n",
       " 1,\n",
       " 2,\n",
       " 3,\n",
       " 70,\n",
       " 4,\n",
       " [100, 200, 300],\n",
       " 5,\n",
       " 6,\n",
       " 7,\n",
       " 8,\n",
       " 9,\n",
       " 10,\n",
       " 25,\n",
       " 25,\n",
       " 25,\n",
       " 25,\n",
       " 25,\n",
       " 12]"
      ]
     },
     "execution_count": 46,
     "metadata": {},
     "output_type": "execute_result"
    }
   ],
   "source": [
    "l3\n"
   ]
  },
  {
   "cell_type": "code",
   "execution_count": 55,
   "id": "ca34f961-a2b6-44b2-80eb-611dbb956d9f",
   "metadata": {},
   "outputs": [],
   "source": [
    "l3.extend ([ 'a','b','c'])"
   ]
  },
  {
   "cell_type": "code",
   "execution_count": 56,
   "id": "f4f70653-3254-4d56-bd0d-e38f2b5203e3",
   "metadata": {},
   "outputs": [
    {
     "data": {
      "text/plain": [
       "['pranav',\n",
       " 1,\n",
       " 2,\n",
       " 3,\n",
       " 70,\n",
       " 4,\n",
       " [100, 200, 300],\n",
       " 5,\n",
       " 6,\n",
       " 7,\n",
       " 8,\n",
       " 9,\n",
       " 10,\n",
       " 25,\n",
       " 25,\n",
       " 25,\n",
       " 25,\n",
       " 25,\n",
       " 12,\n",
       " 'a',\n",
       " 'b',\n",
       " 'c',\n",
       " 'a',\n",
       " 'b',\n",
       " 'c',\n",
       " 'a',\n",
       " 'b',\n",
       " 'c']"
      ]
     },
     "execution_count": 56,
     "metadata": {},
     "output_type": "execute_result"
    }
   ],
   "source": [
    "l3"
   ]
  },
  {
   "cell_type": "code",
   "execution_count": 60,
   "id": "412ecbb5-ad93-4216-ab53-e6255f18b06b",
   "metadata": {},
   "outputs": [],
   "source": [
    "l3.extend( [5])"
   ]
  },
  {
   "cell_type": "code",
   "execution_count": 61,
   "id": "85b76011-2c1a-46fa-83fe-4b1f8459b7cb",
   "metadata": {},
   "outputs": [
    {
     "data": {
      "text/plain": [
       "['pranav',\n",
       " 1,\n",
       " 2,\n",
       " 3,\n",
       " 70,\n",
       " 4,\n",
       " [100, 200, 300],\n",
       " 5,\n",
       " 6,\n",
       " 7,\n",
       " 8,\n",
       " 9,\n",
       " 10,\n",
       " 25,\n",
       " 25,\n",
       " 25,\n",
       " 25,\n",
       " 25,\n",
       " 12,\n",
       " 'a',\n",
       " 'b',\n",
       " 'c',\n",
       " 'a',\n",
       " 'b',\n",
       " 'c',\n",
       " 'a',\n",
       " 'b',\n",
       " 'c',\n",
       " 'a',\n",
       " 5]"
      ]
     },
     "execution_count": 61,
     "metadata": {},
     "output_type": "execute_result"
    }
   ],
   "source": [
    "l3"
   ]
  },
  {
   "cell_type": "code",
   "execution_count": 62,
   "id": "055ff676-bef4-40e3-a9e3-bac2aec197ae",
   "metadata": {},
   "outputs": [
    {
     "ename": "TypeError",
     "evalue": "'int' object is not iterable",
     "output_type": "error",
     "traceback": [
      "\u001b[1;31m---------------------------------------------------------------------------\u001b[0m",
      "\u001b[1;31mTypeError\u001b[0m                                 Traceback (most recent call last)",
      "Cell \u001b[1;32mIn[62], line 1\u001b[0m\n\u001b[1;32m----> 1\u001b[0m l3\u001b[38;5;241m.\u001b[39mextend (\u001b[38;5;241m34\u001b[39m)\n",
      "\u001b[1;31mTypeError\u001b[0m: 'int' object is not iterable"
     ]
    }
   ],
   "source": [
    "l3.extend (34)"
   ]
  },
  {
   "cell_type": "code",
   "execution_count": 63,
   "id": "ee63b55b-e90f-45e5-b445-2811946b965a",
   "metadata": {},
   "outputs": [
    {
     "data": {
      "text/plain": [
       "5"
      ]
     },
     "execution_count": 63,
     "metadata": {},
     "output_type": "execute_result"
    }
   ],
   "source": [
    "l3.pop( ) #it print last element ehich recently added"
   ]
  },
  {
   "cell_type": "code",
   "execution_count": 64,
   "id": "cd65cbbf-aa7d-499e-9489-422b14465f89",
   "metadata": {},
   "outputs": [
    {
     "data": {
      "text/plain": [
       "'a'"
      ]
     },
     "execution_count": 64,
     "metadata": {},
     "output_type": "execute_result"
    }
   ],
   "source": [
    "l3.pop ( )"
   ]
  },
  {
   "cell_type": "code",
   "execution_count": 65,
   "id": "3c2514bd-2cb9-4577-84e8-92576fc28fc2",
   "metadata": {},
   "outputs": [
    {
     "data": {
      "text/plain": [
       "6"
      ]
     },
     "execution_count": 65,
     "metadata": {},
     "output_type": "execute_result"
    }
   ],
   "source": [
    "l3.pop (8)\n"
   ]
  },
  {
   "cell_type": "code",
   "execution_count": 66,
   "id": "219dbaec-cf33-462b-983c-e3f08be31884",
   "metadata": {},
   "outputs": [
    {
     "data": {
      "text/plain": [
       "['pranav',\n",
       " 1,\n",
       " 2,\n",
       " 3,\n",
       " 70,\n",
       " 4,\n",
       " [100, 200, 300],\n",
       " 5,\n",
       " 7,\n",
       " 8,\n",
       " 9,\n",
       " 10,\n",
       " 25,\n",
       " 25,\n",
       " 25,\n",
       " 25,\n",
       " 25,\n",
       " 12,\n",
       " 'a',\n",
       " 'b',\n",
       " 'c',\n",
       " 'a',\n",
       " 'b',\n",
       " 'c',\n",
       " 'a',\n",
       " 'b',\n",
       " 'c']"
      ]
     },
     "execution_count": 66,
     "metadata": {},
     "output_type": "execute_result"
    }
   ],
   "source": [
    "l3\n"
   ]
  },
  {
   "cell_type": "code",
   "execution_count": 71,
   "id": "812b4d7e-3812-4a2f-973d-fc571180bce7",
   "metadata": {},
   "outputs": [
    {
     "data": {
      "text/plain": [
       "25"
      ]
     },
     "execution_count": 71,
     "metadata": {},
     "output_type": "execute_result"
    }
   ],
   "source": [
    "l3.pop (13)"
   ]
  },
  {
   "cell_type": "code",
   "execution_count": 72,
   "id": "d3a6b24e-ae44-491c-a823-7ddfbbb0fdfa",
   "metadata": {},
   "outputs": [],
   "source": [
    "l3.remove(25)"
   ]
  },
  {
   "cell_type": "code",
   "execution_count": 73,
   "id": "2508dab6-ee8d-4712-b61d-2ae86ff02621",
   "metadata": {},
   "outputs": [
    {
     "data": {
      "text/plain": [
       "['pranav',\n",
       " 1,\n",
       " 2,\n",
       " 3,\n",
       " 70,\n",
       " 4,\n",
       " [100, 200, 300],\n",
       " 5,\n",
       " 7,\n",
       " 8,\n",
       " 9,\n",
       " 10,\n",
       " 25,\n",
       " 25,\n",
       " 25,\n",
       " 12,\n",
       " 'a',\n",
       " 'b',\n",
       " 'c',\n",
       " 'a',\n",
       " 'b',\n",
       " 'c',\n",
       " 'a',\n",
       " 'b',\n",
       " 'c']"
      ]
     },
     "execution_count": 73,
     "metadata": {},
     "output_type": "execute_result"
    }
   ],
   "source": [
    "l3"
   ]
  },
  {
   "cell_type": "code",
   "execution_count": 75,
   "id": "4dc609a7-ed83-47a6-a265-ca94c1e2bce6",
   "metadata": {},
   "outputs": [],
   "source": [
    "l3.remove (25)"
   ]
  },
  {
   "cell_type": "code",
   "execution_count": 76,
   "id": "6271d3a4-e6cc-4dc7-b121-419a69b2b75c",
   "metadata": {},
   "outputs": [
    {
     "data": {
      "text/plain": [
       "['pranav',\n",
       " 1,\n",
       " 2,\n",
       " 3,\n",
       " 70,\n",
       " 4,\n",
       " [100, 200, 300],\n",
       " 5,\n",
       " 7,\n",
       " 8,\n",
       " 9,\n",
       " 10,\n",
       " 25,\n",
       " 25,\n",
       " 12,\n",
       " 'a',\n",
       " 'b',\n",
       " 'c',\n",
       " 'a',\n",
       " 'b',\n",
       " 'c',\n",
       " 'a',\n",
       " 'b',\n",
       " 'c']"
      ]
     },
     "execution_count": 76,
     "metadata": {},
     "output_type": "execute_result"
    }
   ],
   "source": [
    "l3"
   ]
  },
  {
   "cell_type": "code",
   "execution_count": 78,
   "id": "4df72cde-6ced-46ff-af1d-8c2123e9c940",
   "metadata": {},
   "outputs": [],
   "source": [
    "l3.remove(25)"
   ]
  },
  {
   "cell_type": "code",
   "execution_count": 79,
   "id": "a1970b51-c5dd-413c-b434-4d033401dfb6",
   "metadata": {},
   "outputs": [
    {
     "data": {
      "text/plain": [
       "['pranav',\n",
       " 1,\n",
       " 2,\n",
       " 3,\n",
       " 70,\n",
       " 4,\n",
       " [100, 200, 300],\n",
       " 5,\n",
       " 7,\n",
       " 8,\n",
       " 9,\n",
       " 10,\n",
       " 12,\n",
       " 'a',\n",
       " 'b',\n",
       " 'c',\n",
       " 'a',\n",
       " 'b',\n",
       " 'c',\n",
       " 'a',\n",
       " 'b',\n",
       " 'c']"
      ]
     },
     "execution_count": 79,
     "metadata": {},
     "output_type": "execute_result"
    }
   ],
   "source": [
    "l3"
   ]
  },
  {
   "cell_type": "code",
   "execution_count": 80,
   "id": "cbd2e97c-d6a5-456a-9b18-be3ecf62efe5",
   "metadata": {},
   "outputs": [],
   "source": [
    "del l3[2]"
   ]
  },
  {
   "cell_type": "code",
   "execution_count": 81,
   "id": "0ebf83b9-235c-415d-b1a1-1d2fc971c501",
   "metadata": {},
   "outputs": [
    {
     "data": {
      "text/plain": [
       "['pranav',\n",
       " 1,\n",
       " 3,\n",
       " 70,\n",
       " 4,\n",
       " [100, 200, 300],\n",
       " 5,\n",
       " 7,\n",
       " 8,\n",
       " 9,\n",
       " 10,\n",
       " 12,\n",
       " 'a',\n",
       " 'b',\n",
       " 'c',\n",
       " 'a',\n",
       " 'b',\n",
       " 'c',\n",
       " 'a',\n",
       " 'b',\n",
       " 'c']"
      ]
     },
     "execution_count": 81,
     "metadata": {},
     "output_type": "execute_result"
    }
   ],
   "source": [
    "l3"
   ]
  },
  {
   "cell_type": "code",
   "execution_count": 82,
   "id": "a8533287-d6e8-4eda-b70c-1dda4cfc01c6",
   "metadata": {},
   "outputs": [
    {
     "data": {
      "text/plain": [
       "[1,\n",
       " 3,\n",
       " 70,\n",
       " 4,\n",
       " [100, 200, 300],\n",
       " 5,\n",
       " 7,\n",
       " 8,\n",
       " 9,\n",
       " 10,\n",
       " 12,\n",
       " 'a',\n",
       " 'b',\n",
       " 'c',\n",
       " 'a',\n",
       " 'b',\n",
       " 'c',\n",
       " 'a',\n",
       " 'b',\n",
       " 'c']"
      ]
     },
     "execution_count": 82,
     "metadata": {},
     "output_type": "execute_result"
    }
   ],
   "source": [
    "del l3[0]\n",
    "l3"
   ]
  },
  {
   "cell_type": "code",
   "execution_count": null,
   "id": "0d647243-0a61-4d23-a118-54f34251352b",
   "metadata": {},
   "outputs": [],
   "source": []
  },
  {
   "cell_type": "code",
   "execution_count": 83,
   "id": "09a0eba0-2f2a-43c1-9150-9ddef3fd6bf5",
   "metadata": {},
   "outputs": [],
   "source": [
    "l3.clear()#for delet all elements in list "
   ]
  },
  {
   "cell_type": "code",
   "execution_count": 84,
   "id": "487cd760-7bc7-40b8-b5c2-be0b0e08bb94",
   "metadata": {},
   "outputs": [
    {
     "data": {
      "text/plain": [
       "[]"
      ]
     },
     "execution_count": 84,
     "metadata": {},
     "output_type": "execute_result"
    }
   ],
   "source": [
    "l3"
   ]
  },
  {
   "cell_type": "code",
   "execution_count": 88,
   "id": "43a34a0c-39c2-4c09-b972-d1627e0344aa",
   "metadata": {},
   "outputs": [],
   "source": [
    "l3=[1,2,3,4,5]"
   ]
  },
  {
   "cell_type": "code",
   "execution_count": 89,
   "id": "e9f9d454-2327-4eee-8667-004702d1db08",
   "metadata": {},
   "outputs": [
    {
     "data": {
      "text/plain": [
       "[1, 2, 3, 4, 5]"
      ]
     },
     "execution_count": 89,
     "metadata": {},
     "output_type": "execute_result"
    }
   ],
   "source": [
    "l3"
   ]
  },
  {
   "cell_type": "code",
   "execution_count": 94,
   "id": "ebfb2666-7d83-4606-8204-e45045f5b62f",
   "metadata": {},
   "outputs": [],
   "source": [
    "l3[4] = 'AAA'"
   ]
  },
  {
   "cell_type": "code",
   "execution_count": 95,
   "id": "0ccac227-36fc-4cdf-be13-dfc049c4425c",
   "metadata": {},
   "outputs": [
    {
     "data": {
      "text/plain": [
       "[1, 2, 3, 'AAA', 'AAA']"
      ]
     },
     "execution_count": 95,
     "metadata": {},
     "output_type": "execute_result"
    }
   ],
   "source": [
    "l3\n"
   ]
  },
  {
   "cell_type": "code",
   "execution_count": 103,
   "id": "b37527c4-a17a-42e7-98bb-aceda82edcc6",
   "metadata": {},
   "outputs": [],
   "source": [
    "list1 =['one','two','three','four']\n",
    "list2 =['five','six','seven','eight']\n",
    "\n"
   ]
  },
  {
   "cell_type": "code",
   "execution_count": 108,
   "id": "36342f41-0e7e-4669-ad43-00b92d184762",
   "metadata": {},
   "outputs": [
    {
     "data": {
      "text/plain": [
       "['one', 'two', 'three', 'four', 'five', 'six', 'seven', 'eight']"
      ]
     },
     "execution_count": 108,
     "metadata": {},
     "output_type": "execute_result"
    }
   ],
   "source": [
    "list3=list1+list2\n",
    "list3"
   ]
  },
  {
   "cell_type": "code",
   "execution_count": 109,
   "id": "27492685-c1cc-41e5-ba18-a182864715d3",
   "metadata": {},
   "outputs": [
    {
     "data": {
      "text/plain": [
       "True"
      ]
     },
     "execution_count": 109,
     "metadata": {},
     "output_type": "execute_result"
    }
   ],
   "source": [
    "1 in l3"
   ]
  },
  {
   "cell_type": "code",
   "execution_count": 110,
   "id": "8dd1b9ae-6b38-45f2-9992-3aae70a4f814",
   "metadata": {},
   "outputs": [],
   "source": [
    "l5=[]\n",
    "for i in range (len(list1)-1,-1,-1):\n",
    "    l5.append(list1[i])"
   ]
  },
  {
   "cell_type": "code",
   "execution_count": 111,
   "id": "3c231e15-9a66-4d99-9a97-9af4b563c65b",
   "metadata": {},
   "outputs": [
    {
     "data": {
      "text/plain": [
       "['four', 'three', 'two', 'one']"
      ]
     },
     "execution_count": 111,
     "metadata": {},
     "output_type": "execute_result"
    }
   ],
   "source": [
    "l5"
   ]
  },
  {
   "cell_type": "code",
   "execution_count": 112,
   "id": "277ecb79-68b5-4529-b1d7-faae2d1f84b3",
   "metadata": {},
   "outputs": [],
   "source": [
    "list1.reverse()"
   ]
  },
  {
   "cell_type": "code",
   "execution_count": 113,
   "id": "c38c63b4-1ca1-4c3e-8e75-04b4fd8e3102",
   "metadata": {},
   "outputs": [
    {
     "data": {
      "text/plain": [
       "['four', 'three', 'two', 'one']"
      ]
     },
     "execution_count": 113,
     "metadata": {},
     "output_type": "execute_result"
    }
   ],
   "source": [
    "list1"
   ]
  },
  {
   "cell_type": "code",
   "execution_count": null,
   "id": "def7ccdb-4097-4efe-9add-9be886cc00a1",
   "metadata": {},
   "outputs": [],
   "source": []
  }
 ],
 "metadata": {
  "kernelspec": {
   "display_name": "Python 3 (ipykernel)",
   "language": "python",
   "name": "python3"
  },
  "language_info": {
   "codemirror_mode": {
    "name": "ipython",
    "version": 3
   },
   "file_extension": ".py",
   "mimetype": "text/x-python",
   "name": "python",
   "nbconvert_exporter": "python",
   "pygments_lexer": "ipython3",
   "version": "3.12.4"
  }
 },
 "nbformat": 4,
 "nbformat_minor": 5
}
