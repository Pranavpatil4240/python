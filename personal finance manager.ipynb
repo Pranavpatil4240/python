{
 "cells": [
  {
   "cell_type": "code",
   "execution_count": 4,
   "id": "d6832259-4afc-42d0-bb1d-d7469f422002",
   "metadata": {},
   "outputs": [
    {
     "name": "stdout",
     "output_type": "stream",
     "text": [
      "\n",
      "--- Personal Finance Manager ---\n",
      "1. Add Expense\n",
      "2. Add Income\n",
      "3. Set/Update Budget\n",
      "4. Show Financial Summary\n",
      "5. Exit\n"
     ]
    },
    {
     "name": "stdin",
     "output_type": "stream",
     "text": [
      "Enter choice (1/2/3/4/5):  2\n",
      "Enter income source:  10000\n",
      "Enter amount:  5\n"
     ]
    },
    {
     "name": "stdout",
     "output_type": "stream",
     "text": [
      "Income added.\n",
      "\n",
      "--- Personal Finance Manager ---\n",
      "1. Add Expense\n",
      "2. Add Income\n",
      "3. Set/Update Budget\n",
      "4. Show Financial Summary\n",
      "5. Exit\n"
     ]
    },
    {
     "name": "stdin",
     "output_type": "stream",
     "text": [
      "Enter choice (1/2/3/4/5):  2\n",
      "Enter income source:  farming\n",
      "Enter amount:  10000\n"
     ]
    },
    {
     "name": "stdout",
     "output_type": "stream",
     "text": [
      "Income added.\n",
      "\n",
      "--- Personal Finance Manager ---\n",
      "1. Add Expense\n",
      "2. Add Income\n",
      "3. Set/Update Budget\n",
      "4. Show Financial Summary\n",
      "5. Exit\n"
     ]
    },
    {
     "name": "stdin",
     "output_type": "stream",
     "text": [
      "Enter choice (1/2/3/4/5):  3\n",
      "Enter your budget:  10000\n"
     ]
    },
    {
     "name": "stdout",
     "output_type": "stream",
     "text": [
      "Budget updated.\n",
      "\n",
      "--- Personal Finance Manager ---\n",
      "1. Add Expense\n",
      "2. Add Income\n",
      "3. Set/Update Budget\n",
      "4. Show Financial Summary\n",
      "5. Exit\n"
     ]
    },
    {
     "name": "stdin",
     "output_type": "stream",
     "text": [
      "Enter choice (1/2/3/4/5):  1\n",
      "Enter expense category:  shopping\n",
      "Enter amount:  5000\n"
     ]
    },
    {
     "name": "stdout",
     "output_type": "stream",
     "text": [
      "Expense added.\n",
      "\n",
      "--- Personal Finance Manager ---\n",
      "1. Add Expense\n",
      "2. Add Income\n",
      "3. Set/Update Budget\n",
      "4. Show Financial Summary\n",
      "5. Exit\n"
     ]
    },
    {
     "name": "stdin",
     "output_type": "stream",
     "text": [
      "Enter choice (1/2/3/4/5):  4\n"
     ]
    },
    {
     "name": "stdout",
     "output_type": "stream",
     "text": [
      "\n",
      "--- Financial Summary ---\n",
      "Total Income: 20005.00\n",
      "Total Expenses: 10000.00\n",
      "Remaining Budget: 0.00\n",
      "Budget: 10000.00\n",
      "\n",
      "--- Personal Finance Manager ---\n",
      "1. Add Expense\n",
      "2. Add Income\n",
      "3. Set/Update Budget\n",
      "4. Show Financial Summary\n",
      "5. Exit\n"
     ]
    },
    {
     "name": "stdin",
     "output_type": "stream",
     "text": [
      "Enter choice (1/2/3/4/5):  5\n"
     ]
    },
    {
     "name": "stdout",
     "output_type": "stream",
     "text": [
      "Exiting...\n"
     ]
    }
   ],
   "source": [
    "import pandas as pd\n",
    "import json\n",
    "import os\n",
    "\n",
    "DATA_FILE = 'finance_data.json'\n",
    "\n",
    "# Load existing data or initialize a new structure\n",
    "def load_data():\n",
    "    if os.path.exists(DATA_FILE):\n",
    "        with open(DATA_FILE, 'r') as file:\n",
    "            return json.load(file)\n",
    "    else:\n",
    "        return {'expenses': [], 'income': [], 'budget': 0}\n",
    "\n",
    "# Save data to JSON file\n",
    "def save_data(data):\n",
    "    with open(DATA_FILE, 'w') as file:\n",
    "        json.dump(data, file, indent=4)\n",
    "\n",
    "# Add an expense\n",
    "def add_expense(data):\n",
    "    category = input(\"Enter expense category: \")\n",
    "    amount = float(input(\"Enter amount: \"))\n",
    "    data['expenses'].append({'category': category, 'amount': amount})\n",
    "    print(\"Expense added.\")\n",
    "\n",
    "# Add income\n",
    "def add_income(data):\n",
    "    source = input(\"Enter income source: \")\n",
    "    amount = float(input(\"Enter amount: \"))\n",
    "    data['income'].append({'source': source, 'amount': amount})\n",
    "    print(\"Income added.\")\n",
    "\n",
    "# Set or update budget\n",
    "def set_budget(data):\n",
    "    budget = float(input(\"Enter your budget: \"))\n",
    "    data['budget'] = budget\n",
    "    print(\"Budget updated.\")\n",
    "\n",
    "# Show financial summary\n",
    "def show_summary(data):\n",
    "    expenses_df = pd.DataFrame(data['expenses'])\n",
    "    income_df = pd.DataFrame(data['income'])\n",
    "\n",
    "    total_expenses = expenses_df['amount'].sum()\n",
    "    total_income = income_df['amount'].sum()\n",
    "    budget = data['budget']\n",
    "    remaining_budget = budget - total_expenses\n",
    "\n",
    "    print(\"\\n--- Financial Summary ---\")\n",
    "    print(f\"Total Income: {total_income:.2f}\")\n",
    "    print(f\"Total Expenses: {total_expenses:.2f}\")\n",
    "    print(f\"Remaining Budget: {remaining_budget:.2f}\")\n",
    "    print(f\"Budget: {budget:.2f}\")\n",
    "\n",
    "    if total_expenses > budget:\n",
    "        print(\"Warning: You have exceeded your budget!\")\n",
    "\n",
    "# Main menu\n",
    "def main_menu():\n",
    "    data = load_data()\n",
    "    while True:\n",
    "        print(\"\\n--- Personal Finance Manager ---\")\n",
    "        print(\"1. Add Expense\")\n",
    "        print(\"2. Add Income\")\n",
    "        print(\"3. Set/Update Budget\")\n",
    "        print(\"4. Show Financial Summary\")\n",
    "        print(\"5. Exit\")\n",
    "\n",
    "        choice = input(\"Enter choice (1/2/3/4/5): \")\n",
    "\n",
    "        if choice == '1':\n",
    "            add_expense(data)\n",
    "        elif choice == '2':\n",
    "            add_income(data)\n",
    "        elif choice == '3':\n",
    "            set_budget(data)\n",
    "        elif choice == '4':\n",
    "            show_summary(data)\n",
    "        elif choice == '5':\n",
    "            save_data(data)\n",
    "            print(\"Exiting...\")\n",
    "            break\n",
    "        else:\n",
    "            print(\"Invalid choice! Please try again.\")\n",
    "\n",
    "if __name__ == \"__main__\":\n",
    "    main_menu()\n"
   ]
  },
  {
   "cell_type": "code",
   "execution_count": null,
   "id": "290af676-a5d0-45d1-9198-5ce52db48dc4",
   "metadata": {},
   "outputs": [],
   "source": []
  }
 ],
 "metadata": {
  "kernelspec": {
   "display_name": "Python 3 (ipykernel)",
   "language": "python",
   "name": "python3"
  },
  "language_info": {
   "codemirror_mode": {
    "name": "ipython",
    "version": 3
   },
   "file_extension": ".py",
   "mimetype": "text/x-python",
   "name": "python",
   "nbconvert_exporter": "python",
   "pygments_lexer": "ipython3",
   "version": "3.12.4"
  }
 },
 "nbformat": 4,
 "nbformat_minor": 5
}
