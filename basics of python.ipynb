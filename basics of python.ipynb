{
 "cells": [
  {
   "cell_type": "code",
   "execution_count": null,
   "id": "3bf0353d-ccba-419c-9f20-35f5a5032c3f",
   "metadata": {},
   "outputs": [],
   "source": [
    "#structure of the python program\n",
    "1.Documentation\n",
    "# (# is for singleline comment ) and ('''_________\"\"\" id for multiple line comments)\n",
    "2.Import\n",
    "#(import function used to includebuilt-in or user-defined modules\n",
    "3.Global_Declaration\n",
    "# (Global Variables)\n",
    "4.Class\n",
    "#(it is a defination of class it includes data members & member function)\n",
    "5.Sub_Program\n",
    "# (User-Defined function)\n",
    "6.Play_Ground\n",
    "# (Actual code is written here)\n"
   ]
  },
  {
   "cell_type": "code",
   "execution_count": null,
   "id": "ecf0b647-d5cc-4736-b97f-f544b29b278a",
   "metadata": {},
   "outputs": [],
   "source": [
    "2 types of execution which is only available in python \n",
    "#1.interactive_mode ( you can run 1 (single) command line shell )\n",
    "#2.Normal_script_mode ( you have write and run entire code script   )"
   ]
  },
  {
   "cell_type": "code",
   "execution_count": 2,
   "id": "c49572a1-9689-4619-a0bd-9cff7d794981",
   "metadata": {},
   "outputs": [
    {
     "data": {
      "text/plain": [
       "9"
      ]
     },
     "execution_count": 2,
     "metadata": {},
     "output_type": "execute_result"
    }
   ],
   "source": [
    "Python Built-In Functions (BIF)\n",
    "#function is separate block of code which is use to perform specific task\n",
    "#python 3.6 provides almost 67 BIFs to handle variety of basic operations\n",
    "1.Python has a set of built-in functions.\n",
    "\n",
    "bs() -Returns the absolute value of a number\n",
    "all() -Returns True if all items in an iterable object are true\n",
    "any() -Returns True if any item in an iterable object is true\n",
    "ascii()\t-Returns a readable version of an object. Replaces none-ascii characters with escape character\n",
    "bin()-Returns the binary version of a number\n",
    "bool()-Returns the boolean value of the specified object\n",
    "bytearray()-Returns an array of bytes\n",
    "bytes()\t-Returns a bytes object\n",
    "callable()\t-Returns True if the specified object is callable, otherwise False\n",
    "chr()\t-Returns a character from the specified Unicode code.\n",
    "classmethod() -Converts a method into a class method\n",
    "compile()\t-Returns the specified source as an object, ready to be executed\n",
    "complex()\t-Returns a complex number\n",
    "delattr()\t-Deletes the specified attribute (property or method) from the specified object\n",
    "dict()\t-Returns a dictionary (Array)\n",
    "dir()\t-Returns a list of the specified object's properties and methods\n",
    "divmod()\t-Returns the quotient and the remainder when argument1 is divided by argument2\n",
    "enumerate()\t-Takes a collection (e.g. a tuple) and returns it as an enumerate object\n",
    "eval()\t-Evaluates and executes an expression\n",
    "exec()\t-Executes the specified code (or object)\n",
    "filter()\t-Use a filter function to exclude items in an iterable object\n",
    "float()  -Returns a floating point number\n",
    "format()\t-Formats a specified value\n",
    "frozenset()\t-Returns a frozenset object\n",
    "getattr()\t-Returns the value of the specified attribute (property or method)\n",
    "globals()\t-Returns the current global symbol table as a dictionary\n",
    "hasattr()\t-Returns True if the specified object has the specified attribute (property/method)\n",
    "hash()\t-Returns the hash value of a specified object\n",
    "help()\t-Executes the built-in help system\n",
    "hex()\t-Converts a number into a hexadecimal value\n",
    "id()\t-Returns the id of an object\n",
    "input()\t-Allowing user input\n",
    "int()\t-Returns an integer number\n",
    "isinstance()\t-Returns True if a specified object is an instance of a specified object\n",
    "issubclass()\t-Returns True if a specified class is a subclass of a specified object\n",
    "iter()\t-Returns an iterator object\n",
    "len()\t-Returns the length of an object\n",
    "list()\t-Returns a list\n",
    "locals()\t-Returns an updated dictionary of the current local symbol table\n",
    "map()\t-Returns the specified iterator with the specified function applied to each item\n",
    "max()\t-Returns the largest item in an iterable\n",
    "memoryview()\t-Returns a memory view object\n",
    "min()\t-Returns the smallest item in an iterable\n",
    "next()\t-Returns the next item in an iterable\n",
    "object()\t-Returns a new object\n",
    "oct()\t-Converts a number into an octal\n",
    "open()\t-Opens a file and returns a file object\n",
    "ord()\t-Convert an integer representing the Unicode of the specified character\n",
    "pow()\t-Returns the value of x to the power of y\n",
    "print()\t-Prints to the standard output device\n",
    "property()-\tGets, sets, deletes a property\n",
    "range()\t-Returns a sequence of numbers, starting from 0 and increments by 1 (by default)\n",
    "repr()\t-Returns a readable version of an object\n",
    "reversed()-Returns a reversed iterator\n",
    "round()\t-Rounds a numbers\n",
    "set()\t-Returns a new set object\n",
    "setattr()\t-Sets an attribute (property/method) of an object\n",
    "slice()-\tReturns a slice object\n",
    "sorted()\t-Returns a sorted list\n",
    "staticmethod()\t-Converts a method into a static method\n",
    "str()\t-Returns a string object\n",
    "sum()\t-Sums the items of an iterator\n",
    "super()  -\tReturns an object that represents the parent class\n",
    "tuple()   -\tReturns a tuple\n",
    "type()\t-Returns the type of an object\n",
    "vars()\t-Returns the __dict__ property of an object\n",
    "zip()\t-Returns an iterator, from two or more iterators\n",
    "\n",
    "2.Python has a set of built-in methods that you can use on strings.\n",
    "\n",
    "capitalize()-Converts the first character to upper case\n",
    "casefold()-Converts string into lower case\n",
    "center()\t-Returns a centered string\n",
    "count()-\tReturns the number of times a specified value occurs in a string\n",
    "encode()\t-Returns an encoded version of the string\n",
    "endswith()\t-Returns true if the string ends with the specified value\n",
    "expandtabs()\t-Sets the tab size of the string\n",
    "find()\t-Searches the string for a specified value and returns the position of where it was found\n",
    "format()\t-Formats specified values in a string\n",
    "format_map()\t-Formats specified values in a string\n",
    "index()-\tSearches the string for a specified value and returns the position of where it was found\n",
    "isalnum()\t-Returns True if all characters in the string are alphanumeric\n",
    "isalpha()\t-Returns True if all characters in the string are in the alphabet\n",
    "isascii()\t-Returns True if all characters in the string are ascii characters\n",
    "isdecimal()-\tReturns True if all characters in the string are decimals\n",
    "isdigit()\t-Returns True if all characters in the string are digits\n",
    "isidentifier()\t-Returns True if the string is an identifier\n",
    "islower()\t-Returns True if all characters in the string are lower case\n",
    "isnumeric()\t-Returns True if all characters in the string are numeric\n",
    "isprintable()\t-Returns True if all characters in the string are printable\n",
    "isspace()-\tReturns True if all characters in the string are whitespaces\n",
    "istitle()\t-Returns True if the string follows the rules of a title\n",
    "isupper()\t-Returns True if all characters in the string are upper case\n",
    "join()\t-Converts the elements of an iterable into a string\n",
    "ljust()\t-Returns a left justified version of the string\n",
    "lower()\t-Converts a string into lower case\n",
    "lstrip()\t-Returns a left trim version of the string\n",
    "maketrans()-\tReturns a translation table to be used in translations\n",
    "partition()-\tReturns a tuple where the string is parted into three parts\n",
    "replace()\t-Returns a string where a specified value is replaced with a specified value\n",
    "rfind()-\tSearches the string for a specified value and returns the last position of where it was found\n",
    "rindex()\t-Searches the string for a specified value and returns the last position of where it was found\n",
    "rjust()\t-Returns a right justified version of the string\n",
    "rpartition()\t-Returns a tuple where the string is parted into three parts\n",
    "rsplit()\t-Splits the string at the specified separator, and returns a list\n",
    "rstrip()\t-Returns a right trim version of the string\n",
    "split()-\tSplits the string at the specified separator, and returns a list\n",
    "splitlines()\t-Splits the string at line breaks and returns a list\n",
    "startswith()\t-Returns true if the string starts with the specified value\n",
    "strip()\t-Returns a trimmed version of the string\n",
    "swapcase()\t-Swaps cases, lower case becomes upper case and vice versa\n",
    "title()\t-Converts the first character of each word to upper case\n",
    "translate()\t-Returns a translated string\n",
    "upper()\t-Converts a string into upper case\n",
    "zfill()\t-Fills the string with a specified number of 0 values at the beginning\n",
    "\n",
    "3.Python has a set of built-in methods that you can use on lists/arrays.\n",
    "                        \n",
    "\n",
    "append()-Adds an element at the end of the list\n",
    "clear()\t-Removes all the elements from the list\n",
    "copy()\t-Returns a copy of the list\n",
    "count()-\tReturns the number of elements with the specified value\n",
    "extend()\t-Add the elements of a list (or any iterable), to the end of the current list\n",
    "index()-\tReturns the index of the first element with the specified value\n",
    "insert()\t-Adds an element at the specified position\n",
    "pop()\t-Removes the element at the specified position\n",
    "remove()\t-Removes the first item with the specified value\n",
    "reverse()-\tReverses the order of the list\n",
    "sort()\t-Sorts the list\n",
    "\n",
    "4.Python has a set of built-in methods that you can use on dictionaries.\n",
    "\n",
    "clear()\t-Removes all the elements from the dictionary\n",
    "copy()\t-Returns a copy of the dictionary\n",
    "fromkeys()\t-Returns a dictionary with the specified keys and value\n",
    "get()\t-Returns the value of the specified key\n",
    "items()-Returns a list containing a tuple for each key value pair\n",
    "keys()\t-Returns a list containing the dictionary's keys\n",
    "pop()\t-Removes the element with the specified key\n",
    "popitem()\t-Removes the last inserted key-value pair\n",
    "setdefault()\t-Returns the value of the specified key. If the key does not exist: insert the key, with the specified value\n",
    "update()\t-Updates the dictionary with the specified key-value pairs\n",
    "values()\t-Returns a list of all the values in the dictionary\n",
    "\n",
    "5.Python has two built-in methods that you can use on tuples.\n",
    "                        \n",
    "count()\t-Returns the number of times a specified value occurs in a tuple\n",
    "index()-\tSearches the tuple for a specified value and returns the position of where it was found\n",
    "\n",
    "\n",
    "6.Python has a set of built-in methods that you can use on sets.\n",
    "\n",
    "add()\t \t-Adds an element to the set\n",
    "clear()\t \t-Removes all the elements from the set\n",
    "copy()\t \t-Returns a copy of the set\n",
    "difference()\t-\t-Returns a set containing the difference between two or more sets\n",
    "difference_update()\t-=\t-Removes the items in this set that are also included in another, specified set\n",
    "discard()\t \t-Remove the specified item\n",
    "intersection()\t&\t-Returns a set, that is the intersection of two other sets\n",
    "intersection_update()\t&=\t-Removes the items in this set that are not present in other, specified set(s)\n",
    "isdisjoint()\t \t-Returns whether two sets have a intersection or not\n",
    "issubset()\t<=\t-Returns whether another set contains this set or not\n",
    " \t<\t-Returns whether all items in this set is present in other, specified set(s)\n",
    "issuperset()\t>=\t-Returns whether this set contains another set or not\n",
    " \t>\t-Returns whether all items in other, specified set(s) is present in this set\n",
    "pop()\t \t-Removes an element from the set\n",
    "remove()\t -\tRemoves the specified element\n",
    "symmetric_difference()\t^\t-Returns a set with the symmetric differences of two sets\n",
    "symmetric_difference_update()\t^=\t-Inserts the symmetric differences from this set and another\n",
    "union()\t|\t-Return a set containing the union of sets\n",
    "update()\t|=\t-Update the set with the union of this set and others\n",
    "\n",
    "7.Python has a set of methods available for the file object.\n",
    "\n",
    "close()\t-Closes the file\n",
    "detach()\t-Returns the separated raw stream from the buffer\n",
    "fileno()\t-Returns a number that represents the stream, from the operating system's perspective\n",
    "flush()-\tFlushes the internal buffer\n",
    "isatty()\t-Returns whether the file stream is interactive or not\n",
    "read()\t-Returns the file content\n",
    "readable()\t-Returns whether the file stream can be read or not\n",
    "readline()\t-Returns one line from the file\n",
    "readlines()-\tReturns a list of lines from the file\n",
    "seek()\t-Change the file position\n",
    "seekable()\t-Returns whether the file allows us to change the file position\n",
    "tell()\t-Returns the current file position\n",
    "truncate()\t-Resizes the file to a specified size\n",
    "writable()\t-Returns whether the file can be written to or not\n",
    "write()-Writes the specified string to the file\n",
    "writelines()\t-Writes a list of strings to the file\n",
    "\n",
    "8.Python has a set of keywords that are reserved words that cannot be used as variable names, function names, or any other identifiers:\n",
    "\n",
    "and-\tA logical operator\n",
    "as\t-To create an alias\n",
    "assert\t-For debugging\n",
    "break\t-To break out of a loop\n",
    "class\t-To define a class\n",
    "continue\t-To continue to the next iteration of a loop\n",
    "def\t-To define a function\n",
    "del\t-To delete an object\n",
    "elif\t-Used in conditional statements, same as else if\n",
    "else\t-Used in conditional statements\n",
    "except\t-Used with exceptions, what to do when an exception occurs\n",
    "False\t-Boolean value, result of comparison operations\n",
    "finally-\tUsed with exceptions, a block of code that will be executed no matter if there is an exception or not\n",
    "for\t-To create a for loop\n",
    "from\t-To import specific parts of a module\n",
    "global\t-To declare a global variable\n",
    "if\t-To make a conditional statement\n",
    "import\t-To import a module\n",
    "in\t-To check if a value is present in a list, tuple, etc.\n",
    "is\t-To test if two variables are equal\n",
    "lambda\t-To create an anonymous function\n",
    "None\t-Represents a null value\n",
    "nonlocal\t-To declare a non-local variable\n",
    "not\t-A logical operator\n",
    "or\t-A logical operator\n",
    "pass\t-A null statement, a statement that will do nothing\n",
    "raise\t-To raise an exception\n",
    "return\t-To exit a function and return a value\n",
    "True\t-Boolean value, result of comparison operations\n",
    "try\t-To make a try...except statement\n",
    "while\t-To create a while loop\n",
    "with\t-Used to simplify exception handling\n",
    "yield\t-To return a list of values from a generator"
   ]
  },
  {
   "cell_type": "code",
   "execution_count": 8,
   "id": "4a2f30b2-3afc-4773-acc7-60d084da6c61",
   "metadata": {},
   "outputs": [
    {
     "name": "stdout",
     "output_type": "stream",
     "text": [
      "hello\n",
      "Pranav\n"
     ]
    }
   ],
   "source": [
    "\n",
    "#1.print() Function syntax\n",
    "  # print(object)\n",
    "print(\"hello\")\n",
    "print(\"Pranav\")\n",
    "\n",
    " #it terinated line at the end after termination is shifts cursor automatically on next line"
   ]
  },
  {
   "cell_type": "markdown",
   "id": "a2bac39a-9a63-4038-a5ea-f155c53f912a",
   "metadata": {},
   "source": [
    "Programs\n"
   ]
  },
  {
   "cell_type": "code",
   "execution_count": 22,
   "id": "4f9a2431-6222-4270-86d0-7dbcb88ccdf5",
   "metadata": {},
   "outputs": [
    {
     "name": "stdout",
     "output_type": "stream",
     "text": [
      "Hello World\n",
      "-------------------------------------------\n",
      "\n",
      "Pranav Patil\n",
      "---------------------------------------------\n",
      "Hello World Pranav Patil\n",
      "-----------------------------------------------\n",
      "Hello World\n",
      "\n",
      "\n",
      "Pranav Patil\n"
     ]
    }
   ],
   "source": [
    "#1 WAP to print hello world\n",
    "print(\"Hello World\")\n",
    "print(\"-------------------------------------------\")\n",
    "\n",
    "#if you want extra line gap then you can use \\n\n",
    "print(\"\\nPranav Patil\")\n",
    "print(\"---------------------------------------------\")\n",
    "\n",
    "#if you not required next line after execution then you have to write (end =' ')\n",
    "print(\"Hello World\",end=' ')\n",
    "print(\"Pranav Patil\")\n",
    "print(\"-----------------------------------------------\")\n",
    "#we can call print function as an empty\n",
    "print(\"Hello World\")\n",
    "print()\n",
    "print()\n",
    "print(\"Pranav Patil\")\n",
    "\n"
   ]
  },
  {
   "cell_type": "code",
   "execution_count": null,
   "id": "b67ef535-2edb-4311-b481-ae1eb0bac93a",
   "metadata": {},
   "outputs": [],
   "source": [
    "# Program Structure\n",
    "I/P (memory) --> Processing --> O/P"
   ]
  },
  {
   "cell_type": "markdown",
   "id": "ef3af7a8-f74a-475c-8fb3-72f4da2a5191",
   "metadata": {},
   "source": [
    "Data Types"
   ]
  },
  {
   "cell_type": "code",
   "execution_count": null,
   "id": "304e9e4f-d4ed-4161-b2c1-4c851d6ed294",
   "metadata": {},
   "outputs": [],
   "source": [
    "#Data Types in Python3\n",
    "#-Types of value that can be stored in an identifier/variable is known as its data type\n",
    "\n",
    "#-Data type determines how much memory is allocated to store data and what operations can be performed on it\n",
    "\n",
    "#-Although we dont have to declare a type for python variable,a value does have a type\n",
    " \n",
    "#-This information is a crucial to the interpreter\n",
    "\n",
    "int (integer)\n",
    "#used to represent whole numbers & it is  (immutable)\n",
    "float \n",
    "#used for real numbers or floating point numbers & it ism (immutable)\n",
    "complex \n",
    "#used to represent complex numbers (numbers contains real &imagnary part) imaginary part is witten with 'j' &it is (immutable)\n",
    "bool (boolean)\n",
    "#used to represent (truth) values.Only allowed values are True or False &it is (immutable)\n",
    "str (string)\n",
    "# used to represent collection of characters  & it is (immutable)\n",
    "bytes \n",
    "#used to represent sequence of values from 0-225. its like array & it is (immutable)\n",
    "bytearray \n",
    "#same as byte ,but only diffrence is that its elements can be modified & it is (Mutable)\n",
    "range\n",
    "#used to represent range of values & it is (immutable)\n",
    "list\n",
    "#used to represent an ordered collection of objects.it is created by using [ ] & it is (Mutable)\n",
    "tuple\n",
    "#used to represent an ordered collection of objects,it is created by using ()\n",
    "set\n",
    "#used to represent unordered collection of unique objects.it is created by using { } & it is (Mutable)\n",
    "frozenset\n",
    "#used to represent unordered collection of unique objects,it is created by using { } & it is (immutable)\n",
    "dict\n",
    "#used to represent group of key value pairs.keys must be unique,they are like associative arrays in PHP & it is(Mutable)\n",
    "NoneType\n",
    "#if value is not available ,it is used literal none is used to create such variable & it is (immutable)\n",
    "\n",
    "\n",
    " in python everything is an object\n",
    "\n",
    "\n",
    "\n",
    "\n",
    "\n"
   ]
  },
  {
   "cell_type": "markdown",
   "id": "61dfc5e7-9191-4853-91d5-25ce76892b2b",
   "metadata": {},
   "source": [
    "Variables"
   ]
  },
  {
   "cell_type": "code",
   "execution_count": null,
   "id": "dd394b51-b08a-4856-9f52-ec3129081d0e",
   "metadata": {},
   "outputs": [],
   "source": [
    "Variables\n",
    "-Variable is like a container that stores value\n",
    "-it is a way of pointing to memory location\n",
    "-variables are used to store values in memory which can be used in programs\n",
    "-variable is name given to a location in computers memory where value be used in program can be stored\n",
    "\n",
    "\n",
    "-in python we dont need to declare variables explicitely to reserve memory\n",
    "-python is dynamically typed programming language.\n",
    "-Variables is created when value is assigned.\n",
    "-\n",
    "Based on assighned value,the interpreter decides its data type\n",
    "\n",
    "#Syntax =\n",
    "\n",
    "(identifier =value)\n"
   ]
  },
  {
   "cell_type": "code",
   "execution_count": 32,
   "id": "c1610fed-0263-4247-9f1e-9d6cc5e939b9",
   "metadata": {},
   "outputs": [
    {
     "data": {
      "text/plain": [
       "int"
      ]
     },
     "execution_count": 32,
     "metadata": {},
     "output_type": "execute_result"
    }
   ],
   "source": [
    "x=10\n",
    "type(x)"
   ]
  },
  {
   "cell_type": "code",
   "execution_count": 33,
   "id": "73bb1ead-0f34-4eb2-8350-9a8d24126d6d",
   "metadata": {},
   "outputs": [
    {
     "data": {
      "text/plain": [
       "140731890612952"
      ]
     },
     "execution_count": 33,
     "metadata": {},
     "output_type": "execute_result"
    }
   ],
   "source": [
    "id(x) #2952 is a Id address"
   ]
  },
  {
   "cell_type": "code",
   "execution_count": 34,
   "id": "0a04eabe-06a8-43ac-a6e1-404598349036",
   "metadata": {},
   "outputs": [
    {
     "data": {
      "text/plain": [
       "int"
      ]
     },
     "execution_count": 34,
     "metadata": {},
     "output_type": "execute_result"
    }
   ],
   "source": [
    "y=20\n",
    "type(y)"
   ]
  },
  {
   "cell_type": "code",
   "execution_count": 35,
   "id": "836d02f6-b27b-47f9-9393-0a631971793b",
   "metadata": {},
   "outputs": [
    {
     "data": {
      "text/plain": [
       "140731890613272"
      ]
     },
     "execution_count": 35,
     "metadata": {},
     "output_type": "execute_result"
    }
   ],
   "source": [
    "id(y) #3272 is a Id"
   ]
  },
  {
   "cell_type": "code",
   "execution_count": 36,
   "id": "c62c7547-bcd8-43ef-991a-259b480672b8",
   "metadata": {},
   "outputs": [
    {
     "data": {
      "text/plain": [
       "140731890612952"
      ]
     },
     "execution_count": 36,
     "metadata": {},
     "output_type": "execute_result"
    }
   ],
   "source": [
    "y=10 #x=10 also has same address ,it used availbale memroy\n",
    "id(y)"
   ]
  },
  {
   "cell_type": "code",
   "execution_count": null,
   "id": "513f950e-039d-4e53-81a0-38c101fa1890",
   "metadata": {},
   "outputs": [],
   "source": []
  }
 ],
 "metadata": {
  "kernelspec": {
   "display_name": "Python 3 (ipykernel)",
   "language": "python",
   "name": "python3"
  },
  "language_info": {
   "codemirror_mode": {
    "name": "ipython",
    "version": 3
   },
   "file_extension": ".py",
   "mimetype": "text/x-python",
   "name": "python",
   "nbconvert_exporter": "python",
   "pygments_lexer": "ipython3",
   "version": "3.12.4"
  }
 },
 "nbformat": 4,
 "nbformat_minor": 5
}
