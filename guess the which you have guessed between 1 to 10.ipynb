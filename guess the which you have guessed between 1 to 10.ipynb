{
 "cells": [
  {
   "cell_type": "code",
   "execution_count": 23,
   "id": "5ab6f466-7d7c-497a-9707-4afd2f121575",
   "metadata": {},
   "outputs": [
    {
     "name": "stdin",
     "output_type": "stream",
     "text": [
      "guess a number within 1 to 10 and press enter \n"
     ]
    },
    {
     "name": "stdout",
     "output_type": "stream",
     "text": [
      "\n",
      "\n",
      " multiply that number by 2\n"
     ]
    },
    {
     "name": "stdin",
     "output_type": "stream",
     "text": [
      "\n",
      " if you multiplied that number by 2..... then press enter \n"
     ]
    },
    {
     "name": "stdout",
     "output_type": "stream",
     "text": [
      "\n",
      "\n",
      " add 10 with that number\n"
     ]
    },
    {
     "name": "stdin",
     "output_type": "stream",
     "text": [
      "\n",
      " if you add 10 in that number...... then press enter \n"
     ]
    },
    {
     "name": "stdout",
     "output_type": "stream",
     "text": [
      "\n",
      "\n",
      " divide that total with 2\n"
     ]
    },
    {
     "name": "stdin",
     "output_type": "stream",
     "text": [
      "\n",
      " if you divided that number....... then press enter \n"
     ]
    },
    {
     "name": "stdout",
     "output_type": "stream",
     "text": [
      "\n",
      "\n",
      " substract 5 within your guessed number\n"
     ]
    },
    {
     "name": "stdin",
     "output_type": "stream",
     "text": [
      "\n",
      " if you substracted 5 within assumed number..... then press enter \n",
      "\n",
      "\n",
      " the remaining is the number that you have guessed..........press enter \n"
     ]
    },
    {
     "name": "stdout",
     "output_type": "stream",
     "text": [
      "\n",
      "\n",
      "for ex..........if you have remainining 6 then 6-5 :- you have guessed 1\n",
      "for ex..........if you have remainining 7 then 7-5:- you have guessed 2\n",
      "for ex..........if you have remainining 8 then 8-5:- you have guessed 3\n",
      "for ex..........if you have remainining 9 then 9-5:- you have guessed 4\n",
      "for ex..........if you have remainining 10 then 10-5:- you have guessed 5\n",
      "for ex..........if you have remainining 11 then 11-5:- you have guessed 6\n",
      "for ex..........if you have remainining 12 then 12-5:- you have guessed 7\n",
      "for ex..........if you have remainining 13 then 13-5:- you have guessed 8\n",
      "for ex..........if you have remainining 14 then 14-5:- you have guessed 9\n",
      "for ex..........if you have remainining 15 then 15-5:- you have guessed 10\n"
     ]
    }
   ],
   "source": [
    "#guess the number between 1 to 10 magic trick\n",
    "\n",
    "\n",
    "\n",
    "num=input(\"guess a number within 1 to 10 and press enter\")\n",
    "print(\"\\n\\n multiply that number by 2\")\n",
    "num1=input(\"\\n if you multiplied that number by 2..... then press enter\")\n",
    "print(\"\\n\\n add 10 with that number\")\n",
    "num1=input(\"\\n if you add 10 in that number...... then press enter\")\n",
    "print(\"\\n\\n divide that total with 2\")\n",
    "num1=input(\"\\n if you divided that number....... then press enter\")\n",
    "print(\"\\n\\n substract 5 within your guessed number\")\n",
    "num1=input(\"\\n if you substracted 5 within assumed number..... then press enter\")\n",
    "num1=input(\"\\n\\n the remaining is the number that you have guessed..........press enter\")\n",
    "\n",
    "print(\"\\n\\nfor ex..........if you have remainining 6 then 6-5 :- you have guessed 1\")\n",
    "print(\"for ex..........if you have remainining 7 then 7-5:- you have guessed 2\")\n",
    "print(\"for ex..........if you have remainining 8 then 8-5:- you have guessed 3\")\n",
    "print(\"for ex..........if you have remainining 9 then 9-5:- you have guessed 4\")\n",
    "print(\"for ex..........if you have remainining 10 then 10-5:- you have guessed 5\")\n",
    "print(\"for ex..........if you have remainining 11 then 11-5:- you have guessed 6\")\n",
    "print(\"for ex..........if you have remainining 12 then 12-5:- you have guessed 7\")\n",
    "print(\"for ex..........if you have remainining 13 then 13-5:- you have guessed 8\")\n",
    "print(\"for ex..........if you have remainining 14 then 14-5:- you have guessed 9\")\n",
    "print(\"for ex..........if you have remainining 15 then 15-5:- you have guessed 10\")"
   ]
  },
  {
   "cell_type": "markdown",
   "id": "fbbcce07-b6a3-4fcc-b81b-8ac77f69b769",
   "metadata": {},
   "source": []
  }
 ],
 "metadata": {
  "kernelspec": {
   "display_name": "Python 3 (ipykernel)",
   "language": "python",
   "name": "python3"
  },
  "language_info": {
   "codemirror_mode": {
    "name": "ipython",
    "version": 3
   },
   "file_extension": ".py",
   "mimetype": "text/x-python",
   "name": "python",
   "nbconvert_exporter": "python",
   "pygments_lexer": "ipython3",
   "version": "3.12.4"
  }
 },
 "nbformat": 4,
 "nbformat_minor": 5
}
