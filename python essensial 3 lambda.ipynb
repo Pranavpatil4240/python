{
 "cells": [
  {
   "cell_type": "markdown",
   "id": "e60cca3d-c357-4703-ab1e-1ba87a67bd2e",
   "metadata": {},
   "source": [
    "how to define function\n",
    "\n"
   ]
  },
  {
   "cell_type": "code",
   "execution_count": null,
   "id": "8a2a220e-c1c2-468d-ade7-e8dd7fb20424",
   "metadata": {},
   "outputs": [],
   "source": [
    "#syntax\n",
    "\n",
    "function defination\n",
    "\n",
    "def fun_name(arguments):\n",
    "----business logic\n",
    "\n",
    "\n",
    "\n",
    "    return data"
   ]
  },
  {
   "cell_type": "code",
   "execution_count": null,
   "id": "58e9dcc6-dc13-403c-aa65-aa707f00ecaf",
   "metadata": {},
   "outputs": [],
   "source": [
    "function  call\n",
    "\n",
    "fun_name (Arguments)"
   ]
  },
  {
   "cell_type": "code",
   "execution_count": 7,
   "id": "2cae9c26-9cd7-45d3-91cf-a9c9668e50c0",
   "metadata": {},
   "outputs": [],
   "source": [
    "def addition(n1,n2):\n",
    "    result=n1+n2\n",
    "    return result\n",
    "    \n",
    "    \n",
    "    "
   ]
  },
  {
   "cell_type": "code",
   "execution_count": 8,
   "id": "db15150d-d3f7-43b4-b921-374684d0dc09",
   "metadata": {},
   "outputs": [
    {
     "data": {
      "text/plain": [
       "10"
      ]
     },
     "execution_count": 8,
     "metadata": {},
     "output_type": "execute_result"
    }
   ],
   "source": [
    "addition(5,5)"
   ]
  },
  {
   "cell_type": "code",
   "execution_count": null,
   "id": "37d87896-ceb3-4538-8871-4e662809e0be",
   "metadata": {},
   "outputs": [],
   "source": [
    "a=addition(5,5)#if you want to store value for next operation \n",
    "a #for print"
   ]
  },
  {
   "cell_type": "code",
   "execution_count": 17,
   "id": "b0990f37-6034-4c88-bf68-5d62a071dcaf",
   "metadata": {},
   "outputs": [],
   "source": [
    "#to find area of circle\n",
    "\n",
    "def area_of_circle(r):\n",
    "    area=3.14*r*r\n",
    "    print(area)\n",
    "\n"
   ]
  },
  {
   "cell_type": "code",
   "execution_count": 14,
   "id": "5f261615-da46-40f6-905f-e96298403c58",
   "metadata": {},
   "outputs": [
    {
     "name": "stdout",
     "output_type": "stream",
     "text": [
      "78.5\n"
     ]
    }
   ],
   "source": [
    "area_of_circle(5)\n"
   ]
  },
  {
   "cell_type": "markdown",
   "id": "3d823edd-6779-49a1-b372-25a837c5a10d",
   "metadata": {},
   "source": [
    "Pass something return nothing"
   ]
  },
  {
   "cell_type": "code",
   "execution_count": 1,
   "id": "945fe628-6f32-4996-9faf-4fadffff564e",
   "metadata": {},
   "outputs": [],
   "source": [
    "def addition (a,b):\n",
    "    c=a+b\n",
    "    print(\"addition:\",c)"
   ]
  },
  {
   "cell_type": "code",
   "execution_count": 3,
   "id": "20d41c10-9eff-4bc7-8acf-904ce4f3222b",
   "metadata": {},
   "outputs": [
    {
     "name": "stdout",
     "output_type": "stream",
     "text": [
      "addition: 7\n",
      "hello\n"
     ]
    }
   ],
   "source": [
    "addition(2,5)\n",
    "print(\"hello\")"
   ]
  },
  {
   "cell_type": "markdown",
   "id": "7a2f03b4-8054-4478-a59c-59b6692f5e4b",
   "metadata": {},
   "source": [
    "pass nothing return something"
   ]
  },
  {
   "cell_type": "code",
   "execution_count": null,
   "id": "bf3d2622-d606-4f25-809f-dc21e95bfc69",
   "metadata": {},
   "outputs": [],
   "source": [
    "def add():\n",
    "    a=4\n",
    "    b=5\n",
    "    c=a+b\n",
    "    return c\n",
    "c=add()\n",
    "print(\"addition\",c)\n",
    "print(\"hello\")"
   ]
  },
  {
   "cell_type": "markdown",
   "id": "8cd90a9e-e15a-4cff-ae0b-c1aae9597a75",
   "metadata": {},
   "source": [
    "pass nothing return nothing"
   ]
  },
  {
   "cell_type": "code",
   "execution_count": 5,
   "id": "d2d13bce-0d86-49b5-8513-bdd52c85c569",
   "metadata": {},
   "outputs": [
    {
     "name": "stdout",
     "output_type": "stream",
     "text": [
      "addition 9\n",
      "hello\n"
     ]
    }
   ],
   "source": [
    "def add():\n",
    "    a=4\n",
    "    b=5\n",
    "    c=a+b\n",
    "print(\"addition\",c)\n",
    "add()\n",
    "print(\"hello\")"
   ]
  },
  {
   "cell_type": "markdown",
   "id": "41c9f6ec-a9a6-4ce7-bcd6-5455a7cb829e",
   "metadata": {},
   "source": [
    "lambda"
   ]
  },
  {
   "cell_type": "code",
   "execution_count": 10,
   "id": "aff7e58c-67c4-42bc-9e38-2d5fdc903f43",
   "metadata": {},
   "outputs": [
    {
     "data": {
      "text/plain": [
       "12"
      ]
     },
     "execution_count": 10,
     "metadata": {},
     "output_type": "execute_result"
    }
   ],
   "source": [
    "#lambda is a single line expression\n",
    "#it is anonymous function because he has no name\n",
    "\n",
    "\n",
    "#syntax \n",
    "#lambda args : expr\n",
    "\n",
    "add =lambda a,b :a+b\n",
    "add (5,7)"
   ]
  },
  {
   "cell_type": "code",
   "execution_count": 12,
   "id": "0dd653b5-3905-4c93-9311-e3d172a1cd9e",
   "metadata": {},
   "outputs": [
    {
     "data": {
      "text/plain": [
       "78.5"
      ]
     },
     "execution_count": 12,
     "metadata": {},
     "output_type": "execute_result"
    }
   ],
   "source": [
    "#to calculate area of a cirle in single line\n",
    "aoc =lambda r : 3.14*r*r\n",
    "aoc (5)"
   ]
  },
  {
   "cell_type": "code",
   "execution_count": 14,
   "id": "0d1d1c58-b184-4597-ac58-b136f5b7e6c3",
   "metadata": {},
   "outputs": [
    {
     "data": {
      "text/plain": [
       "'odd'"
      ]
     },
     "execution_count": 14,
     "metadata": {},
     "output_type": "execute_result"
    }
   ],
   "source": [
    "#check the number is even or odd\n",
    "num=lambda x:'even'  if x%2==0 else 'odd'\n",
    "num(5)"
   ]
  },
  {
   "cell_type": "code",
   "execution_count": null,
   "id": "b19fad06-fecf-49cb-8588-6658556898c7",
   "metadata": {},
   "outputs": [],
   "source": [
    "\n"
   ]
  },
  {
   "cell_type": "code",
   "execution_count": null,
   "id": "074439dc-a777-4386-90de-543d8e5bdf60",
   "metadata": {},
   "outputs": [],
   "source": []
  }
 ],
 "metadata": {
  "kernelspec": {
   "display_name": "Python 3 (ipykernel)",
   "language": "python",
   "name": "python3"
  },
  "language_info": {
   "codemirror_mode": {
    "name": "ipython",
    "version": 3
   },
   "file_extension": ".py",
   "mimetype": "text/x-python",
   "name": "python",
   "nbconvert_exporter": "python",
   "pygments_lexer": "ipython3",
   "version": "3.12.4"
  }
 },
 "nbformat": 4,
 "nbformat_minor": 5
}
