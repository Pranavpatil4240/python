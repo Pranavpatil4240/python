{
 "cells": [
  {
   "cell_type": "code",
   "execution_count": 32,
   "id": "bed83d3b-a01d-4418-8a79-af6540f606be",
   "metadata": {},
   "outputs": [
    {
     "name": "stdin",
     "output_type": "stream",
     "text": [
      "Enter the list of numbers separated by spaces:  1 5 6 4 7 9 10\n"
     ]
    },
    {
     "name": "stdout",
     "output_type": "stream",
     "text": [
      "Even numbers in the list: [6, 4, 10]\n",
      "Squares of even numbers: [36, 16, 100]\n",
      "Odd numbers in the list: [1, 5, 7, 9]\n",
      "Square roots of odd numbers minus the number itself: [0.0, -2.76393202250021, -4.354248688935409, -6.0]\n"
     ]
    }
   ],
   "source": [
    "\n",
    "import math\n",
    "\n",
    "def process_numbers(input_list):\n",
    "    even_list = []\n",
    "    odd_list = []\n",
    "\n",
    "    for num in input_list:\n",
    "        if num % 2 == 0:\n",
    "            even_list.append(num)\n",
    "        else:\n",
    "            odd_list.append(num)\n",
    "\n",
    "   \n",
    "    even_squares = [num**2 for num in even_list]\n",
    "\n",
    " \n",
    "    odd_square_roots = [math.sqrt(num) - num for num in odd_list]\n",
    "\n",
    "    return even_list, even_squares, odd_list, odd_square_roots\n",
    "\n",
    "\n",
    "input_list = [int(x) for x in input(\"Enter the list of numbers separated by spaces: \").split()]\n",
    "\n",
    "even_list, even_squares, odd_list, odd_square_roots = process_numbers(input_list)\n",
    "\n",
    "\n",
    "print(\"Even numbers in the list:\", even_list)\n",
    "print(\"Squares of even numbers:\", even_squares)\n",
    "print(\"Odd numbers in the list:\", odd_list)\n",
    "print(\"Square roots of odd numbers minus the number itself:\", odd_square_roots)\n",
    "\n",
    "\n"
   ]
  },
  {
   "cell_type": "code",
   "execution_count": 44,
   "id": "7922559c-3d87-44cd-8018-f75012f8791f",
   "metadata": {},
   "outputs": [
    {
     "name": "stdin",
     "output_type": "stream",
     "text": [
      "enter any numbers 1\n",
      "enter any numbers 2\n",
      "enter any numbers 3\n",
      "enter any numbers 4\n",
      "enter any numbers 5\n",
      "enter any numbers 6\n",
      "enter any numbers 7\n",
      "enter any numbers 8\n",
      "enter any numbers 9\n",
      "enter any numbers 10\n"
     ]
    },
    {
     "name": "stdout",
     "output_type": "stream",
     "text": [
      "Input numbers list: [1, 2, 3, 4, 5, 6, 7, 8, 9, 10]\n",
      "odd numbers list: [0.0, 1.2679491924311228, 2.76393202250021, 4.354248688935409, 6.0]\n",
      "even numbers list: [4, 16, 36, 64, 100]\n",
      "total even numbers count is: 5\n",
      "total odd numbers count is 5\n"
     ]
    }
   ],
   "source": [
    "#same  program of tutor\n",
    "mainlist =[]\n",
    "oddlist=[]\n",
    "evenlist=[]\n",
    "even=odd=0\n",
    "for i in range (10):\n",
    "    num=int(input(\"enter any numbers\"))\n",
    "    mainlist.append(num)\n",
    "    if num%2==0:\n",
    "            evenlist.append(num**2)\n",
    "            even=even+1\n",
    "    else:\n",
    "        oddlist.append(num-(num**0.5))\n",
    "        odd=odd+1\n",
    "print(\"Input numbers list:\",mainlist)\n",
    "print(\"odd numbers list:\",oddlist)\n",
    "print(\"even numbers list:\",evenlist)\n",
    "print(\"total even numbers count is:\",even)\n",
    "print(\"total odd numbers count is\",odd)"
   ]
  },
  {
   "cell_type": "code",
   "execution_count": 45,
   "id": "64bfdb22-d0c9-4df1-828e-29f24d5d7a38",
   "metadata": {},
   "outputs": [],
   "source": [
    "t=tuple() #empty tuple"
   ]
  },
  {
   "cell_type": "code",
   "execution_count": 46,
   "id": "10e53e3f-2803-4a40-884f-f0cc44100079",
   "metadata": {},
   "outputs": [
    {
     "name": "stdout",
     "output_type": "stream",
     "text": [
      "<class 'tuple'>\n"
     ]
    }
   ],
   "source": [
    "print (type(t))"
   ]
  },
  {
   "cell_type": "code",
   "execution_count": 48,
   "id": "d19a3c98-c6ba-4192-ba6f-f1a8f6008573",
   "metadata": {},
   "outputs": [
    {
     "data": {
      "text/plain": [
       "tuple"
      ]
     },
     "execution_count": 48,
     "metadata": {},
     "output_type": "execute_result"
    }
   ],
   "source": [
    "t1=()\n",
    "type(t1)"
   ]
  },
  {
   "cell_type": "code",
   "execution_count": 49,
   "id": "8883af02-e4e3-48ab-b518-4c592917bfbb",
   "metadata": {},
   "outputs": [
    {
     "data": {
      "text/plain": [
       "list"
      ]
     },
     "execution_count": 49,
     "metadata": {},
     "output_type": "execute_result"
    }
   ],
   "source": [
    "t1=[]\n",
    "type(t1)"
   ]
  },
  {
   "cell_type": "code",
   "execution_count": 50,
   "id": "448bd9b1-5fb1-4922-bf93-b44ab58cdbeb",
   "metadata": {},
   "outputs": [],
   "source": [
    "t2=(2,3,4,5,6,7)"
   ]
  },
  {
   "cell_type": "code",
   "execution_count": 51,
   "id": "aa288124-c142-4210-b43e-b73758700a42",
   "metadata": {},
   "outputs": [
    {
     "data": {
      "text/plain": [
       "(2, 3, 4, 5, 6, 7)"
      ]
     },
     "execution_count": 51,
     "metadata": {},
     "output_type": "execute_result"
    }
   ],
   "source": [
    "t2"
   ]
  },
  {
   "cell_type": "code",
   "execution_count": 52,
   "id": "3fef0691-e7b2-4d0b-ba79-232e58462b52",
   "metadata": {},
   "outputs": [
    {
     "data": {
      "text/plain": [
       "6"
      ]
     },
     "execution_count": 52,
     "metadata": {},
     "output_type": "execute_result"
    }
   ],
   "source": [
    "t2[4]"
   ]
  },
  {
   "cell_type": "code",
   "execution_count": 53,
   "id": "e39f825e-768c-409b-ab62-b77247cd10d7",
   "metadata": {},
   "outputs": [],
   "source": [
    "t4=tuple([1,2,3,4,5])"
   ]
  },
  {
   "cell_type": "code",
   "execution_count": 54,
   "id": "10c02c11-2c18-45cd-9d6d-1839cb3112df",
   "metadata": {},
   "outputs": [
    {
     "data": {
      "text/plain": [
       "(1, 2, 3, 4, 5)"
      ]
     },
     "execution_count": 54,
     "metadata": {},
     "output_type": "execute_result"
    }
   ],
   "source": [
    "t4"
   ]
  },
  {
   "cell_type": "code",
   "execution_count": 55,
   "id": "62be737f-177b-4ceb-828d-585759ebccb8",
   "metadata": {},
   "outputs": [
    {
     "data": {
      "text/plain": [
       "(3,)"
      ]
     },
     "execution_count": 55,
     "metadata": {},
     "output_type": "execute_result"
    }
   ],
   "source": [
    "t4=(1,2,3,4,5)\n",
    "t4[2:3]"
   ]
  },
  {
   "cell_type": "code",
   "execution_count": 56,
   "id": "8c70ba6d-b1b3-4166-b7d4-d8c0fa640bd6",
   "metadata": {},
   "outputs": [
    {
     "ename": "TypeError",
     "evalue": "'tuple' object does not support item assignment",
     "output_type": "error",
     "traceback": [
      "\u001b[1;31m---------------------------------------------------------------------------\u001b[0m",
      "\u001b[1;31mTypeError\u001b[0m                                 Traceback (most recent call last)",
      "Cell \u001b[1;32mIn[56], line 1\u001b[0m\n\u001b[1;32m----> 1\u001b[0m t4[\u001b[38;5;241m3\u001b[39m]\u001b[38;5;241m=\u001b[39m\u001b[38;5;241m30\u001b[39m\n",
      "\u001b[1;31mTypeError\u001b[0m: 'tuple' object does not support item assignment"
     ]
    }
   ],
   "source": [
    "t4[3]=30 #immutable word meaning"
   ]
  },
  {
   "cell_type": "code",
   "execution_count": 57,
   "id": "bc76dcbf-b526-4084-a515-9e59fed9c7f5",
   "metadata": {},
   "outputs": [
    {
     "ename": "TypeError",
     "evalue": "'tuple' object doesn't support item deletion",
     "output_type": "error",
     "traceback": [
      "\u001b[1;31m---------------------------------------------------------------------------\u001b[0m",
      "\u001b[1;31mTypeError\u001b[0m                                 Traceback (most recent call last)",
      "Cell \u001b[1;32mIn[57], line 1\u001b[0m\n\u001b[1;32m----> 1\u001b[0m \u001b[38;5;28;01mdel\u001b[39;00m t4[\u001b[38;5;241m4\u001b[39m]\n",
      "\u001b[1;31mTypeError\u001b[0m: 'tuple' object doesn't support item deletion"
     ]
    }
   ],
   "source": [
    "del t4[4] #immuatable we cannot assighn and delete elements from the tuple"
   ]
  },
  {
   "cell_type": "code",
   "execution_count": 63,
   "id": "ecac1868-1449-4a20-a73e-03e731dc25a0",
   "metadata": {},
   "outputs": [
    {
     "data": {
      "text/plain": [
       "(4, 3, 6, 2, 8, 5, [4, 8, 3], 9, 6)"
      ]
     },
     "execution_count": 63,
     "metadata": {},
     "output_type": "execute_result"
    }
   ],
   "source": [
    "t5=(4,3,6,2,8,5,[4,8,3,],9,6)\n",
    "t5\n"
   ]
  },
  {
   "cell_type": "code",
   "execution_count": 64,
   "id": "2fd51c70-b1e1-4422-ae9a-6f97424ab511",
   "metadata": {},
   "outputs": [
    {
     "ename": "TypeError",
     "evalue": "'tuple' object does not support item assignment",
     "output_type": "error",
     "traceback": [
      "\u001b[1;31m---------------------------------------------------------------------------\u001b[0m",
      "\u001b[1;31mTypeError\u001b[0m                                 Traceback (most recent call last)",
      "Cell \u001b[1;32mIn[64], line 1\u001b[0m\n\u001b[1;32m----> 1\u001b[0m t5[\u001b[38;5;241m6\u001b[39m]\u001b[38;5;241m=\u001b[39m\u001b[38;5;241m30\u001b[39m\n",
      "\u001b[1;31mTypeError\u001b[0m: 'tuple' object does not support item assignment"
     ]
    }
   ],
   "source": [
    "t5[6]=30"
   ]
  },
  {
   "cell_type": "code",
   "execution_count": 67,
   "id": "a8328bed-ec19-4678-8441-2b79b5e88808",
   "metadata": {},
   "outputs": [],
   "source": [
    "t5[6][1]=90"
   ]
  },
  {
   "cell_type": "code",
   "execution_count": 68,
   "id": "0cd21846-a8cc-4166-8c3c-774eeed1a1c5",
   "metadata": {},
   "outputs": [
    {
     "data": {
      "text/plain": [
       "(4, 3, 6, 2, 8, 5, [4, 90, 3], 9, 6)"
      ]
     },
     "execution_count": 68,
     "metadata": {},
     "output_type": "execute_result"
    }
   ],
   "source": [
    "t5"
   ]
  },
  {
   "cell_type": "code",
   "execution_count": 70,
   "id": "e7435ede-4c40-450b-aea6-bb93c4674041",
   "metadata": {},
   "outputs": [],
   "source": [
    "#count\n",
    "\n",
    "mytuple=('one','two','three','four','one',\n",
    "         'one','two','three')"
   ]
  },
  {
   "cell_type": "code",
   "execution_count": 71,
   "id": "6cc40898-5445-4fbe-8609-a78293429ef0",
   "metadata": {},
   "outputs": [
    {
     "data": {
      "text/plain": [
       "('one', 'two', 'three', 'four', 'one', 'one', 'two', 'three')"
      ]
     },
     "execution_count": 71,
     "metadata": {},
     "output_type": "execute_result"
    }
   ],
   "source": [
    "mytuple"
   ]
  },
  {
   "cell_type": "code",
   "execution_count": 74,
   "id": "f8e0c3a1-ce4f-40c4-82a6-6587285c0a36",
   "metadata": {},
   "outputs": [
    {
     "data": {
      "text/plain": [
       "8"
      ]
     },
     "execution_count": 74,
     "metadata": {},
     "output_type": "execute_result"
    }
   ],
   "source": [
    "len(mytuple)"
   ]
  },
  {
   "cell_type": "code",
   "execution_count": 75,
   "id": "4ea5648a-b204-44c1-8b23-d91255c4d8ee",
   "metadata": {},
   "outputs": [
    {
     "data": {
      "text/plain": [
       "3"
      ]
     },
     "execution_count": 75,
     "metadata": {},
     "output_type": "execute_result"
    }
   ],
   "source": [
    "mytuple.count('one')"
   ]
  },
  {
   "cell_type": "code",
   "execution_count": 78,
   "id": "21f35dfa-5f77-41c8-b0ad-3231b6805e46",
   "metadata": {},
   "outputs": [
    {
     "data": {
      "text/plain": [
       "1"
      ]
     },
     "execution_count": 78,
     "metadata": {},
     "output_type": "execute_result"
    }
   ],
   "source": [
    "mytuple.index('two')"
   ]
  },
  {
   "cell_type": "code",
   "execution_count": 82,
   "id": "1d268b88-15b4-4d88-b539-084a9306489d",
   "metadata": {},
   "outputs": [],
   "source": [
    "#tuple membership\n",
    "\n",
    "mytuple2 =(1,2,3,4,9,8,7,6,5)"
   ]
  },
  {
   "cell_type": "code",
   "execution_count": 83,
   "id": "590dff3f-dfac-4b5c-bdc6-abe77cfe34c1",
   "metadata": {},
   "outputs": [
    {
     "data": {
      "text/plain": [
       "(1, 2, 3, 4, 9, 8, 7, 6, 5)"
      ]
     },
     "execution_count": 83,
     "metadata": {},
     "output_type": "execute_result"
    }
   ],
   "source": [
    "mytuple2"
   ]
  },
  {
   "cell_type": "code",
   "execution_count": 84,
   "id": "2c6531a1-a523-4e49-ad47-59ae1ac37967",
   "metadata": {},
   "outputs": [
    {
     "data": {
      "text/plain": [
       "[1, 2, 3, 4, 5, 6, 7, 8, 9]"
      ]
     },
     "execution_count": 84,
     "metadata": {},
     "output_type": "execute_result"
    }
   ],
   "source": [
    "sorted(mytuple2) #it sort in an ascending order"
   ]
  },
  {
   "cell_type": "code",
   "execution_count": 86,
   "id": "8e17dffc-8ab1-4c8d-8ca6-07a33317557e",
   "metadata": {},
   "outputs": [
    {
     "data": {
      "text/plain": [
       "[9, 8, 7, 6, 5, 4, 3, 2, 1]"
      ]
     },
     "execution_count": 86,
     "metadata": {},
     "output_type": "execute_result"
    }
   ],
   "source": [
    " sorted(mytuple2,reverse=True)#is sort in an dscending order"
   ]
  },
  {
   "cell_type": "code",
   "execution_count": 87,
   "id": "8ec2c3f9-c065-423a-9e9f-1eb702566c06",
   "metadata": {},
   "outputs": [
    {
     "data": {
      "text/plain": [
       "(1, 2, 3, 4, 9, 8, 7, 6, 5)"
      ]
     },
     "execution_count": 87,
     "metadata": {},
     "output_type": "execute_result"
    }
   ],
   "source": [
    "mytuple2"
   ]
  },
  {
   "cell_type": "code",
   "execution_count": 90,
   "id": "7f30d0b6-bfaa-4a2e-b91d-a2a9a3104d79",
   "metadata": {},
   "outputs": [],
   "source": [
    "mytuple3=(1,5,3,4,8,7,'pranav') "
   ]
  },
  {
   "cell_type": "code",
   "execution_count": 92,
   "id": "3b4656a4-cd31-4c29-ae2c-73cb8e68096b",
   "metadata": {},
   "outputs": [
    {
     "data": {
      "text/plain": [
       "(1, 5, 3, 4, 8, 7, 'pranav')"
      ]
     },
     "execution_count": 92,
     "metadata": {},
     "output_type": "execute_result"
    }
   ],
   "source": [
    "mytuple3"
   ]
  },
  {
   "cell_type": "code",
   "execution_count": 93,
   "id": "0b4f4953-919c-44f3-97ff-27d91545c532",
   "metadata": {},
   "outputs": [
    {
     "ename": "TypeError",
     "evalue": "'<' not supported between instances of 'str' and 'int'",
     "output_type": "error",
     "traceback": [
      "\u001b[1;31m---------------------------------------------------------------------------\u001b[0m",
      "\u001b[1;31mTypeError\u001b[0m                                 Traceback (most recent call last)",
      "Cell \u001b[1;32mIn[93], line 1\u001b[0m\n\u001b[1;32m----> 1\u001b[0m \u001b[38;5;28msorted\u001b[39m(mytuple3)\n",
      "\u001b[1;31mTypeError\u001b[0m: '<' not supported between instances of 'str' and 'int'"
     ]
    }
   ],
   "source": [
    "sorted(mytuple3)#it only works on homegeneous means it works on same datatype"
   ]
  },
  {
   "cell_type": "code",
   "execution_count": 97,
   "id": "10c5f3b5-97f1-4fdf-b18e-80135a7301d1",
   "metadata": {},
   "outputs": [
    {
     "data": {
      "text/plain": [
       "(1, 5, 3, 4, 8, 7)"
      ]
     },
     "execution_count": 97,
     "metadata": {},
     "output_type": "execute_result"
    }
   ],
   "source": [
    "mytuple3=(1,5,3,4,8,7) \n",
    "mytuple3"
   ]
  },
  {
   "cell_type": "code",
   "execution_count": 98,
   "id": "a5ad19b6-24df-4ace-9b1b-dcdd4f4fa2bf",
   "metadata": {},
   "outputs": [
    {
     "data": {
      "text/plain": [
       "[1, 3, 4, 5, 7, 8]"
      ]
     },
     "execution_count": 98,
     "metadata": {},
     "output_type": "execute_result"
    }
   ],
   "source": [
    "sorted(mytuple3) \n"
   ]
  },
  {
   "cell_type": "code",
   "execution_count": 99,
   "id": "f35e6d7d-8c83-4ca2-a3ab-10b8b648aa0d",
   "metadata": {},
   "outputs": [],
   "source": [
    "#create a list\n",
    "list=[1,5,4,3,2]\n"
   ]
  },
  {
   "cell_type": "code",
   "execution_count": 100,
   "id": "15675cb5-d4d4-4515-8f2b-f1cc643eb3b4",
   "metadata": {},
   "outputs": [
    {
     "data": {
      "text/plain": [
       "[1, 5, 4, 3, 2]"
      ]
     },
     "execution_count": 100,
     "metadata": {},
     "output_type": "execute_result"
    }
   ],
   "source": [
    "list"
   ]
  },
  {
   "cell_type": "code",
   "execution_count": 107,
   "id": "3d442e12-bfad-43a1-88ec-4d04e67e405a",
   "metadata": {},
   "outputs": [
    {
     "name": "stdout",
     "output_type": "stream",
     "text": [
      "Sorted List [1, 2, 3, 4, 5]\n"
     ]
    }
   ],
   "source": [
    "#sort the list in ascending order without using the sort function\n",
    "list=[1,5,4,3,2]\n",
    "for i in range(0, len(list)):\n",
    "    for j in range(i+1, len(list)):\n",
    "        if list[i] >= list[j]:\n",
    "            list[i], list[j] = list[j],list[i]\n",
    "print(\"Sorted List\", list)"
   ]
  },
  {
   "cell_type": "code",
   "execution_count": 13,
   "id": "4e9d9657-d4db-4cf8-800b-137c6d060152",
   "metadata": {},
   "outputs": [
    {
     "data": {
      "text/plain": [
       "[2, 3, 4, 5, 6, 6, 8, 9]"
      ]
     },
     "execution_count": 13,
     "metadata": {},
     "output_type": "execute_result"
    }
   ],
   "source": [
    "#program by tutor\n",
    "list1=[4,3,6,2,8,5,9,6]\n",
    "\n",
    "for i in range(len(list1)):\n",
    "    min1=list1[i]\n",
    "    for j in range (i+1,len(list1)):\n",
    "        if min1>list1[j]:\n",
    "            temp=list1[j]\n",
    "            list1[j]=min1 \n",
    "            min1=temp\n",
    "    list1[i]=min1\n",
    "\n",
    "list1\n",
    "        "
   ]
  },
  {
   "cell_type": "code",
   "execution_count": 14,
   "id": "fb3dc186-f53b-4989-8dfb-08bc42d96a4d",
   "metadata": {},
   "outputs": [],
   "source": [
    "\n",
    "#set creation\n",
    "myset1={} #empty set cannot be created by curly braces "
   ]
  },
  {
   "cell_type": "code",
   "execution_count": 15,
   "id": "29a71f73-fa5d-4446-8801-a24696e5c242",
   "metadata": {},
   "outputs": [
    {
     "data": {
      "text/plain": [
       "dict"
      ]
     },
     "execution_count": 15,
     "metadata": {},
     "output_type": "execute_result"
    }
   ],
   "source": [
    "type(myset1)"
   ]
  },
  {
   "cell_type": "code",
   "execution_count": 16,
   "id": "19c85560-caf4-481a-842f-293a0940d030",
   "metadata": {},
   "outputs": [
    {
     "data": {
      "text/plain": [
       "set"
      ]
     },
     "execution_count": 16,
     "metadata": {},
     "output_type": "execute_result"
    }
   ],
   "source": [
    "myset=set() #create an empty set ,you have to define set function to create empty set\n",
    "type(myset)"
   ]
  },
  {
   "cell_type": "code",
   "execution_count": 17,
   "id": "a10b7b5d-fe52-413b-9d07-084e7b4e86e6",
   "metadata": {},
   "outputs": [],
   "source": [
    "myset={1,2,3,4,5,1,2,6} #set of numnbers "
   ]
  },
  {
   "cell_type": "code",
   "execution_count": 18,
   "id": "41289513-cef6-468b-8661-777b2322444d",
   "metadata": {},
   "outputs": [
    {
     "data": {
      "text/plain": [
       "{1, 2, 3, 4, 5, 6}"
      ]
     },
     "execution_count": 18,
     "metadata": {},
     "output_type": "execute_result"
    }
   ],
   "source": [
    "myset"
   ]
  },
  {
   "cell_type": "code",
   "execution_count": 19,
   "id": "989d980f-d99a-417b-a2e4-38e25cca5296",
   "metadata": {},
   "outputs": [
    {
     "data": {
      "text/plain": [
       "6"
      ]
     },
     "execution_count": 19,
     "metadata": {},
     "output_type": "execute_result"
    }
   ],
   "source": [
    "len(myset)"
   ]
  },
  {
   "cell_type": "code",
   "execution_count": 20,
   "id": "a0c16524-355a-4e74-b2bb-0c21c03fddc8",
   "metadata": {},
   "outputs": [
    {
     "data": {
      "text/plain": [
       "{1, 2, 3, 4, 5}"
      ]
     },
     "execution_count": 20,
     "metadata": {},
     "output_type": "execute_result"
    }
   ],
   "source": [
    "myset={1,1,2,2,3,4,5,5}\n",
    "myset #duplicates elements are not allowed "
   ]
  },
  {
   "cell_type": "code",
   "execution_count": 21,
   "id": "144d9086-9a61-465d-8ecf-30045d0155f4",
   "metadata": {},
   "outputs": [
    {
     "data": {
      "text/plain": [
       "{1.79, 2.08, 3.99, 4.56, 5.45}"
      ]
     },
     "execution_count": 21,
     "metadata": {},
     "output_type": "execute_result"
    }
   ],
   "source": [
    "myset1={1.79,2.08,3.99,4.56,5.45}#set of float numbers\n",
    "myset1\n"
   ]
  },
  {
   "cell_type": "code",
   "execution_count": null,
   "id": "ac2e210a-2d46-432c-892e-dae2e7a8bc3e",
   "metadata": {},
   "outputs": [],
   "source": [
    "# Add and Remove items\n",
    "myset={2,3,4,6,3,5,2}\n",
    "\n"
   ]
  },
  {
   "cell_type": "code",
   "execution_count": 26,
   "id": "b7152754-cbf9-449d-8c22-8d2dffd6ddc9",
   "metadata": {},
   "outputs": [
    {
     "data": {
      "text/plain": [
       "{1, 2, 3, 4, 5, 50, '9', 9}"
      ]
     },
     "execution_count": 26,
     "metadata": {},
     "output_type": "execute_result"
    }
   ],
   "source": [
    "myset.add(9) #add item to a set using add() method\n",
    "myset"
   ]
  },
  {
   "cell_type": "code",
   "execution_count": 27,
   "id": "fa292c02-7b71-4625-949f-856ee494907a",
   "metadata": {},
   "outputs": [
    {
     "ename": "TypeError",
     "evalue": "'set' object is not subscriptable",
     "output_type": "error",
     "traceback": [
      "\u001b[1;31m---------------------------------------------------------------------------\u001b[0m",
      "\u001b[1;31mTypeError\u001b[0m                                 Traceback (most recent call last)",
      "Cell \u001b[1;32mIn[27], line 1\u001b[0m\n\u001b[1;32m----> 1\u001b[0m myset[\u001b[38;5;241m2\u001b[39m]\n",
      "\u001b[1;31mTypeError\u001b[0m: 'set' object is not subscriptable"
     ]
    }
   ],
   "source": [
    "myset[2]"
   ]
  },
  {
   "cell_type": "code",
   "execution_count": 28,
   "id": "61a7ad0a-8c1a-47c8-9666-e2dbb532f9ec",
   "metadata": {},
   "outputs": [
    {
     "data": {
      "text/plain": [
       "{1, 2, 3, 4, 5, 50, '9', 9}"
      ]
     },
     "execution_count": 28,
     "metadata": {},
     "output_type": "execute_result"
    }
   ],
   "source": [
    "myset.add(50)\n",
    "myset\n"
   ]
  },
  {
   "cell_type": "code",
   "execution_count": 29,
   "id": "2e179e22-8345-4326-b260-c5931430d0cf",
   "metadata": {},
   "outputs": [
    {
     "ename": "TypeError",
     "evalue": "'set' object is not subscriptable",
     "output_type": "error",
     "traceback": [
      "\u001b[1;31m---------------------------------------------------------------------------\u001b[0m",
      "\u001b[1;31mTypeError\u001b[0m                                 Traceback (most recent call last)",
      "Cell \u001b[1;32mIn[29], line 1\u001b[0m\n\u001b[1;32m----> 1\u001b[0m myset[\u001b[38;5;241m1\u001b[39m]\n",
      "\u001b[1;31mTypeError\u001b[0m: 'set' object is not subscriptable"
     ]
    }
   ],
   "source": [
    "myset[1] ##indexing is not supported in sets"
   ]
  },
  {
   "cell_type": "code",
   "execution_count": 31,
   "id": "f45b947f-abf3-41e6-b109-8adfc70f0243",
   "metadata": {},
   "outputs": [
    {
     "data": {
      "text/plain": [
       "{1, 2, 3, 4, 5, 50, '9', 9, 'ELEVEN', 'TEN', 'TWELVE'}"
      ]
     },
     "execution_count": 31,
     "metadata": {},
     "output_type": "execute_result"
    }
   ],
   "source": [
    "myset.update(['TEN','ELEVEN','TWELVE']) #add multiple items to a set using update function\n",
    "myset"
   ]
  },
  {
   "cell_type": "code",
   "execution_count": 32,
   "id": "30fa58c5-d53c-4aa5-a1aa-da4703775a2e",
   "metadata": {},
   "outputs": [
    {
     "data": {
      "text/plain": [
       "{1, 10, 2, 3, 4, 5, 50, '9', 9, 'ELEVEN', 'TEN', 'TWELVE'}"
      ]
     },
     "execution_count": 32,
     "metadata": {},
     "output_type": "execute_result"
    }
   ],
   "source": [
    "myset.update([10]) #add multiple items to a set using update fucntion\n",
    "myset"
   ]
  },
  {
   "cell_type": "code",
   "execution_count": 33,
   "id": "b9314abb-63c8-44cc-858c-d53b101667b1",
   "metadata": {},
   "outputs": [
    {
     "data": {
      "text/plain": [
       "{1, 10, 2, 3, 4, 5, 50, '9', 9, 'ELEVEN', 'TWELVE'}"
      ]
     },
     "execution_count": 33,
     "metadata": {},
     "output_type": "execute_result"
    }
   ],
   "source": [
    "myset.remove('TEN') #remove item in a set using remove function\n",
    "myset"
   ]
  },
  {
   "cell_type": "code",
   "execution_count": 34,
   "id": "0d239fa8-f2b7-4827-9e6a-47475d9052f5",
   "metadata": {},
   "outputs": [],
   "source": [
    "myset.update([False])"
   ]
  },
  {
   "cell_type": "code",
   "execution_count": 35,
   "id": "5537865e-e7a2-4a01-924e-99a0f14401da",
   "metadata": {},
   "outputs": [
    {
     "data": {
      "text/plain": [
       "{1, 10, 2, 3, 4, 5, 50, '9', 9, 'ELEVEN', False, 'TWELVE'}"
      ]
     },
     "execution_count": 35,
     "metadata": {},
     "output_type": "execute_result"
    }
   ],
   "source": [
    "myset"
   ]
  },
  {
   "cell_type": "code",
   "execution_count": 36,
   "id": "31f15d63-c842-49b8-b777-bf1bbc93200a",
   "metadata": {},
   "outputs": [
    {
     "data": {
      "text/plain": [
       "{1, 10, 2, 3, 4, 5, 50, 9, 'ELEVEN', False, 'TWELVE'}"
      ]
     },
     "execution_count": 36,
     "metadata": {},
     "output_type": "execute_result"
    }
   ],
   "source": [
    "myset.discard('9')#remove item from a set using discard fucntion\n",
    "myset"
   ]
  },
  {
   "cell_type": "code",
   "execution_count": 38,
   "id": "3ae64e82-14f6-4752-9df1-d1256af93553",
   "metadata": {},
   "outputs": [
    {
     "data": {
      "text/plain": [
       "set()"
      ]
     },
     "execution_count": 38,
     "metadata": {},
     "output_type": "execute_result"
    }
   ],
   "source": [
    "myset.clear() #to delete all items in a set\n",
    "myset"
   ]
  },
  {
   "cell_type": "code",
   "execution_count": 43,
   "id": "fa63dcd3-b527-41bd-a1ab-094546ee6a2c",
   "metadata": {},
   "outputs": [
    {
     "ename": "NameError",
     "evalue": "name 'myset' is not defined",
     "output_type": "error",
     "traceback": [
      "\u001b[1;31m---------------------------------------------------------------------------\u001b[0m",
      "\u001b[1;31mNameError\u001b[0m                                 Traceback (most recent call last)",
      "Cell \u001b[1;32mIn[43], line 3\u001b[0m\n\u001b[0;32m      1\u001b[0m myset\u001b[38;5;241m=\u001b[39m{\u001b[38;5;241m1\u001b[39m,\u001b[38;5;241m2\u001b[39m,\u001b[38;5;241m3\u001b[39m,\u001b[38;5;241m4\u001b[39m,\u001b[38;5;241m5\u001b[39m}\n\u001b[0;32m      2\u001b[0m \u001b[38;5;28;01mdel\u001b[39;00m myset \u001b[38;5;66;03m#delete the set  of \u001b[39;00m\n\u001b[1;32m----> 3\u001b[0m myset\n",
      "\u001b[1;31mNameError\u001b[0m: name 'myset' is not defined"
     ]
    }
   ],
   "source": [
    "\n",
    "myset={1,2,3,4,5}\n",
    "del myset #delete the set  of \n",
    "myset\n"
   ]
  },
  {
   "cell_type": "code",
   "execution_count": 44,
   "id": "8ff04272-e3d1-4a3a-9899-4e021ab689ce",
   "metadata": {},
   "outputs": [],
   "source": [
    "\n",
    "#set operations\n",
    "\n",
    "A= {1,2,3,4,5}\n",
    "B= {4,5,6,7,8}\n",
    "C= {8,9,10}\n",
    "\n"
   ]
  },
  {
   "cell_type": "code",
   "execution_count": 46,
   "id": "e2eaac77-4c4e-4df6-bb3e-a755aa1de31e",
   "metadata": {},
   "outputs": [
    {
     "data": {
      "text/plain": [
       "{1, 2, 3, 4, 5, 6, 7, 8}"
      ]
     },
     "execution_count": 46,
     "metadata": {},
     "output_type": "execute_result"
    }
   ],
   "source": [
    "A.union(B) #union of A and B"
   ]
  },
  {
   "cell_type": "code",
   "execution_count": 47,
   "id": "755c4aee-7a2c-44a8-9e1f-ea9525acacae",
   "metadata": {},
   "outputs": [
    {
     "data": {
      "text/plain": [
       "{1, 2, 3, 4, 5, 6, 7, 8}"
      ]
     },
     "execution_count": 47,
     "metadata": {},
     "output_type": "execute_result"
    }
   ],
   "source": [
    "B.union(A)"
   ]
  },
  {
   "cell_type": "code",
   "execution_count": 51,
   "id": "8d8846a6-e5a7-47b1-b2c8-53906be30908",
   "metadata": {},
   "outputs": [
    {
     "data": {
      "text/plain": [
       "{1, 2, 3, 4, 5}"
      ]
     },
     "execution_count": 51,
     "metadata": {},
     "output_type": "execute_result"
    }
   ],
   "source": [
    "A.union (B, C) #union of A, B and C\n",
    "set(A)"
   ]
  },
  {
   "cell_type": "code",
   "execution_count": 52,
   "id": "dcca0de1-6413-426e-b3d7-a8900d94784e",
   "metadata": {},
   "outputs": [],
   "source": [
    "A= {1,2,3,4,5}\n",
    "B= {4,5,6,7,8}\n"
   ]
  },
  {
   "cell_type": "code",
   "execution_count": 53,
   "id": "610bd93e-3ac4-45e8-9f43-78a7cf9d44d2",
   "metadata": {},
   "outputs": [
    {
     "data": {
      "text/plain": [
       "{4, 5}"
      ]
     },
     "execution_count": 53,
     "metadata": {},
     "output_type": "execute_result"
    }
   ],
   "source": [
    "A.intersection(B)#intersection of A and B"
   ]
  },
  {
   "cell_type": "code",
   "execution_count": 55,
   "id": "98489683-9590-4b65-bf65-943a4cb16292",
   "metadata": {},
   "outputs": [
    {
     "data": {
      "text/plain": [
       "{1, 2, 3}"
      ]
     },
     "execution_count": 55,
     "metadata": {},
     "output_type": "execute_result"
    }
   ],
   "source": [
    " A.difference(B) # diffrence of set. set of elements means (a-b)"
   ]
  },
  {
   "cell_type": "code",
   "execution_count": 56,
   "id": "41dda785-389a-41ba-bca8-047789bae399",
   "metadata": {},
   "outputs": [
    {
     "data": {
      "text/plain": [
       "{6, 7, 8}"
      ]
     },
     "execution_count": 56,
     "metadata": {},
     "output_type": "execute_result"
    }
   ],
   "source": [
    "B.difference (A) #diffrence of set . set of elements that are only in "
   ]
  },
  {
   "cell_type": "code",
   "execution_count": 66,
   "id": "b8424cb8-47be-4b90-bf56-ba808eb80d38",
   "metadata": {},
   "outputs": [
    {
     "data": {
      "text/plain": [
       "{1, 2, 3, 6, 7, 8}"
      ]
     },
     "execution_count": 66,
     "metadata": {},
     "output_type": "execute_result"
    }
   ],
   "source": [
    "A= {1,2,3,4,5}  \n",
    "B= {4,5,6,7,8}\n",
    "A.union(B)- A.intersection(B)"
   ]
  },
  {
   "cell_type": "code",
   "execution_count": 67,
   "id": "87f2873a-a7ad-48e1-83a0-55fc9b39000e",
   "metadata": {},
   "outputs": [
    {
     "data": {
      "text/plain": [
       "{1, 2, 3, 4, 5, 6, 7, 8, 9, 10}"
      ]
     },
     "execution_count": 67,
     "metadata": {},
     "output_type": "execute_result"
    }
   ],
   "source": [
    "A= {1,2,3,4,5}\n",
    "B= {6,7,8,9,10}\n",
    "A.union(B)\n"
   ]
  },
  {
   "cell_type": "code",
   "execution_count": null,
   "id": "5451c1ef-efab-42c8-9dc0-b52352b50730",
   "metadata": {},
   "outputs": [],
   "source": [
    "#string......... collection of character called as string and it is immutable its near about 50 methods\n",
    "str \n",
    "'A a 1 #'\n",
    "\"\"    \"\"\n",
    "'''      '''\n",
    "\"\"\"      \"\"\"\n",
    "\n",
    "\n",
    "\n",
    "\n"
   ]
  },
  {
   "cell_type": "code",
   "execution_count": null,
   "id": "563056b4-7da2-48de-9402-97b2eb8c92a6",
   "metadata": {},
   "outputs": [],
   "source": [
    "#create a string\n",
    "\n"
   ]
  }
 ],
 "metadata": {
  "kernelspec": {
   "display_name": "Python 3 (ipykernel)",
   "language": "python",
   "name": "python3"
  },
  "language_info": {
   "codemirror_mode": {
    "name": "ipython",
    "version": 3
   },
   "file_extension": ".py",
   "mimetype": "text/x-python",
   "name": "python",
   "nbconvert_exporter": "python",
   "pygments_lexer": "ipython3",
   "version": "3.12.4"
  }
 },
 "nbformat": 4,
 "nbformat_minor": 5
}
