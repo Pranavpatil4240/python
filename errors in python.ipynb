{
 "cells": [
  {
   "cell_type": "markdown",
   "id": "1e5a9a5d-20cb-403a-8db9-8dfff7a3ddb5",
   "metadata": {},
   "source": [
    "Errors"
   ]
  },
  {
   "cell_type": "code",
   "execution_count": 1,
   "id": "4e769b0c-a06f-4caa-b6b9-9903dfcd5114",
   "metadata": {},
   "outputs": [
    {
     "ename": "ZeroDivisionError",
     "evalue": "division by zero",
     "output_type": "error",
     "traceback": [
      "\u001b[1;31m---------------------------------------------------------------------------\u001b[0m",
      "\u001b[1;31mZeroDivisionError\u001b[0m                         Traceback (most recent call last)",
      "Cell \u001b[1;32mIn[1], line 3\u001b[0m\n\u001b[0;32m      1\u001b[0m numerator\u001b[38;5;241m=\u001b[39m\u001b[38;5;241m100\u001b[39m\n\u001b[0;32m      2\u001b[0m denominator\u001b[38;5;241m=\u001b[39m\u001b[38;5;241m0\u001b[39m\n\u001b[1;32m----> 3\u001b[0m result\u001b[38;5;241m=\u001b[39mnumerator\u001b[38;5;241m/\u001b[39mdenominator\n\u001b[0;32m      4\u001b[0m \u001b[38;5;28mprint\u001b[39m(result)\n",
      "\u001b[1;31mZeroDivisionError\u001b[0m: division by zero"
     ]
    }
   ],
   "source": [
    "numerator=100\n",
    "denominator=0\n",
    "result=numerator/denominator\n",
    "print(result)"
   ]
  },
  {
   "cell_type": "code",
   "execution_count": 3,
   "id": "53b3c3cf-cdcf-4d1c-a1b0-f46016e1cfbe",
   "metadata": {},
   "outputs": [
    {
     "ename": "IndexError",
     "evalue": "list index out of range",
     "output_type": "error",
     "traceback": [
      "\u001b[1;31m---------------------------------------------------------------------------\u001b[0m",
      "\u001b[1;31mIndexError\u001b[0m                                Traceback (most recent call last)",
      "Cell \u001b[1;32mIn[3], line 2\u001b[0m\n\u001b[0;32m      1\u001b[0m even_numbers\u001b[38;5;241m=\u001b[39m[\u001b[38;5;241m2\u001b[39m,\u001b[38;5;241m4\u001b[39m,\u001b[38;5;241m6\u001b[39m,\u001b[38;5;241m8\u001b[39m]\n\u001b[1;32m----> 2\u001b[0m \u001b[38;5;28mprint\u001b[39m(even_numbers[\u001b[38;5;241m5\u001b[39m])\n",
      "\u001b[1;31mIndexError\u001b[0m: list index out of range"
     ]
    }
   ],
   "source": [
    "even_numbers=[2,4,6,8]\n",
    "print(even_numbers[5])"
   ]
  },
  {
   "cell_type": "code",
   "execution_count": 4,
   "id": "d19d4b99-d138-4232-a2e4-afef57bc4a1d",
   "metadata": {},
   "outputs": [
    {
     "ename": "NameError",
     "evalue": "name 'b' is not defined",
     "output_type": "error",
     "traceback": [
      "\u001b[1;31m---------------------------------------------------------------------------\u001b[0m",
      "\u001b[1;31mNameError\u001b[0m                                 Traceback (most recent call last)",
      "Cell \u001b[1;32mIn[4], line 1\u001b[0m\n\u001b[1;32m----> 1\u001b[0m \u001b[38;5;28mprint\u001b[39m(b)\n",
      "\u001b[1;31mNameError\u001b[0m: name 'b' is not defined"
     ]
    }
   ],
   "source": [
    "print(b)"
   ]
  },
  {
   "cell_type": "code",
   "execution_count": 5,
   "id": "74e179ba-04f1-4a32-9848-7e4ea1b8e72d",
   "metadata": {},
   "outputs": [
    {
     "ename": "KeyError",
     "evalue": "'b'",
     "output_type": "error",
     "traceback": [
      "\u001b[1;31m---------------------------------------------------------------------------\u001b[0m",
      "\u001b[1;31mKeyError\u001b[0m                                  Traceback (most recent call last)",
      "Cell \u001b[1;32mIn[5], line 2\u001b[0m\n\u001b[0;32m      1\u001b[0m d\u001b[38;5;241m=\u001b[39m{\u001b[38;5;124m'\u001b[39m\u001b[38;5;124ma\u001b[39m\u001b[38;5;124m'\u001b[39m:\u001b[38;5;124m'\u001b[39m\u001b[38;5;124mRam\u001b[39m\u001b[38;5;124m'\u001b[39m}\n\u001b[1;32m----> 2\u001b[0m d[\u001b[38;5;124m'\u001b[39m\u001b[38;5;124mb\u001b[39m\u001b[38;5;124m'\u001b[39m]\n",
      "\u001b[1;31mKeyError\u001b[0m: 'b'"
     ]
    }
   ],
   "source": [
    "d={'a':'Ram'}\n",
    "d['b']"
   ]
  },
  {
   "cell_type": "code",
   "execution_count": 6,
   "id": "efa33791-3e07-41e3-94fc-768aed5ee402",
   "metadata": {},
   "outputs": [
    {
     "ename": "TypeError",
     "evalue": "add() takes 1 positional argument but 2 were given",
     "output_type": "error",
     "traceback": [
      "\u001b[1;31m---------------------------------------------------------------------------\u001b[0m",
      "\u001b[1;31mTypeError\u001b[0m                                 Traceback (most recent call last)",
      "Cell \u001b[1;32mIn[6], line 3\u001b[0m\n\u001b[0;32m      1\u001b[0m \u001b[38;5;28;01mdef\u001b[39;00m \u001b[38;5;21madd\u001b[39m(a):\n\u001b[0;32m      2\u001b[0m     \u001b[38;5;28mprint\u001b[39m(a\u001b[38;5;241m+\u001b[39mb)\n\u001b[1;32m----> 3\u001b[0m add(\u001b[38;5;241m3\u001b[39m,\u001b[38;5;241m4\u001b[39m)\n",
      "\u001b[1;31mTypeError\u001b[0m: add() takes 1 positional argument but 2 were given"
     ]
    }
   ],
   "source": [
    "def add(a):\n",
    "    print(a+b)\n",
    "add(3,4)"
   ]
  },
  {
   "cell_type": "code",
   "execution_count": 8,
   "id": "88c6830d-3001-4ca4-b5de-55a60f7b2a58",
   "metadata": {},
   "outputs": [
    {
     "ename": "ValueError",
     "evalue": "invalid literal for int() with base 10: 'a'",
     "output_type": "error",
     "traceback": [
      "\u001b[1;31m---------------------------------------------------------------------------\u001b[0m",
      "\u001b[1;31mValueError\u001b[0m                                Traceback (most recent call last)",
      "Cell \u001b[1;32mIn[8], line 1\u001b[0m\n\u001b[1;32m----> 1\u001b[0m \u001b[38;5;28mint\u001b[39m(\u001b[38;5;124m\"\u001b[39m\u001b[38;5;124ma\u001b[39m\u001b[38;5;124m\"\u001b[39m)\n",
      "\u001b[1;31mValueError\u001b[0m: invalid literal for int() with base 10: 'a'"
     ]
    }
   ],
   "source": [
    "int(\"a\")"
   ]
  },
  {
   "cell_type": "code",
   "execution_count": 9,
   "id": "32eed7b4-ff09-4fd9-a2f7-7f1245b66584",
   "metadata": {},
   "outputs": [
    {
     "ename": "SyntaxError",
     "evalue": "cannot assign to literal here. Maybe you meant '==' instead of '='? (584301871.py, line 1)",
     "output_type": "error",
     "traceback": [
      "\u001b[1;36m  Cell \u001b[1;32mIn[9], line 1\u001b[1;36m\u001b[0m\n\u001b[1;33m    1='a'\u001b[0m\n\u001b[1;37m    ^\u001b[0m\n\u001b[1;31mSyntaxError\u001b[0m\u001b[1;31m:\u001b[0m cannot assign to literal here. Maybe you meant '==' instead of '='?\n"
     ]
    }
   ],
   "source": [
    "1='a'\n"
   ]
  },
  {
   "cell_type": "code",
   "execution_count": 10,
   "id": "c0422109-d7ca-44d6-844f-b8dbf9091ba6",
   "metadata": {},
   "outputs": [
    {
     "ename": "AttributeError",
     "evalue": "'list' object has no attribute 'apend'",
     "output_type": "error",
     "traceback": [
      "\u001b[1;31m---------------------------------------------------------------------------\u001b[0m",
      "\u001b[1;31mAttributeError\u001b[0m                            Traceback (most recent call last)",
      "Cell \u001b[1;32mIn[10], line 2\u001b[0m\n\u001b[0;32m      1\u001b[0m l\u001b[38;5;241m=\u001b[39m[]\n\u001b[1;32m----> 2\u001b[0m l\u001b[38;5;241m.\u001b[39mapend(\u001b[38;5;241m4\u001b[39m)\n",
      "\u001b[1;31mAttributeError\u001b[0m: 'list' object has no attribute 'apend'"
     ]
    }
   ],
   "source": [
    "l=[]\n",
    "l.apend(4)"
   ]
  },
  {
   "cell_type": "code",
   "execution_count": 12,
   "id": "e88b9b77-fe57-444b-aad1-9fd676540423",
   "metadata": {},
   "outputs": [
    {
     "ename": "ModuleNotFoundError",
     "evalue": "No module named 'sdtew'",
     "output_type": "error",
     "traceback": [
      "\u001b[1;31m---------------------------------------------------------------------------\u001b[0m",
      "\u001b[1;31mModuleNotFoundError\u001b[0m                       Traceback (most recent call last)",
      "Cell \u001b[1;32mIn[12], line 1\u001b[0m\n\u001b[1;32m----> 1\u001b[0m \u001b[38;5;28;01mimport\u001b[39;00m \u001b[38;5;21;01msdtew\u001b[39;00m\n",
      "\u001b[1;31mModuleNotFoundError\u001b[0m: No module named 'sdtew'"
     ]
    }
   ],
   "source": [
    "import sdtew"
   ]
  },
  {
   "cell_type": "code",
   "execution_count": null,
   "id": "681b537e-633c-44f2-bb78-a99f4203621d",
   "metadata": {},
   "outputs": [],
   "source": [
    "1.SyntaxError: This exception is raised when the interpreter encounters a syntax error in the code, such as a misspelled keyword, a missing colon, or an unbalanced parenthesis.\n",
    "\n",
    "2.TypeError: This exception is raised when an operation or function is applied to an object of the wrong type, such as adding a I string to an integer.\n",
    "\n",
    "3.NameError: This exception is raised when a variable or function name is not found in the current scope.\n",
    "\n",
    "4.IndexError: This exception is raised when an index is out of range for a list, tuple, or other sequence types.\n",
    "\n",
    "5.KeyError: This exception is raised when a key is not found in a dictionary.\n",
    "\n",
    "6.ValueError: This exception is raised when a function or method is called with an invalid argument or input, such as trying to convert a string to an integer when the string does not represent a valid integer.\n",
    "\n",
    "7.AttributeError: This exception is raised when an attribute or method is not found on an object, such as trying to access a non-\n",
    "\n",
    "8.existent attribute of a class instance.\n",
    "\n",
    "9.IOError: This exception is raised when an 1/0 operation, such as reading or writing a file, fails due to an input/output error.\n",
    "\n",
    "10.ZeroDivisionError: This exception is raised when an attempt is nade to divide a number by zero,\n",
    "\n",
    "11.ImportError: This exception is raised when an import statement fails to find or load a nodule."
   ]
  },
  {
   "cell_type": "code",
   "execution_count": null,
   "id": "9dab1966-a2e2-4eab-b5b2-f034eec86552",
   "metadata": {},
   "outputs": [],
   "source": [
    "try:\n",
    "    #code that may cause exception\n",
    "except:\n",
    "    #code to run when exception ocurs\n",
    "    "
   ]
  },
  {
   "cell_type": "code",
   "execution_count": 16,
   "id": "28060667-ec26-463d-838d-5cfb08f739ca",
   "metadata": {},
   "outputs": [
    {
     "name": "stdout",
     "output_type": "stream",
     "text": [
      "invalid input\n"
     ]
    }
   ],
   "source": [
    "try:\n",
    "    numerator=10\n",
    "    denomiator=0\n",
    "    result=numerator/denominator\n",
    "    print(result)\n",
    "except:\n",
    "    print(\"invalid input\")\n",
    "\n",
    "\n"
   ]
  },
  {
   "cell_type": "code",
   "execution_count": 4,
   "id": "2afa5c92-7cfb-4daa-8872-5dc81bece315",
   "metadata": {},
   "outputs": [
    {
     "name": "stdout",
     "output_type": "stream",
     "text": [
      "Denominator cannot be 0\n"
     ]
    }
   ],
   "source": [
    "\n",
    "try:\n",
    "    numerator=10\n",
    "    denominator=0\n",
    "    result=numerator/denominator\n",
    "    print(result)\n",
    "except ZeroDivisionError:\n",
    "    print(\"Denominator cannot be 0\")\n",
    "except IndexError:\n",
    "    print(\"Index Out of Bound\")"
   ]
  },
  {
   "cell_type": "code",
   "execution_count": null,
   "id": "5cde273e-7c13-4e19-b767-a57dc81d955a",
   "metadata": {},
   "outputs": [],
   "source": [
    "try:\n",
    "    even_numbers=[2,4,6,8]\n",
    "    print(even_numbers['5'])\n",
    "except ZeroDivisionError:\n",
    "    print(\"Denominator cannot be 0\")\n",
    "except IndexError:\n",
    "    print(\"Index Out of Bound\")\n",
    "\n",
    "except:\n",
    "    print(\"Error\")"
   ]
  },
  {
   "cell_type": "code",
   "execution_count": null,
   "id": "6fab52b7-b28c-4c8b-8faa-75f4c466b5de",
   "metadata": {},
   "outputs": [],
   "source": [
    "\n",
    "try:\n",
    "    numerator=10\n",
    "    denomiator=0\n",
    "    result=numerator/denominator\n",
    "    print(result)\n",
    "except ZeroDivisionError:\n",
    "    print(\"Error:Denominator cannot be 0\")\n",
    "finally:\n",
    "    print(\"This is a finally block\")"
   ]
  },
  {
   "cell_type": "code",
   "execution_count": null,
   "id": "8ce120c8-b9e8-4692-a38d-df604d49785c",
   "metadata": {},
   "outputs": [],
   "source": [
    "#predefined packeges\n",
    "\n",
    "!pip show pip"
   ]
  },
  {
   "cell_type": "code",
   "execution_count": 25,
   "id": "558797fd-e7fd-4506-ba30-9ff9f6e713f4",
   "metadata": {},
   "outputs": [
    {
     "ename": "ModuleNotFoundError",
     "evalue": "No module named 'camelcase'",
     "output_type": "error",
     "traceback": [
      "\u001b[1;31m---------------------------------------------------------------------------\u001b[0m",
      "\u001b[1;31mModuleNotFoundError\u001b[0m                       Traceback (most recent call last)",
      "Cell \u001b[1;32mIn[25], line 1\u001b[0m\n\u001b[1;32m----> 1\u001b[0m \u001b[38;5;28;01mimport\u001b[39;00m \u001b[38;5;21;01mcamelcase\u001b[39;00m\n",
      "\u001b[1;31mModuleNotFoundError\u001b[0m: No module named 'camelcase'"
     ]
    }
   ],
   "source": [
    "import camelcase"
   ]
  },
  {
   "cell_type": "code",
   "execution_count": 1,
   "id": "7c2ee9e5-6bf9-45ba-8796-d9a1b2e6be65",
   "metadata": {},
   "outputs": [
    {
     "name": "stdout",
     "output_type": "stream",
     "text": [
      "Requirement already satisfied: camelcase in c:\\users\\pspat\\anaconda3\\lib\\site-packages (0.2)\n",
      "Note: you may need to restart the kernel to use updated packages.\n"
     ]
    }
   ],
   "source": [
    "pip install camelcase\n"
   ]
  },
  {
   "cell_type": "code",
   "execution_count": 2,
   "id": "5d1446f3-48e3-4118-8d10-8dc6086e6944",
   "metadata": {},
   "outputs": [
    {
     "name": "stdout",
     "output_type": "stream",
     "text": [
      "Hello World\n"
     ]
    }
   ],
   "source": [
    "import camelcase\n",
    "c=camelcase.CamelCase()\n",
    "txt=\"hello world\"\n",
    "print(c.hump(txt))"
   ]
  },
  {
   "cell_type": "code",
   "execution_count": null,
   "id": "cc6c19ae-291e-4123-b3b0-781945fabdd3",
   "metadata": {},
   "outputs": [],
   "source": []
  }
 ],
 "metadata": {
  "kernelspec": {
   "display_name": "Python 3 (ipykernel)",
   "language": "python",
   "name": "python3"
  },
  "language_info": {
   "codemirror_mode": {
    "name": "ipython",
    "version": 3
   },
   "file_extension": ".py",
   "mimetype": "text/x-python",
   "name": "python",
   "nbconvert_exporter": "python",
   "pygments_lexer": "ipython3",
   "version": "3.12.4"
  }
 },
 "nbformat": 4,
 "nbformat_minor": 5
}
