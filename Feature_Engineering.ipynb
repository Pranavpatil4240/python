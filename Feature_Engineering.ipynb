{
 "cells": [
  {
   "cell_type": "markdown",
   "id": "d3e2675e",
   "metadata": {
    "id": "d3e2675e"
   },
   "source": [
    "                                              **CONTENTS**"
   ]
  },
  {
   "cell_type": "markdown",
   "id": "2f6b57ab",
   "metadata": {
    "id": "2f6b57ab"
   },
   "source": [
    "###  Feature Engineering :\n",
    "1. Introduction\n",
    "2. Why is it used\n",
    "3. Why do we begin with this step\n",
    "\n",
    "###   Null Values :\n",
    "1. What are null values\n",
    "2. How to identify them\n",
    "3. How to handle null values\n",
    "4. Implementation\n",
    "\n",
    "###  Outliers :\n",
    "1. What are outliers\n",
    "2. How can we detect them\n",
    "3. How to handle the outliers\n",
    "4. Implementation\n",
    "\n",
    "###  Preprocessing :\n",
    "\n",
    "1. What is preprocessing\n",
    "2. What are the steps for preprocessing\n",
    "3. What are the functions for preprocessing\n",
    "4. Implementation\n",
    "\n",
    "### Transformation :\n",
    "\n",
    "1. what is transformation\n",
    "2. what are the types of transformation\n",
    "3. Implementation\n",
    "\n",
    "\n",
    "\n",
    "###  Scaling :\n",
    "\n",
    "1. what is scaling\n",
    "2. why are we scaling\n",
    "3. what are types of scaling\n",
    "4. Implementation\n",
    "\n",
    "\n"
   ]
  },
  {
   "cell_type": "markdown",
   "id": "80403d70",
   "metadata": {
    "id": "80403d70"
   },
   "source": [
    "##  Introduction to feature engineering :"
   ]
  },
  {
   "cell_type": "markdown",
   "id": "50835410",
   "metadata": {
    "id": "50835410"
   },
   "source": [
    "- Feature Engineering is the process of extracting and organizing the important features from raw data in such a way that it fits the purpose of the machine learning model.\n",
    "\n",
    "- It can be thought of as the art of selecting the important features and transforming them into refined and meaningful features that suit the needs of the model.\n",
    "\n",
    "- Feature Engineering encapsulates various data engineering techniques such as selecting relevant features, handling missing data, encoding the data, and normalizing it.\n",
    "\n",
    "- It is one of the most crucial tasks and plays a major role in determining the outcome of a model.\n",
    "\n",
    "- In order to ensure that the chosen algorithm can perform to its optimum capability, it is important to engineer the features of the input data effectively.\n",
    "\n"
   ]
  },
  {
   "cell_type": "markdown",
   "id": "61f705bd",
   "metadata": {
    "id": "61f705bd"
   },
   "source": [
    "## Why is Feature Engineering so important?"
   ]
  },
  {
   "cell_type": "markdown",
   "id": "04c9a74c",
   "metadata": {
    "id": "04c9a74c"
   },
   "source": [
    "- You must know what takes the maximum amount of time and effort in a Machine Learning workflow.\n",
    "- Getting to the modelling stage will take up to 80% of the time of a data scientist.\n",
    "\n",
    "- This is where Feature Engineering comes into play.\n",
    "- After the data is cleaned and processed it is then ready to be fed into the machine learning models to train and generate outputs.\n",
    "\n",
    "- Feature engineering is focused on using the variables you already have to create additional features that are (hopefully) better at representing the underlying structure of your data.\n",
    "\n",
    "- Feature engineering is a creative process that relies heavily on domain knowledge and the thorough exploration of your data. - - But before we go any further, we need to step back and answer an important question.\n",
    "\n",
    "- A feature is not just any variable in a dataset.\n",
    "- A feature is a variable that is important for predicting your specific target and addressing your specific question(s).\n",
    "\n",
    "- For example, a variable that is commonly found in many datasets is some form of unique identifier.\n",
    "- This identifier may represent a unique individual, building, transaction, etc.\n",
    "\n",
    "- Unique identifiers are very useful because they allow you to filter out duplicate entries or merge data tables, but unique IDs are not useful predictors.\n",
    "- We wouldn’t include such a variable in our model because it would instantly overfit to the training data without providing any useful information for predicting future observations.\n",
    "\n",
    "- Creating additional features that better emphasize the trends in your data has the potential to boost model performance.\n",
    "- After all, the quality of any model is limited by the quality of the data you feed into it.\n",
    "\n",
    "- Just because the information is technically already in your dataset does not mean a machine learning algorithm will be able to pick up on it.\n",
    "\n",
    "- Important information can get lost amidst the noise and competing signals in a large feature space.\n",
    "- Thus, in some ways, feature engineering is like trying to tell a model what aspects of the data are worth focusing on.\n",
    "\n",
    "- This is where your domain knowledge and creativity as a data scientist can really shine\n",
    "\n",
    "\n"
   ]
  },
  {
   "cell_type": "markdown",
   "id": "54c9d029",
   "metadata": {
    "id": "54c9d029"
   },
   "source": [
    "#### So far we have established that Feature Engineering is an extremely important part of a Machine Learning Pipeline, but why is it needed in the first place?\n",
    "\n",
    "-  In most cases, Data Scientists deal with data extracted from massive open data sources such as the internet, surveys, or reviews.\n",
    "\n",
    "- This data is crude and is known as raw data.\n",
    "- It may contain missing values, unstructured data, incorrect inputs, and outliers.\n",
    "\n",
    "- If we directly use this raw, un-processed data to train our models, we will land up with a model having a very poor efficiency.\n",
    "\n",
    "- Thus Feature Engineering plays an extremely pivotal role in determining the performance of any machine learning model.\n",
    "\n",
    "- Analyzing The Dataset Features iis very important,\n",
    "- Whenever you get your hands on a dataset, you must first spend some time analyzing it.\n",
    "\n",
    "- This will help you get an understanding of the type of features and data you are dealing with.\n",
    "- Analyzing the dataset will also help you create a mind map of the feature engineering techniques that you will need to process your data.\n",
    "\n",
    "- Now our dataset is feature engineered and all ready to be fed into a Machine Learning model.\n",
    "- This dataset can now be used to train the model to make the desired predictions.\n",
    "- We have effectively engineered all our features.\n",
    "- The missing values have been handled, the categorical variables have been effectively encoded and the features have been scaled to a uniform scale.\n",
    "\n",
    "- Rest assured, now we can safely sit back and wait for our data to generate some amazing results!\n",
    "\n",
    "- Once you have effectively feature engineered all the variables in your dataset, you can be sure to generate models having the best possible efficiency as all the algorithms can now perform to their optimum capabilities.\n",
    "\n",
    "- Feature engineering, like so many things in data science, is an iterative process. Investigating, experimenting, and doubling back to make adjustments are crucial.\n",
    "- The insights you stand to gain into the structure of your data and the potential improvements to model performance are usually well worth the effort.\n",
    "- Plus, if you’re relatively new to all this, feature engineering is a great way to practice working with and manipulating DataFrames! So stay tuned for future posts covering specific examples (with code) of how to do just that.\n",
    "\n",
    "- That is the all about Feature Engineering!\n"
   ]
  },
  {
   "cell_type": "markdown",
   "id": "0d5d1d77",
   "metadata": {
    "id": "0d5d1d77"
   },
   "source": [
    "# Null Values :"
   ]
  },
  {
   "cell_type": "markdown",
   "id": "3f490095",
   "metadata": {
    "id": "3f490095"
   },
   "source": [
    "- A null value is a placeholder that indicates the absence of a value.\n",
    "- Null values exist for all data types. The null value of a given data type is different from all non-null values of the same data type.\n",
    "- By default, any column can contain null values.\n",
    "- You can use either the NOT NULL or the CHECK parameter in a column definition to disallow null values in the column.\n",
    "\n",
    "## How You Specify a Null Value\n",
    "\n",
    "- You use the keyword NULL to indicate a null value.\n",
    "- For example, the following INSERT statement inserts a new row into the DEPARTMENT table.\n",
    "- The department number and name and the division code are known, but the department head has not been appointed yet.\n",
    "- A null value is used as a placeholder in the DEPT_HEAD_ID column.\n",
    "\n",
    "- Missing values are a common issue in machine learning.\n",
    "- This occurs when a particular variable lacks data points, resulting in incomplete information and potentially harming the accuracy and dependability of your models.\n",
    "- It is essential to address missing values efficiently to ensure strong and impartial results in your machine-learning projects.\n",
    "\n",
    "\n",
    "\n"
   ]
  },
  {
   "cell_type": "markdown",
   "id": "fc2d468d",
   "metadata": {
    "id": "fc2d468d"
   },
   "source": [
    "## What is a Missing Value?\n",
    "\n",
    "- Missing values are data points that are absent for a specific variable in a dataset.\n",
    "- They can be represented in various ways, such as blank cells, null values, or special symbols like “NA” or “unknown.”\n",
    "- These missing data points pose a significant challenge in data analysis and can lead to inaccurate or biased results.\n",
    "\n",
    "### Methods for Identifying Missing Data\n",
    "\n",
    "- Locating and understanding patterns of missingness in the dataset is an important step in addressing its impact on analysis. - - Working with Missing Data in Pandas there are several useful functions for detecting, removing, and replacing null values in Pandas DataFrame.\n"
   ]
  },
  {
   "cell_type": "markdown",
   "id": "1a0d348c",
   "metadata": {
    "id": "1a0d348c"
   },
   "source": [
    "\n",
    "## Functions that can be used to identify the null values :\n",
    "\n",
    "##### .isnull()\n",
    "\n",
    "- Identifies missing values in a Series or DataFrame.\n",
    "\n",
    "##### .notnull()\n",
    "\n",
    "- check for missing values in a pandas Series or DataFrame. It returns a boolean Series or DataFrame, where True indicates non-missing values and False indicates missing values.\n",
    "\n",
    "##### .info()\n",
    "\n",
    "- Displays information about the DataFrame, including data types, memory usage, and presence of missing values.\n",
    "\n",
    "##### .isna()\n",
    "\n",
    "- similar to notnull() but returns True for missing values and False for non-missing values.\n",
    "\n",
    "- dropna()\tDrops rows or columns containing missing values based on custom criteria.\n",
    "- fillna()\tFills missing values with specific values, means, medians, or other calculated values.\n",
    "- replace()\tReplaces specific values with other values, facilitating data correction and standardization.\n",
    "- drop_duplicates()\tRemoves duplicate rows based on specified columns.\n",
    "- unique()\tFinds unique values in a Series or DataFrame.\n",
    "\n",
    "\n"
   ]
  },
  {
   "cell_type": "code",
   "execution_count": null,
   "id": "54d7177a",
   "metadata": {
    "id": "54d7177a",
    "outputId": "299f13d9-78cb-4100-f218-6ae209ae14ae"
   },
   "outputs": [
    {
     "name": "stderr",
     "output_type": "stream",
     "text": [
      "C:\\Users\\snehr\\anaconda3\\lib\\site-packages\\pandas\\core\\arrays\\masked.py:60: UserWarning: Pandas requires version '1.3.6' or newer of 'bottleneck' (version '1.3.5' currently installed).\n",
      "  from pandas.core import (\n"
     ]
    }
   ],
   "source": [
    "import pandas as pd\n",
    "import numpy as np\n",
    "import seaborn as sns\n",
    "from ydata_profiling import ProfileReport\n",
    "from sklearn.preprocessing import StandardScaler,LabelEncoder,OneHotEncoder,OrdinalEncoder\n",
    "import warnings\n",
    "import matplotlib.pyplot as plt\n",
    "from sklearn.compose import ColumnTransformer\n",
    "from sklearn.preprocessing import FunctionTransformer\n",
    "import pickle\n",
    "import warnings\n",
    "warnings.filterwarnings('ignore')"
   ]
  },
  {
   "cell_type": "code",
   "execution_count": null,
   "id": "834f1c64",
   "metadata": {
    "id": "834f1c64"
   },
   "outputs": [],
   "source": [
    "df=pd.read_csv(\"loan_approved.csv\")"
   ]
  },
  {
   "cell_type": "code",
   "execution_count": null,
   "id": "36e0d0f1",
   "metadata": {
    "id": "36e0d0f1",
    "outputId": "0995a1a8-4798-404b-b180-2da0d2fe6596"
   },
   "outputs": [
    {
     "data": {
      "text/html": [
       "<div>\n",
       "<style scoped>\n",
       "    .dataframe tbody tr th:only-of-type {\n",
       "        vertical-align: middle;\n",
       "    }\n",
       "\n",
       "    .dataframe tbody tr th {\n",
       "        vertical-align: top;\n",
       "    }\n",
       "\n",
       "    .dataframe thead th {\n",
       "        text-align: right;\n",
       "    }\n",
       "</style>\n",
       "<table border=\"1\" class=\"dataframe\">\n",
       "  <thead>\n",
       "    <tr style=\"text-align: right;\">\n",
       "      <th></th>\n",
       "      <th>Loan_ID</th>\n",
       "      <th>Gender</th>\n",
       "      <th>Married</th>\n",
       "      <th>Dependents</th>\n",
       "      <th>Education</th>\n",
       "      <th>Self_Employed</th>\n",
       "      <th>ApplicantIncome</th>\n",
       "      <th>CoapplicantIncome</th>\n",
       "      <th>LoanAmount</th>\n",
       "      <th>Loan_Amount_Term</th>\n",
       "      <th>Credit_History</th>\n",
       "      <th>Property_Area</th>\n",
       "      <th>Loan_Status (Approved)</th>\n",
       "    </tr>\n",
       "  </thead>\n",
       "  <tbody>\n",
       "    <tr>\n",
       "      <th>0</th>\n",
       "      <td>LP001002</td>\n",
       "      <td>Male</td>\n",
       "      <td>No</td>\n",
       "      <td>0</td>\n",
       "      <td>Graduate</td>\n",
       "      <td>No</td>\n",
       "      <td>5849</td>\n",
       "      <td>0.0</td>\n",
       "      <td>NaN</td>\n",
       "      <td>360.0</td>\n",
       "      <td>1.0</td>\n",
       "      <td>Urban</td>\n",
       "      <td>Y</td>\n",
       "    </tr>\n",
       "    <tr>\n",
       "      <th>1</th>\n",
       "      <td>LP001003</td>\n",
       "      <td>Male</td>\n",
       "      <td>Yes</td>\n",
       "      <td>1</td>\n",
       "      <td>Graduate</td>\n",
       "      <td>No</td>\n",
       "      <td>4583</td>\n",
       "      <td>1508.0</td>\n",
       "      <td>128.0</td>\n",
       "      <td>360.0</td>\n",
       "      <td>1.0</td>\n",
       "      <td>Rural</td>\n",
       "      <td>N</td>\n",
       "    </tr>\n",
       "    <tr>\n",
       "      <th>2</th>\n",
       "      <td>LP001005</td>\n",
       "      <td>Male</td>\n",
       "      <td>Yes</td>\n",
       "      <td>0</td>\n",
       "      <td>Graduate</td>\n",
       "      <td>Yes</td>\n",
       "      <td>3000</td>\n",
       "      <td>0.0</td>\n",
       "      <td>66.0</td>\n",
       "      <td>360.0</td>\n",
       "      <td>1.0</td>\n",
       "      <td>Urban</td>\n",
       "      <td>Y</td>\n",
       "    </tr>\n",
       "    <tr>\n",
       "      <th>3</th>\n",
       "      <td>LP001006</td>\n",
       "      <td>Male</td>\n",
       "      <td>Yes</td>\n",
       "      <td>0</td>\n",
       "      <td>Not Graduate</td>\n",
       "      <td>No</td>\n",
       "      <td>2583</td>\n",
       "      <td>2358.0</td>\n",
       "      <td>120.0</td>\n",
       "      <td>360.0</td>\n",
       "      <td>1.0</td>\n",
       "      <td>Urban</td>\n",
       "      <td>Y</td>\n",
       "    </tr>\n",
       "    <tr>\n",
       "      <th>4</th>\n",
       "      <td>LP001008</td>\n",
       "      <td>Male</td>\n",
       "      <td>No</td>\n",
       "      <td>0</td>\n",
       "      <td>Graduate</td>\n",
       "      <td>No</td>\n",
       "      <td>6000</td>\n",
       "      <td>0.0</td>\n",
       "      <td>141.0</td>\n",
       "      <td>360.0</td>\n",
       "      <td>1.0</td>\n",
       "      <td>Urban</td>\n",
       "      <td>Y</td>\n",
       "    </tr>\n",
       "  </tbody>\n",
       "</table>\n",
       "</div>"
      ],
      "text/plain": [
       "    Loan_ID Gender Married Dependents     Education Self_Employed  \\\n",
       "0  LP001002   Male      No          0      Graduate            No   \n",
       "1  LP001003   Male     Yes          1      Graduate            No   \n",
       "2  LP001005   Male     Yes          0      Graduate           Yes   \n",
       "3  LP001006   Male     Yes          0  Not Graduate            No   \n",
       "4  LP001008   Male      No          0      Graduate            No   \n",
       "\n",
       "   ApplicantIncome  CoapplicantIncome  LoanAmount  Loan_Amount_Term  \\\n",
       "0             5849                0.0         NaN             360.0   \n",
       "1             4583             1508.0       128.0             360.0   \n",
       "2             3000                0.0        66.0             360.0   \n",
       "3             2583             2358.0       120.0             360.0   \n",
       "4             6000                0.0       141.0             360.0   \n",
       "\n",
       "   Credit_History Property_Area Loan_Status (Approved)  \n",
       "0             1.0         Urban                      Y  \n",
       "1             1.0         Rural                      N  \n",
       "2             1.0         Urban                      Y  \n",
       "3             1.0         Urban                      Y  \n",
       "4             1.0         Urban                      Y  "
      ]
     },
     "execution_count": 3,
     "metadata": {},
     "output_type": "execute_result"
    }
   ],
   "source": [
    "df.head()"
   ]
  },
  {
   "cell_type": "code",
   "execution_count": null,
   "id": "4612f096",
   "metadata": {
    "id": "4612f096",
    "outputId": "2fd11b4e-cf9b-4a40-ffa3-60f13b4e8d3d",
    "scrolled": true
   },
   "outputs": [
    {
     "data": {
      "text/plain": [
       "Loan_ID                    0\n",
       "Gender                    13\n",
       "Married                    3\n",
       "Dependents                15\n",
       "Education                  0\n",
       "Self_Employed             32\n",
       "ApplicantIncome            0\n",
       "CoapplicantIncome          0\n",
       "LoanAmount                22\n",
       "Loan_Amount_Term          14\n",
       "Credit_History            50\n",
       "Property_Area              0\n",
       "Loan_Status (Approved)     0\n",
       "dtype: int64"
      ]
     },
     "execution_count": 5,
     "metadata": {},
     "output_type": "execute_result"
    }
   ],
   "source": [
    "df.isnull().sum()"
   ]
  },
  {
   "cell_type": "markdown",
   "id": "0dfc87a8",
   "metadata": {
    "id": "0dfc87a8"
   },
   "source": [
    "- We can be able to see that the null values were present in this dataset."
   ]
  },
  {
   "cell_type": "markdown",
   "id": "8652d2b1",
   "metadata": {
    "id": "8652d2b1"
   },
   "source": [
    "## Imputation Methods\n",
    "- Replacing missing values with estimated values.\n",
    "- Preserves sample size: Doesn’t reduce data points.\n",
    "- Can introduce bias: Estimated values might not be accurate.\n",
    "- Here are some common imputation methods:\n",
    "\n",
    "- Mean, Median, and Mode Imputation:\n",
    "\n",
    "- Replace missing values with the mean, median, or mode of the relevant variable.\n",
    "- Simple and efficient: Easy to implement.\n",
    "- Can be inaccurate: Doesn’t consider the relationships between variables.\n",
    "- we are explaining the imputation techniques for handling missing values in the ‘Marks’ column of the DataFrame (df). It calculates and fills missing values with the mean, median, and mode of the existing values in that column, and then prints the results for observation.\n",
    "\n",
    "- Mean Imputation: Calculates the mean of the ‘Marks’ column in the DataFrame (df).\n",
    "##### df['Marks'].fillna(...): Fills missing values in the ‘Marks’ column with the mean value.\n",
    "- mean_imputation: The result is stored in the variable mean_imputation.\n",
    "- Median Imputation: Calculates the median of the ‘Marks’ column in the DataFrame (df).\n",
    "##### df['Marks'].fillna(...): Fills missing values in the ‘Marks’ column with the median value.\n",
    "- median_imputation: The result is stored in the variable median_imputation.\n",
    "- Mode Imputation: Calculates the mode of the ‘Marks’ column in the DataFrame (df). The result is a Series.\n",
    "###### .iloc[0]: Accesses the first element of the Series, which represents the mode.\n",
    "###### df['Marks'].fillna(...): Fills missing values in the ‘Marks’ column with the mode value."
   ]
  },
  {
   "cell_type": "markdown",
   "id": "17bb7370",
   "metadata": {
    "id": "17bb7370"
   },
   "source": [
    "### Now we know how to impute the null values from our dataset '"
   ]
  },
  {
   "cell_type": "markdown",
   "id": "f3e1f685",
   "metadata": {
    "id": "f3e1f685"
   },
   "source": [
    "## Imputing the null values :"
   ]
  },
  {
   "cell_type": "code",
   "execution_count": null,
   "id": "f8e0a0ca",
   "metadata": {
    "id": "f8e0a0ca"
   },
   "outputs": [],
   "source": [
    "df.loc[df['Gender'].isnull(),'Gender']=\"Male\"  # We have imputed the null values with the Male"
   ]
  },
  {
   "cell_type": "code",
   "execution_count": null,
   "id": "1981c8a1",
   "metadata": {
    "id": "1981c8a1",
    "outputId": "cbfb79ef-dfd1-4ca8-b5f8-f765ff94b9c6"
   },
   "outputs": [
    {
     "data": {
      "text/plain": [
       "0"
      ]
     },
     "execution_count": 7,
     "metadata": {},
     "output_type": "execute_result"
    }
   ],
   "source": [
    "df.Gender.isnull().sum()"
   ]
  },
  {
   "cell_type": "code",
   "execution_count": null,
   "id": "3ea35295",
   "metadata": {
    "id": "3ea35295"
   },
   "outputs": [],
   "source": [
    "df.loc[df['Credit_History'].isnull(),'Credit_History']=0.0 # We have imputed the null values with the 0"
   ]
  },
  {
   "cell_type": "code",
   "execution_count": null,
   "id": "8025928d",
   "metadata": {
    "id": "8025928d",
    "outputId": "46c18e97-650b-494e-888c-27079b4c5a9a"
   },
   "outputs": [
    {
     "data": {
      "text/plain": [
       "0"
      ]
     },
     "execution_count": 9,
     "metadata": {},
     "output_type": "execute_result"
    }
   ],
   "source": [
    "df.Credit_History.isnull().sum()"
   ]
  },
  {
   "cell_type": "code",
   "execution_count": null,
   "id": "e27d2b24",
   "metadata": {
    "id": "e27d2b24"
   },
   "outputs": [],
   "source": [
    "df.loc[df['LoanAmount'].isnull(),'LoanAmount']=df['LoanAmount'].median() # We have imputed the null values with the median"
   ]
  },
  {
   "cell_type": "code",
   "execution_count": null,
   "id": "b945955f",
   "metadata": {
    "id": "b945955f",
    "outputId": "ffc36dcf-b8f5-4334-a364-93e6f39c3d9f"
   },
   "outputs": [
    {
     "data": {
      "text/plain": [
       "0"
      ]
     },
     "execution_count": 11,
     "metadata": {},
     "output_type": "execute_result"
    }
   ],
   "source": [
    "df.LoanAmount.isnull().sum()"
   ]
  },
  {
   "cell_type": "code",
   "execution_count": null,
   "id": "3cfe957f",
   "metadata": {
    "id": "3cfe957f"
   },
   "outputs": [],
   "source": [
    "df.loc[df['Married'].isnull(),'Married']=\"Yes\""
   ]
  },
  {
   "cell_type": "code",
   "execution_count": null,
   "id": "9f4e7d06",
   "metadata": {
    "id": "9f4e7d06"
   },
   "outputs": [],
   "source": [
    "df.loc[df['Self_Employed'].isnull(),'Self_Employed']='No'"
   ]
  },
  {
   "cell_type": "code",
   "execution_count": null,
   "id": "97d2c5d9",
   "metadata": {
    "id": "97d2c5d9"
   },
   "outputs": [],
   "source": [
    "df.loc[df['Loan_Amount_Term'].isnull(),'Loan_Amount_Term']=360.0"
   ]
  },
  {
   "cell_type": "code",
   "execution_count": null,
   "id": "753fc8c0",
   "metadata": {
    "id": "753fc8c0"
   },
   "outputs": [],
   "source": [
    "df.loc[df['Dependents'].isnull(),'Dependents']='0'"
   ]
  },
  {
   "cell_type": "code",
   "execution_count": null,
   "id": "28f19c8b",
   "metadata": {
    "id": "28f19c8b",
    "outputId": "6742c873-18b8-4abd-8754-c9afd601e455"
   },
   "outputs": [
    {
     "data": {
      "text/plain": [
       "Loan_ID                   0\n",
       "Gender                    0\n",
       "Married                   0\n",
       "Dependents                0\n",
       "Education                 0\n",
       "Self_Employed             0\n",
       "ApplicantIncome           0\n",
       "CoapplicantIncome         0\n",
       "LoanAmount                0\n",
       "Loan_Amount_Term          0\n",
       "Credit_History            0\n",
       "Property_Area             0\n",
       "Loan_Status (Approved)    0\n",
       "dtype: int64"
      ]
     },
     "execution_count": 16,
     "metadata": {},
     "output_type": "execute_result"
    }
   ],
   "source": [
    "df.isnull().sum()"
   ]
  },
  {
   "cell_type": "markdown",
   "id": "ec065d00",
   "metadata": {
    "id": "ec065d00"
   },
   "source": [
    "# Outliers :"
   ]
  },
  {
   "cell_type": "markdown",
   "id": "ccbc3506",
   "metadata": {
    "id": "ccbc3506"
   },
   "source": [
    "- An outlier is a single data point that goes far outside the average value of a group of statistics.\n",
    "- Outliers may be exceptions that stand outside individual samples of populations as well.\n",
    "-  In a more general context, an outlier is an individual that is markedly different from the norm in some respect.\n",
    "- Outliers are extreme values that differ from most other data points in a dataset. They can have a big impact on your statistical analyses and skew the results of any hypothesis tests.\n",
    "\n",
    "- It’s important to carefully identify potential outliers in your dataset and deal with them in an appropriate manner for accurate results."
   ]
  },
  {
   "cell_type": "markdown",
   "id": "f0fec406",
   "metadata": {
    "id": "f0fec406"
   },
   "source": [
    "- There are four ways to identify outliers:\n",
    "1. Sorting method\n",
    "2. Data visualization method\n",
    "3. Interquartile range method"
   ]
  },
  {
   "cell_type": "markdown",
   "id": "e433f5fe",
   "metadata": {
    "id": "e433f5fe"
   },
   "source": [
    "## Sorting method\n",
    "- You can sort quantitative variables from low to high and scan for extremely low or extremely high values. Flag any extreme values that you find.\n",
    "\n",
    "- This is a simple way to check whether you need to investigate certain data points before using more sophisticated methods.\n",
    "\n",
    "## Using visualizations\n",
    "- You can use software to visualize your data with a box plot, or a box-and-whisker plot, so you can see the data distribution at a glance. This type of chart highlights minimum and maximum values (the range), the median, and the interquartile range for your data.\n",
    "\n",
    "- Many computer programs highlight an outlier on a chart with an asterisk, and these will lie outside the bounds of the graph.\n",
    "\n",
    "## Statistical outlier detection\n",
    "- Statistical outlier detection involves applying statistical tests or procedures to identify extreme values.\n",
    "\n",
    "- You can convert extreme data points into z scores that tell you how many standard deviations away they are from the mean.\n",
    "\n",
    "- If a value has a high enough or low enough z score, it can be considered an outlier. As a rule of thumb, values with a z score greater than 3 or less than –3 are often determined to be outliers.\n",
    "\n",
    "## Using the interquartile range\n",
    "- The interquartile range (IQR) tells you the range of the middle half of your dataset. You can use the IQR to create “fences” around your data and then define outliers as any values that fall outside those fences.\n",
    "### Interquartile range method\n",
    "\n",
    "- Sort your data from low to high\n",
    "- Identify the first quartile (Q1), the median, and the third quartile (Q3).\n",
    "- Calculate your IQR = Q3 – Q1\n",
    "- Calculate your upper fence = Q3 + (1.5 * IQR)\n",
    "- Calculate your lower fence = Q1 – (1.5 * IQR)\n",
    "- Use your fences to highlight any outliers, all values that fall outside your fences.\n",
    "- Your outliers are any values greater than your upper fence or less than your lower fence."
   ]
  },
  {
   "cell_type": "code",
   "execution_count": null,
   "id": "2f0d71a3",
   "metadata": {
    "id": "2f0d71a3",
    "outputId": "09e2c27a-84f5-47d3-80ce-036223d93631",
    "scrolled": false
   },
   "outputs": [
    {
     "data": {
      "text/plain": [
       "Index(['Loan_ID', 'Gender', 'Married', 'Dependents', 'Education',\n",
       "       'Self_Employed', 'ApplicantIncome', 'CoapplicantIncome', 'LoanAmount',\n",
       "       'Loan_Amount_Term', 'Credit_History', 'Property_Area',\n",
       "       'Loan_Status (Approved)'],\n",
       "      dtype='object')"
      ]
     },
     "execution_count": 17,
     "metadata": {},
     "output_type": "execute_result"
    }
   ],
   "source": [
    "df.columns"
   ]
  },
  {
   "cell_type": "code",
   "execution_count": null,
   "id": "3922a146",
   "metadata": {
    "id": "3922a146",
    "outputId": "a2689b32-e4ac-40b5-d10f-a7370ab63688"
   },
   "outputs": [
    {
     "name": "stdout",
     "output_type": "stream",
     "text": [
      "<class 'pandas.core.frame.DataFrame'>\n",
      "RangeIndex: 614 entries, 0 to 613\n",
      "Data columns (total 13 columns):\n",
      " #   Column                  Non-Null Count  Dtype  \n",
      "---  ------                  --------------  -----  \n",
      " 0   Loan_ID                 614 non-null    object \n",
      " 1   Gender                  614 non-null    object \n",
      " 2   Married                 614 non-null    object \n",
      " 3   Dependents              614 non-null    object \n",
      " 4   Education               614 non-null    object \n",
      " 5   Self_Employed           614 non-null    object \n",
      " 6   ApplicantIncome         614 non-null    int64  \n",
      " 7   CoapplicantIncome       614 non-null    float64\n",
      " 8   LoanAmount              614 non-null    float64\n",
      " 9   Loan_Amount_Term        614 non-null    float64\n",
      " 10  Credit_History          614 non-null    float64\n",
      " 11  Property_Area           614 non-null    object \n",
      " 12  Loan_Status (Approved)  614 non-null    object \n",
      "dtypes: float64(4), int64(1), object(8)\n",
      "memory usage: 62.5+ KB\n"
     ]
    }
   ],
   "source": [
    "df.info()"
   ]
  },
  {
   "cell_type": "markdown",
   "id": "0a22c278",
   "metadata": {
    "id": "0a22c278"
   },
   "source": [
    "# Visualizing the outliers :"
   ]
  },
  {
   "cell_type": "code",
   "execution_count": null,
   "id": "308fe7c7",
   "metadata": {
    "id": "308fe7c7",
    "outputId": "4847a441-f65e-4d26-eb59-8e43df876047",
    "scrolled": false
   },
   "outputs": [
    {
     "data": {
      "text/plain": [
       "<Axes: xlabel='LoanAmount'>"
      ]
     },
     "execution_count": 56,
     "metadata": {},
     "output_type": "execute_result"
    },
    {
     "data": {
      "image/png": "[encoded data removed]",
      "text/plain": [
       "<Figure size 640x480 with 1 Axes>"
      ]
     },
     "metadata": {},
     "output_type": "display_data"
    }
   ],
   "source": [
    "sns.boxplot(x=df.LoanAmount ,orient='h')"
   ]
  },
  {
   "cell_type": "markdown",
   "id": "f06e24c4",
   "metadata": {
    "id": "f06e24c4"
   },
   "source": [
    "# Handling the outliers :"
   ]
  },
  {
   "cell_type": "markdown",
   "id": "10c5087f",
   "metadata": {
    "id": "10c5087f"
   },
   "source": [
    "# Using Winsorize Method to handle outliers :"
   ]
  },
  {
   "cell_type": "code",
   "execution_count": null,
   "id": "9fbc2ee2",
   "metadata": {
    "id": "9fbc2ee2",
    "outputId": "a9df8fd3-cfe0-4780-b490-0c38e56c5216",
    "scrolled": false
   },
   "outputs": [
    {
     "data": {
      "text/plain": [
       "<Axes: xlabel='ApplicantIncome'>"
      ]
     },
     "execution_count": 71,
     "metadata": {},
     "output_type": "execute_result"
    },
    {
     "data": {
      "image/png": "[encoded data removed]",
      "text/plain": [
       "<Figure size 640x480 with 1 Axes>"
      ]
     },
     "metadata": {},
     "output_type": "display_data"
    }
   ],
   "source": [
    "sns.boxplot(x=df.ApplicantIncome ,orient='h')"
   ]
  },
  {
   "cell_type": "code",
   "execution_count": null,
   "id": "f37fb940",
   "metadata": {
    "id": "f37fb940"
   },
   "outputs": [],
   "source": [
    "from scipy.stats.mstats import winsorize\n",
    "\n",
    "# Specify the percentage of data to be trimmed from both ends\n",
    "trim_percentage = 0.05\n",
    "\n",
    "# Winsorize the specified column\n",
    "df['ApplicantIncome'] = winsorize(df['ApplicantIncome'], limits=trim_percentage)"
   ]
  },
  {
   "cell_type": "code",
   "execution_count": null,
   "id": "eef4c3fe",
   "metadata": {
    "id": "eef4c3fe",
    "outputId": "fe466291-62a1-475b-ea99-f19cbddeb17a"
   },
   "outputs": [
    {
     "data": {
      "text/plain": [
       "<Axes: xlabel='ApplicantIncome'>"
      ]
     },
     "execution_count": 73,
     "metadata": {},
     "output_type": "execute_result"
    },
    {
     "data": {
      "image/png": "[encoded data removed]",
      "text/plain": [
       "<Figure size 640x480 with 1 Axes>"
      ]
     },
     "metadata": {},
     "output_type": "display_data"
    }
   ],
   "source": [
    "sns.boxplot(x=df.ApplicantIncome ,orient='h')"
   ]
  },
  {
   "cell_type": "markdown",
   "id": "09ccc930",
   "metadata": {
    "id": "09ccc930"
   },
   "source": [
    "# Now we can be able to see that the outliers were sorted."
   ]
  },
  {
   "cell_type": "markdown",
   "id": "518839e2",
   "metadata": {
    "id": "518839e2"
   },
   "source": [
    "# Using IQR method to handle the outliers :"
   ]
  },
  {
   "cell_type": "code",
   "execution_count": null,
   "id": "bafa29be",
   "metadata": {
    "id": "bafa29be"
   },
   "outputs": [],
   "source": [
    "import numpy as np\n",
    "import pandas as pd\n",
    "\n",
    "# Calculate quartiles\n",
    "Q1 = df['LoanAmount'].quantile(0.25)\n",
    "Q3 = df['LoanAmount'].quantile(0.75)\n",
    "\n"
   ]
  },
  {
   "cell_type": "code",
   "execution_count": null,
   "id": "7c742088",
   "metadata": {
    "id": "7c742088",
    "outputId": "922b12cc-4cbb-441a-fdb8-93291bdc112d"
   },
   "outputs": [
    {
     "data": {
      "text/plain": [
       "2.823017647435048"
      ]
     },
     "execution_count": 60,
     "metadata": {},
     "output_type": "execute_result"
    }
   ],
   "source": [
    "# Calculate IQR\n",
    "IQR = Q3 - Q1\n",
    "IQR"
   ]
  },
  {
   "cell_type": "code",
   "execution_count": null,
   "id": "f21d1ca0",
   "metadata": {
    "id": "f21d1ca0"
   },
   "outputs": [],
   "source": [
    "# Define lower and upper bounds\n",
    "lower_bound = Q1 - 1.5 * IQR\n",
    "upper_bound = Q3 + 1.5 * IQR\n"
   ]
  },
  {
   "cell_type": "code",
   "execution_count": null,
   "id": "f8d21a1e",
   "metadata": {
    "id": "f8d21a1e",
    "outputId": "cbb009ab-0522-4c9c-9b68-94e95a207f71"
   },
   "outputs": [
    {
     "name": "stdout",
     "output_type": "stream",
     "text": [
      "5.777942434127651\n",
      "17.070013023867844\n"
     ]
    }
   ],
   "source": [
    "print(lower_bound)\n",
    "print(upper_bound)"
   ]
  },
  {
   "cell_type": "code",
   "execution_count": null,
   "id": "dbdf9598",
   "metadata": {
    "id": "dbdf9598"
   },
   "outputs": [],
   "source": [
    "# Remove outliers\n",
    "df = df[(df['LoanAmount'] >= lower_bound) & (df['LoanAmount'] <= upper_bound)]"
   ]
  },
  {
   "cell_type": "code",
   "execution_count": null,
   "id": "ea194405",
   "metadata": {
    "id": "ea194405",
    "outputId": "b0b0af2e-1ba7-48b6-d217-2785de35bef8"
   },
   "outputs": [
    {
     "data": {
      "text/plain": [
       "<Axes: xlabel='LoanAmount'>"
      ]
     },
     "execution_count": 65,
     "metadata": {},
     "output_type": "execute_result"
    },
    {
     "data": {
      "image/png": "[encoded data removed]",
      "text/plain": [
       "<Figure size 640x480 with 1 Axes>"
      ]
     },
     "metadata": {},
     "output_type": "display_data"
    }
   ],
   "source": [
    "sns.boxplot(x=df.LoanAmount ,orient='h')"
   ]
  },
  {
   "cell_type": "markdown",
   "id": "8485c21d",
   "metadata": {
    "id": "8485c21d"
   },
   "source": [
    "## We can be able to see that the outliers were sorted."
   ]
  },
  {
   "cell_type": "markdown",
   "id": "cd1dcdfd",
   "metadata": {
    "id": "cd1dcdfd"
   },
   "source": [
    "# Preprocessing :"
   ]
  },
  {
   "cell_type": "markdown",
   "id": "10d7d505",
   "metadata": {
    "id": "10d7d505"
   },
   "source": [
    "- Data preprocessing is a process of preparing the raw data and making it suitable for a machine learning model.\n",
    "- It is the first and crucial step while creating a machine learning model.\n",
    "- When creating a machine learning project, it is not always a case that we come across the clean and formatted data.\n",
    "\n",
    "### The steps used in data preprocessing include the following:\n",
    "- Data profiling\n",
    "- Data profiling is the process of examining, analyzing and reviewing data to collect statistics about its quality.\n",
    "- Data cleansing.\n",
    "- Data reduction.\n",
    "- Data transformation.\n",
    "- Data validation.\n",
    "\n",
    "- Data preprocessing transforms the data into a format that is more easily and effectively processed in data mining, machine learning and other data science tasks.\n",
    "- The techniques are generally used at the earliest stages of the machine learning and AI development pipeline to ensure accurate results.\n",
    "\n",
    "### There are several different tools and methods used for preprocessing data, including the following:\n",
    "\n",
    "- sampling, which selects a representative subset from a large population of data;\n",
    "- transformation, which manipulates raw data to produce a single input;\n",
    "- denoising, which removes noise from data;\n",
    "- imputation, which synthesizes statistically relevant data for missing values;\n",
    "- normalization, which organizes data for more efficient access; and\n",
    "- feature extraction, which pulls out a relevant feature subset that is significant in a particular context.\n",
    "- These tools and methods can be used on a variety of data sources, including data stored in files or databases and streaming data.\n",
    "\n",
    "### Why is data preprocessing important?\n",
    "\n",
    "- Machine learning and deep learning algorithms work best when data is presented in a format that highlights the relevant aspects required to solve a problem.\n",
    "- Feature engineering practices that involve data wrangling, data transformation, data reduction, feature selection and feature scaling help restructure raw data into a form suited for particular types of algorithms.\n",
    "- This can significantly reduce the processing power and time required to train a new machine learning or AI algorithm or run an inference against it.\n",
    "\n",
    "\n",
    "### Data preprocessing techniques\n",
    "- There are two main categories of preprocessing -- data cleansing and feature engineering. Each includes a variety of techniques, as detailed below.\n",
    "\n",
    "#### Data cleansing\n",
    "- Techniques for cleaning up messy data include the following:\n",
    "\n",
    "- Identify and sort out missing data.\n",
    "- There are a variety of reasons a data set might be missing individual fields of data.\n",
    "- Data scientists need to decide whether it is better to discard records with missing fields, ignore them or fill them in with a probable value.\n",
    "- For example, in an IoT application that records temperature, adding in a missing average temperature between the previous and subsequent record might be a safe fix.\n",
    "\n",
    "\n",
    "- Reduce noisy data. Real-world data is often noisy, which can distort an analytic or AI model.\n",
    "- For example, a temperature sensor that consistently reported a temperature of 75 degrees Fahrenheit might erroneously report a temperature as 250 degrees.\n",
    "- A variety of statistical approaches can be used to reduce the noise, including binning, regression and clustering.\n",
    "\n",
    "- Identify and remove duplicates. When two records seem to repeat, an algorithm needs to determine if the same measurement was recorded twice, or the records represent different events.\n",
    "- In some cases, there may be slight differences in a record because one field was recorded incorrectly.\n",
    "- In other cases, records that seem to be duplicates might indeed be different, as in a father and son with the same name who are living in the same house but should be represented as separate individuals.\n",
    "- Techniques for identifying and removing or joining duplicates can help to automatically address these types of problems.\n",
    "\n",
    "#### Feature engineering\n",
    "- Feature engineering, as noted, involves techniques used by data scientists to organize the data in ways that make it more efficient to train data models and run inferences against them.\n",
    "- These techniques include the following:\n",
    "\n",
    "- Feature scaling or normalization. Often, multiple variables change over different scales, or one will change linearly while another will change exponentially.\n",
    "- For example, salary might be measured in thousands of dollars, while age is represented in double digits.\n",
    "- Scaling helps to transform the data in a way that makes it easier for algorithms to tease apart a meaningful relationship between variables.\n",
    "\n",
    "##### Data reduction.\n",
    "- Data scientists often need to combine a variety of data sources to create a new AI or analytics model.\n",
    "- Some of the variables may not be correlated with a given outcome and can be safely discarded.\n",
    "- Other variables might be relevant, but only in terms of relationship -- such as the ratio of debt to credit in the case of a model predicting the likelihood of a loan repayment; they may be combined into a single variable.\n",
    "- Techniques like principal component analysis play a key role in reducing the number of dimensions in the training data set into a more efficient representation.\n",
    "\n",
    "##### Discretization.\n",
    "- It's often useful to lump raw numbers into discrete intervals.\n",
    "- For example, income might be broken into five ranges that are representative of people who typically apply for a given type of loan.\n",
    "- This can reduce the overhead of training a model or running inferences against it.\n",
    "\n",
    "##### Feature encoding.\n",
    "- Another aspect of feature engineering involves organizing unstructured data into a structured format.\n",
    "- Unstructured data formats can include text, audio and video.\n",
    "- For example, the process of developing natural language processing algorithms typically starts by using data transformation algorithms like Word2vec to translate words into numerical vectors.\n",
    "- This makes it easy to represent to the algorithm that words like \"mail\" and \"parcel\" are similar, while a word like \"house\" is completely different.\n",
    "- Similarly, a facial recognition algorithm might reencode raw pixel data into vectors representing the distances between parts of the face."
   ]
  },
  {
   "cell_type": "markdown",
   "id": "7cde9b88",
   "metadata": {
    "id": "7cde9b88"
   },
   "source": [
    "# Data Preprocessing :"
   ]
  },
  {
   "cell_type": "code",
   "execution_count": null,
   "id": "7cac7639",
   "metadata": {
    "id": "7cac7639",
    "outputId": "8c5cf545-0f86-404d-b4ff-2d352fc415c9"
   },
   "outputs": [
    {
     "data": {
      "text/plain": [
       "Index(['Loan_ID', 'Gender', 'Married', 'Dependents', 'Education',\n",
       "       'Self_Employed', 'ApplicantIncome', 'CoapplicantIncome', 'LoanAmount',\n",
       "       'Loan_Amount_Term', 'Credit_History', 'Property_Area',\n",
       "       'Loan_Status (Approved)'],\n",
       "      dtype='object')"
      ]
     },
     "execution_count": 19,
     "metadata": {},
     "output_type": "execute_result"
    }
   ],
   "source": [
    "df.columns"
   ]
  },
  {
   "cell_type": "code",
   "execution_count": null,
   "id": "6478916b",
   "metadata": {
    "id": "6478916b",
    "outputId": "57234d6d-a536-4204-85b4-14f446a95327"
   },
   "outputs": [
    {
     "data": {
      "text/plain": [
       "Married\n",
       "Yes    401\n",
       "No     213\n",
       "Name: count, dtype: int64"
      ]
     },
     "execution_count": 20,
     "metadata": {},
     "output_type": "execute_result"
    }
   ],
   "source": [
    "df['Married'].value_counts()"
   ]
  },
  {
   "cell_type": "code",
   "execution_count": null,
   "id": "6a5ec195",
   "metadata": {
    "id": "6a5ec195",
    "outputId": "c89242fe-14a4-432e-8a87-84604b0d2fdf"
   },
   "outputs": [
    {
     "data": {
      "text/plain": [
       "Dependents\n",
       "0     360\n",
       "1     102\n",
       "2     101\n",
       "3+     51\n",
       "Name: count, dtype: int64"
      ]
     },
     "execution_count": 21,
     "metadata": {},
     "output_type": "execute_result"
    }
   ],
   "source": [
    "df['Dependents'].value_counts()"
   ]
  },
  {
   "cell_type": "code",
   "execution_count": null,
   "id": "eea4fa82",
   "metadata": {
    "id": "eea4fa82",
    "outputId": "6830ad02-c3fb-47a3-a0b0-d3d75092cfda"
   },
   "outputs": [
    {
     "data": {
      "text/plain": [
       "Loan_Status (Approved)\n",
       "Y    422\n",
       "N    192\n",
       "Name: count, dtype: int64"
      ]
     },
     "execution_count": 22,
     "metadata": {},
     "output_type": "execute_result"
    }
   ],
   "source": [
    "df['Loan_Status (Approved)'].value_counts()"
   ]
  },
  {
   "cell_type": "code",
   "execution_count": null,
   "id": "e48e9b87",
   "metadata": {
    "id": "e48e9b87",
    "outputId": "964b72d1-6c18-48d7-e978-24fea11f7cbb"
   },
   "outputs": [
    {
     "data": {
      "text/plain": [
       "Property_Area\n",
       "Semiurban    233\n",
       "Urban        202\n",
       "Rural        179\n",
       "Name: count, dtype: int64"
      ]
     },
     "execution_count": 23,
     "metadata": {},
     "output_type": "execute_result"
    }
   ],
   "source": [
    "df['Property_Area'].value_counts()"
   ]
  },
  {
   "cell_type": "markdown",
   "id": "c094c062",
   "metadata": {
    "id": "c094c062"
   },
   "source": [
    "### Steps of preprocesing for features:\n",
    "- LabelEncoder for Married,Credit_history\n",
    "- OrdinalEncoder for Dependents,Education\n",
    "- One hot encoder for Self Employed,Property_area,Gender\n",
    "### Steps of preprocessing for Label\n",
    "- LabelEncoder for Loan_Status (Approved)"
   ]
  },
  {
   "cell_type": "markdown",
   "id": "2cd64b08",
   "metadata": {
    "id": "2cd64b08"
   },
   "source": [
    "- From the above example we can see that there were different columns that we need to work on.\n",
    "- Like for some of the columns we need to do label encoding.\n",
    "- Like for some of the columns we need to do one hot encoding.\n",
    "- Like for some of the columns we need to do scaling.\n",
    "- May be we need to delete some of the columns that weere not relevant that is called data cleaning.\n",
    "\n"
   ]
  },
  {
   "cell_type": "markdown",
   "id": "bf956d85",
   "metadata": {
    "id": "bf956d85"
   },
   "source": []
  },
  {
   "cell_type": "markdown",
   "id": "76bf806f",
   "metadata": {
    "id": "76bf806f"
   },
   "source": [
    "# Data Cleaning :"
   ]
  },
  {
   "cell_type": "code",
   "execution_count": null,
   "id": "3af10f76",
   "metadata": {
    "id": "3af10f76",
    "outputId": "3e58286f-7640-4bd6-ef6e-eaaaa7bc4284"
   },
   "outputs": [
    {
     "data": {
      "text/plain": [
       "Index(['Loan_ID', 'Gender', 'Married', 'Dependents', 'Education',\n",
       "       'Self_Employed', 'ApplicantIncome', 'CoapplicantIncome', 'LoanAmount',\n",
       "       'Loan_Amount_Term', 'Credit_History', 'Property_Area',\n",
       "       'Loan_Status (Approved)'],\n",
       "      dtype='object')"
      ]
     },
     "execution_count": 51,
     "metadata": {},
     "output_type": "execute_result"
    }
   ],
   "source": [
    "df.columns"
   ]
  },
  {
   "cell_type": "code",
   "execution_count": null,
   "id": "0592fdb4",
   "metadata": {
    "id": "0592fdb4"
   },
   "outputs": [],
   "source": [
    "df=df.drop(['Dependents'], axis=1)"
   ]
  },
  {
   "cell_type": "code",
   "execution_count": null,
   "id": "d73eea26",
   "metadata": {
    "id": "d73eea26",
    "outputId": "c474d878-a273-4e6c-8491-f45703890147"
   },
   "outputs": [
    {
     "data": {
      "text/plain": [
       "Index(['Loan_ID', 'Gender', 'Married', 'Education', 'Self_Employed',\n",
       "       'ApplicantIncome', 'CoapplicantIncome', 'LoanAmount',\n",
       "       'Loan_Amount_Term', 'Credit_History', 'Property_Area',\n",
       "       'Loan_Status (Approved)'],\n",
       "      dtype='object')"
      ]
     },
     "execution_count": 53,
     "metadata": {},
     "output_type": "execute_result"
    }
   ],
   "source": [
    "df.columns"
   ]
  },
  {
   "cell_type": "markdown",
   "id": "05f241d6",
   "metadata": {
    "id": "05f241d6"
   },
   "source": [
    "## Here the [ ' Dependents' ] column was dropped as per the requirement."
   ]
  },
  {
   "cell_type": "markdown",
   "id": "eb6b30ec",
   "metadata": {
    "id": "eb6b30ec"
   },
   "source": [
    "# Encoding Techniques :"
   ]
  },
  {
   "cell_type": "markdown",
   "id": "edcaee23",
   "metadata": {
    "id": "edcaee23"
   },
   "source": [
    "- It refers to the process of converting categorical or textual data into numerical format, so that it can be used as input for algorithms to process.\n",
    "- The reason for encoding is that most machine learning algorithms work with numbers and not with text or categorical variables.\n",
    "\n",
    "- Machine learning models can only work with numerical values. For this reason, it is necessary to transform the categorical values of the relevant features into numerical ones. This process is called feature encoding.\n",
    "\n",
    "- Data encoding is a fundamental aspect of data preprocessing in machine learning. As datasets often contain categorical variables, like gender, product categories, or geographic regions, converting them into numerical form is necessary for algorithms to process the data effectively.\n",
    "\n",
    "- Encoding categorical variables is a vital step in preparing data for machine learning tasks.\n",
    "- When dealing with categorical data, characterized by non-numeric values such as text or categories, it becomes necessary to transform them into a numerical format for compatibility with machine learning algorithms.\n",
    "\n"
   ]
  },
  {
   "cell_type": "markdown",
   "id": "372a1742",
   "metadata": {
    "id": "372a1742"
   },
   "source": [
    "# OHE :"
   ]
  },
  {
   "cell_type": "markdown",
   "id": "525eba80",
   "metadata": {
    "id": "525eba80"
   },
   "source": [
    "##  One-Hot Encoding:\n",
    "- One-hot encoding is the most widely used categorical encoding technique. It is suitable for nominal categorical variables, where the categories have no inherent order or relationship. The idea behind one-hot encoding is to represent each category as a binary vector. Here’s how it works:\n",
    "\n",
    "- For each category in a categorical column, a new binary column is created\n",
    "- The binary column will have a value of 1 if the class is present, else it will be zero\n",
    "- For example, if you have a categorical feature “Color” with values “Yellow”, “Blue,” and “Green,” one-hot encoding would convert it into three binary columns:"
   ]
  },
  {
   "cell_type": "markdown",
   "id": "f05d552b",
   "metadata": {
    "id": "f05d552b"
   },
   "source": [
    "### When to use: Ideally for categorical features with less than 10 categories."
   ]
  },
  {
   "cell_type": "markdown",
   "id": "c6711361",
   "metadata": {
    "id": "c6711361"
   },
   "source": [
    "# Using One Hot Encoding :"
   ]
  },
  {
   "cell_type": "code",
   "execution_count": null,
   "id": "a8bf290e",
   "metadata": {
    "id": "a8bf290e"
   },
   "outputs": [],
   "source": [
    "df_encoded = pd.get_dummies(df, columns=['Married'], prefix='Married')\n"
   ]
  },
  {
   "cell_type": "code",
   "execution_count": null,
   "id": "22ec038d",
   "metadata": {
    "id": "22ec038d",
    "outputId": "26244333-b472-4eab-d254-dd836b0d6d65"
   },
   "outputs": [
    {
     "data": {
      "text/plain": [
       "Index(['Loan_ID', 'Gender', 'Education', 'Self_Employed', 'ApplicantIncome',\n",
       "       'CoapplicantIncome', 'LoanAmount', 'Loan_Amount_Term', 'Credit_History',\n",
       "       'Property_Area', 'Loan_Status (Approved)', 'Married_No', 'Married_Yes'],\n",
       "      dtype='object')"
      ]
     },
     "execution_count": 55,
     "metadata": {},
     "output_type": "execute_result"
    }
   ],
   "source": [
    "df_encoded.columns"
   ]
  },
  {
   "cell_type": "markdown",
   "id": "fc3923bd",
   "metadata": {
    "id": "fc3923bd"
   },
   "source": [
    "## We can be able to see that there were two more created from the ['Married'] column."
   ]
  },
  {
   "cell_type": "markdown",
   "id": "6b306811",
   "metadata": {
    "id": "6b306811"
   },
   "source": [
    "# Label Encoding :"
   ]
  },
  {
   "cell_type": "markdown",
   "id": "41419c45",
   "metadata": {
    "id": "41419c45"
   },
   "source": [
    "- Label encoding is suitable for categorical features with only two distinct categories.\n",
    "- In this technique, each category is assigned a unique integer label. Categories are assigned integer values starting from 0.\n",
    "\n",
    "- For example, if you have an ordinal categorical feature “Size” with values “Small,” “Medium,” and “Large,” label encoding would convert it as follows:\n",
    "\n",
    "#### Size  Size_encoded\n",
    "- 0   Small             2\n",
    "- 1  Medium             1\n",
    "- 2   Large             0\n",
    "- 3  Medium             1\n",
    "- 4   Small             2\n",
    "\n",
    "\n",
    "- As you can see, each unique category in the ‘Size’ column has been replaced with a unique integer label, where ‘Small’ is encoded as 2, ‘Medium’ as 1, and ‘Large’ as 0.\n",
    "\n",
    "\n",
    "### When to use: Categorical features with two categories\n",
    "\n"
   ]
  },
  {
   "cell_type": "markdown",
   "id": "c0e22cd2",
   "metadata": {
    "id": "c0e22cd2"
   },
   "source": [
    "# Using Label encoding :"
   ]
  },
  {
   "cell_type": "code",
   "execution_count": null,
   "id": "f32513b8",
   "metadata": {
    "id": "f32513b8",
    "outputId": "0aa4340f-c42f-4569-a40c-cc5a757e7c90"
   },
   "outputs": [
    {
     "name": "stdout",
     "output_type": "stream",
     "text": [
      "     Married\n",
      "0          0\n",
      "1          1\n",
      "2          1\n",
      "3          1\n",
      "4          0\n",
      "..       ...\n",
      "609        0\n",
      "610        1\n",
      "611        1\n",
      "612        1\n",
      "613        0\n",
      "\n",
      "[614 rows x 1 columns]\n"
     ]
    }
   ],
   "source": [
    "from sklearn.preprocessing import LabelEncoder\n",
    "encoder = LabelEncoder()\n",
    "\n",
    "# Fit and transform the 'matchType' column to obtain label-encoded values\n",
    "df['Married'] = encoder.fit_transform(df['Married'])\n",
    "\n",
    "# Display the result\n",
    "print(df[['Married']])"
   ]
  },
  {
   "cell_type": "code",
   "execution_count": null,
   "id": "b4901f0a",
   "metadata": {
    "id": "b4901f0a",
    "outputId": "f73a1609-527d-4121-9038-66dd1f73098d"
   },
   "outputs": [
    {
     "name": "stdout",
     "output_type": "stream",
     "text": [
      "     Loan_Status (Approved)\n",
      "0                         1\n",
      "1                         0\n",
      "2                         1\n",
      "3                         1\n",
      "4                         1\n",
      "..                      ...\n",
      "609                       1\n",
      "610                       1\n",
      "611                       1\n",
      "612                       1\n",
      "613                       0\n",
      "\n",
      "[614 rows x 1 columns]\n"
     ]
    }
   ],
   "source": [
    "from sklearn.preprocessing import LabelEncoder\n",
    "encoder = LabelEncoder()\n",
    "\n",
    "# Fit and transform the 'matchType' column to obtain label-encoded values\n",
    "df['Loan_Status (Approved)'] = encoder.fit_transform(df['Loan_Status (Approved)'])\n",
    "\n",
    "# Display the result\n",
    "print(df[['Loan_Status (Approved)']])"
   ]
  },
  {
   "cell_type": "markdown",
   "id": "d9a22e5e",
   "metadata": {
    "id": "d9a22e5e"
   },
   "source": [
    "# Ordinal Encoding :"
   ]
  },
  {
   "cell_type": "markdown",
   "id": "5f4e61df",
   "metadata": {
    "id": "5f4e61df"
   },
   "source": [
    "###  Ordinal Encoding:\n",
    "- Ordinal encoding is similar to label encoding but allows you to explicitly define the mapping between categories and integer labels.\n",
    "- This is especially useful when there is a clear and predefined ordinal relationship.\n",
    "- You manually specify the order of categories and map them to integers accordingly.\n",
    "\n",
    "- In this example, we use the OrdinalEncoder class from category_encoderslibrary.\n",
    "- This library provides a convenient way to apply various encoding techniques to your categorical data.\n",
    "\n",
    "- We start with a DataFrame df containing an ordinal categorical column 'Education_Level' with values like 'High School,' 'Bachelor's,' and 'Master's.'\n",
    "- We define the order of categories in the education_order list. The order should match the ordinal relationship of the categories.\n",
    "- We initialize the OrdinalEncoder with the specified mapping using the mapping parameter.\n",
    "- We provide a dictionary specifying the column to encode ('Education_Level') and a mapping dictionary that maps each category to its ordinal value based on the defined order.\n",
    "- We fit and transform the DataFrame using the ordinal_encoder.\n",
    "\n",
    "\n",
    "### When to use: The best option for ordinal features that have some orders and hierarchy.\n",
    "\n"
   ]
  },
  {
   "cell_type": "markdown",
   "id": "63ad8149",
   "metadata": {
    "id": "63ad8149"
   },
   "source": [
    "# Using Ordinal Encoder :"
   ]
  },
  {
   "cell_type": "code",
   "execution_count": null,
   "id": "1f1db5e2",
   "metadata": {
    "id": "1f1db5e2",
    "outputId": "4b88b912-a572-4c4a-fe33-3c01c5f303ab"
   },
   "outputs": [
    {
     "data": {
      "text/plain": [
       "Education\n",
       "Graduate        480\n",
       "Not Graduate    134\n",
       "Name: count, dtype: int64"
      ]
     },
     "execution_count": 57,
     "metadata": {},
     "output_type": "execute_result"
    }
   ],
   "source": [
    "df.Education.value_counts()"
   ]
  },
  {
   "cell_type": "code",
   "execution_count": null,
   "id": "2c67d318",
   "metadata": {
    "id": "2c67d318"
   },
   "outputs": [],
   "source": [
    "Education_enc=OrdinalEncoder(categories=[['Graduate', 'Not Graduate']])\n"
   ]
  },
  {
   "cell_type": "code",
   "execution_count": null,
   "id": "6de70a7c",
   "metadata": {
    "id": "6de70a7c"
   },
   "outputs": [],
   "source": [
    "df['Education'] = encoder.fit_transform(df[['Education']])\n"
   ]
  },
  {
   "cell_type": "code",
   "execution_count": null,
   "id": "f5795e47",
   "metadata": {
    "id": "f5795e47",
    "outputId": "6ca8b704-4d06-4a49-f1c1-81f12a4fa95c"
   },
   "outputs": [
    {
     "data": {
      "text/plain": [
       "Education\n",
       "0    480\n",
       "1    134\n",
       "Name: count, dtype: int64"
      ]
     },
     "execution_count": 60,
     "metadata": {},
     "output_type": "execute_result"
    }
   ],
   "source": [
    "df.Education.value_counts()"
   ]
  },
  {
   "cell_type": "markdown",
   "id": "62206b72",
   "metadata": {
    "id": "62206b72"
   },
   "source": [
    "## We are able to see that 0 will be give to 'Graduate' and 1 to 'Not Graduate'."
   ]
  },
  {
   "cell_type": "markdown",
   "id": "a59b098d",
   "metadata": {
    "id": "a59b098d"
   },
   "source": [
    "# Transformation:"
   ]
  },
  {
   "cell_type": "markdown",
   "id": "1ee23bd3",
   "metadata": {
    "id": "1ee23bd3"
   },
   "source": [
    "- Many machine learning algorithms perform better or converge faster when features are on a relatively similar scale and/or close to normally distributed.\n",
    "- Feature transformation is an important step in feature engineering of numeric data and it is used to handle skewed data. Machine Learning & Deep Learning algorithms are highly dependent on the input data quality.\n",
    "- If the data quality is not good then even the high-performance algorithms are of no use.\n",
    "- Examples of such algorithm families include:\n",
    "\n",
    "1. Linear and logistic regression\n",
    "2. Nearest neighbours\n",
    "3. Neural networks\n",
    "4. Support vector machines with radial bias kernel functions\n",
    "5. Principal components analysis"
   ]
  },
  {
   "cell_type": "markdown",
   "id": "8999bf06",
   "metadata": {
    "id": "8999bf06"
   },
   "source": [
    "- Scaling and standardizing can help features arrive in more digestible form for these algorithms.\n",
    "\n",
    "## Types Of Transformation\n",
    "### Normalization And Standardization\n",
    "\n",
    "1. Scaling to Minimum And Maximum values\n",
    "2. Scaling To Median And Quantiles\n",
    "3. Logarithmic Transformation\n",
    "4. Exponential Transformation\n",
    "5. Box Cox Transformation\n",
    "6. Square Root Transformation\n"
   ]
  },
  {
   "cell_type": "markdown",
   "id": "19b773a8",
   "metadata": {
    "id": "19b773a8"
   },
   "source": [
    "# Logarithmic Transformation :"
   ]
  },
  {
   "cell_type": "markdown",
   "id": "1c55a667",
   "metadata": {
    "id": "1c55a667"
   },
   "source": [
    "- The log transformation is, arguably, the most popular among the different types of transformations used to transform skewed data to approximately conform to normality.\n",
    "- If the original data follows a log-normal distribution or approximately so, then the log-transformed data follows a normal or near normal distribution.\n",
    "- Logarithmic transformation is a convenient means of transforming a highly skewed variable into a more normalized dataset.\n",
    "- When modeling variables with non-linear relationships, the chances of producing errors may also be skewed negatively."
   ]
  },
  {
   "cell_type": "markdown",
   "id": "e8d79c4a",
   "metadata": {
    "id": "e8d79c4a"
   },
   "source": [
    "- Log transformation is a data transformation method in which it replaces each variable x with a log(x).\n",
    "- The choice of the logarithm base is usually left up to the analyst and it would depend on the purposes of statistical modeling.\n",
    "- When our original continuous data do not follow the bell curve, we can log transform this data to make it as “normal” as possible so that the statistical analysis results from this data become more valid.\n",
    "- In other words, the log transformation reduces or removes the skewness of our original data.\n",
    "- The important caveat here is that the original data has to follow or approximately follow a log-normal distribution. Otherwise, the log transformation won’t work."
   ]
  },
  {
   "cell_type": "markdown",
   "id": "8f12e78e",
   "metadata": {
    "id": "8f12e78e"
   },
   "source": [
    "# Implementation :"
   ]
  },
  {
   "cell_type": "code",
   "execution_count": null,
   "id": "6de1f3de",
   "metadata": {
    "id": "6de1f3de",
    "outputId": "9308a6f7-aa3d-419c-efe1-08b5003e233e",
    "scrolled": true
   },
   "outputs": [
    {
     "data": {
      "text/plain": [
       "Index(['Loan_ID', 'Gender', 'Married', 'Dependents', 'Education',\n",
       "       'Self_Employed', 'ApplicantIncome', 'CoapplicantIncome', 'LoanAmount',\n",
       "       'Loan_Amount_Term', 'Credit_History', 'Property_Area',\n",
       "       'Loan_Status (Approved)'],\n",
       "      dtype='object')"
      ]
     },
     "execution_count": 21,
     "metadata": {},
     "output_type": "execute_result"
    }
   ],
   "source": [
    "df.columns"
   ]
  },
  {
   "cell_type": "code",
   "execution_count": null,
   "id": "e55d2ced",
   "metadata": {
    "id": "e55d2ced",
    "outputId": "009ca292-3b57-4f28-ac56-d80eb9cb7fdc",
    "scrolled": false
   },
   "outputs": [
    {
     "data": {
      "image/png": "[encoded data removed]",
      "text/plain": [
       "<Figure size 300x400 with 1 Axes>"
      ]
     },
     "metadata": {},
     "output_type": "display_data"
    }
   ],
   "source": [
    "plt.figure(figsize=(3,4))\n",
    "sns.histplot(x=df['CoapplicantIncome'], kde= True) # left screwed\n",
    "plt.show()"
   ]
  },
  {
   "cell_type": "markdown",
   "id": "f2833089",
   "metadata": {
    "id": "f2833089"
   },
   "source": [
    "## We are able to see that the target value is slighly right skewed."
   ]
  },
  {
   "cell_type": "code",
   "execution_count": null,
   "id": "98444b91",
   "metadata": {
    "id": "98444b91",
    "outputId": "01e815e8-047f-491c-aaaa-913046469012",
    "scrolled": false
   },
   "outputs": [
    {
     "data": {
      "image/png": "[encoded data removed]",
      "text/plain": [
       "<Figure size 300x400 with 1 Axes>"
      ]
     },
     "metadata": {},
     "output_type": "display_data"
    }
   ],
   "source": [
    "plt.figure(figsize=(3,4))\n",
    "sns.histplot(x=df['ApplicantIncome'], kde= True) # left screwed\n",
    "plt.show()"
   ]
  },
  {
   "cell_type": "code",
   "execution_count": null,
   "id": "e98e66de",
   "metadata": {
    "id": "e98e66de",
    "outputId": "2a9ddce3-3aed-4f86-f9f6-80f00efa44f3",
    "scrolled": false
   },
   "outputs": [
    {
     "data": {
      "image/png": "[encoded data removed]",
      "text/plain": [
       "<Figure size 300x400 with 1 Axes>"
      ]
     },
     "metadata": {},
     "output_type": "display_data"
    }
   ],
   "source": [
    "plt.figure(figsize=(3,4))\n",
    "sns.histplot(x=df['LoanAmount'], kde= True) # left screwed\n",
    "plt.show()"
   ]
  },
  {
   "cell_type": "code",
   "execution_count": null,
   "id": "0a5500b6",
   "metadata": {
    "id": "0a5500b6",
    "outputId": "bdd053ee-a8a5-4792-952e-59c443fd7b50"
   },
   "outputs": [
    {
     "data": {
      "image/png": "[encoded data removed]",
      "text/plain": [
       "<Figure size 300x400 with 1 Axes>"
      ]
     },
     "metadata": {},
     "output_type": "display_data"
    }
   ],
   "source": [
    "plt.figure(figsize=(3,4))\n",
    "sns.histplot(x=df['Loan_Amount_Term'], kde= True) # right screwed\n",
    "plt.show()"
   ]
  },
  {
   "cell_type": "markdown",
   "id": "56b351c7",
   "metadata": {
    "id": "56b351c7"
   },
   "source": [
    "### We are able to see that some of columns were right skewed and some were left skewed.\n",
    "### so we will using different transformation for different columns."
   ]
  },
  {
   "cell_type": "markdown",
   "id": "916651e5",
   "metadata": {
    "id": "916651e5"
   },
   "source": [
    "# Using Log transformation :"
   ]
  },
  {
   "cell_type": "code",
   "execution_count": null,
   "id": "c4e2964a",
   "metadata": {
    "id": "c4e2964a",
    "scrolled": true
   },
   "outputs": [],
   "source": [
    "df['CoapplicantIncome']=np.log(df['CoapplicantIncome'])"
   ]
  },
  {
   "cell_type": "code",
   "execution_count": null,
   "id": "5db92cfb",
   "metadata": {
    "id": "5db92cfb",
    "outputId": "ea5d57c3-3bba-4a19-e5ee-8e97c2fbe1e6"
   },
   "outputs": [
    {
     "data": {
      "image/png": "[encoded data removed]",
      "text/plain": [
       "<Figure size 300x400 with 1 Axes>"
      ]
     },
     "metadata": {},
     "output_type": "display_data"
    }
   ],
   "source": [
    "plt.figure(figsize=(3,4))\n",
    "sns.histplot(x=df['CoapplicantIncome'], kde= True) # Target columns\n",
    "plt.show()"
   ]
  },
  {
   "cell_type": "markdown",
   "id": "5c9ab6df",
   "metadata": {
    "id": "5c9ab6df"
   },
   "source": [
    "### Data were sorted now."
   ]
  },
  {
   "cell_type": "markdown",
   "id": "735f6528",
   "metadata": {
    "id": "735f6528"
   },
   "source": [
    "# Exponential Transformation :"
   ]
  },
  {
   "cell_type": "markdown",
   "id": "9f245000",
   "metadata": {
    "id": "9f245000"
   },
   "source": [
    "- An exponential transformation is a simple algebraic transformation of a monomial function through variable substitution with an exponential variable.\n",
    "\n",
    "- In computational optimization, exponential transformations are used for convexification of geometric programming constraints in nonconvex optimization problems."
   ]
  },
  {
   "cell_type": "markdown",
   "id": "327b7b80",
   "metadata": {
    "id": "327b7b80"
   },
   "source": [
    "# Using Exponential Transformers :"
   ]
  },
  {
   "cell_type": "code",
   "execution_count": null,
   "id": "6cce518c",
   "metadata": {
    "id": "6cce518c"
   },
   "outputs": [],
   "source": [
    "df['ApplicantIncome_exponential']=df.ApplicantIncome**(1/1.2)\n"
   ]
  },
  {
   "cell_type": "code",
   "execution_count": null,
   "id": "f6b9cb0b",
   "metadata": {
    "id": "f6b9cb0b",
    "outputId": "1c0c1bfd-c201-427c-dc42-d40b576ad639"
   },
   "outputs": [
    {
     "data": {
      "image/png": "[encoded data removed]",
      "text/plain": [
       "<Figure size 300x400 with 1 Axes>"
      ]
     },
     "metadata": {},
     "output_type": "display_data"
    }
   ],
   "source": [
    "plt.figure(figsize=(3,4))\n",
    "sns.histplot(x=df['ApplicantIncome_exponential'], kde= True)\n",
    "plt.show()"
   ]
  },
  {
   "cell_type": "markdown",
   "id": "b42588e5",
   "metadata": {
    "id": "b42588e5"
   },
   "source": [
    "# Box Cox Transformation :"
   ]
  },
  {
   "cell_type": "markdown",
   "id": "4b298f99",
   "metadata": {
    "id": "4b298f99"
   },
   "source": [
    "\n",
    "The Box-Cox transformation is a technique used to stabilize the variance and make data more Gaussian-like. It is applicable to non-negative data that is skewed. The transformation involves raising the data to a power, which is determined using maximum likelihood estimation."
   ]
  },
  {
   "cell_type": "markdown",
   "id": "c37090ac",
   "metadata": {
    "id": "c37090ac"
   },
   "source": [
    "# Using  Box Cox Transformation :"
   ]
  },
  {
   "cell_type": "code",
   "execution_count": null,
   "id": "2f671be2",
   "metadata": {
    "id": "2f671be2"
   },
   "outputs": [],
   "source": [
    "from scipy.stats import boxcox\n",
    "transformed_data, lambda_value = boxcox(df['Loan_Amount_Term'])\n",
    "\n"
   ]
  },
  {
   "cell_type": "code",
   "execution_count": null,
   "id": "d92ee7bc",
   "metadata": {
    "collapsed": true,
    "id": "d92ee7bc",
    "outputId": "68f7f2bf-43cb-4140-b423-a1c51d68940b"
   },
   "outputs": [
    {
     "name": "stdout",
     "output_type": "stream",
     "text": [
      "Transformed data: [1.71794718e+07 1.71794718e+07 1.71794718e+07 1.71794718e+07\n",
      " 1.71794718e+07 1.71794718e+07 1.71794718e+07 1.71794718e+07\n",
      " 1.71794718e+07 1.71794718e+07 1.71794718e+07 1.71794718e+07\n",
      " 1.71794718e+07 1.71794718e+07 6.23872137e+05 1.71794718e+07\n",
      " 5.05336157e+06 1.71794718e+07 1.71794718e+07 1.71794718e+07\n",
      " 1.71794718e+07 1.71794718e+07 1.71794718e+07 1.71794718e+07\n",
      " 1.71794718e+07 1.71794718e+07 1.71794718e+07 1.71794718e+07\n",
      " 1.71794718e+07 1.71794718e+07 1.71794718e+07 1.71794718e+07\n",
      " 1.71794718e+07 1.71794718e+07 1.71794718e+07 1.71794718e+07\n",
      " 1.71794718e+07 1.71794718e+07 1.71794718e+07 1.71794718e+07\n",
      " 1.71794718e+07 1.71794718e+07 1.71794718e+07 1.71794718e+07\n",
      " 1.71794718e+07 1.71794718e+07 1.71794718e+07 1.71794718e+07\n",
      " 1.71794718e+07 1.71794718e+07 1.71794718e+07 1.71794718e+07\n",
      " 1.71794718e+07 1.71794718e+07 1.71794718e+07 1.71794718e+07\n",
      " 1.71794718e+07 1.71794718e+07 1.71794718e+07 1.71794718e+07\n",
      " 1.71794718e+07 1.71794718e+07 2.12092429e+06 1.71794718e+07\n",
      " 1.71794718e+07 1.71794718e+07 2.12092429e+06 1.71794718e+07\n",
      " 7.70210387e+04 1.71794718e+07 1.71794718e+07 1.71794718e+07\n",
      " 9.90939403e+06 1.71794718e+07 1.71794718e+07 4.09321898e+07\n",
      " 1.71794718e+07 1.71794718e+07 9.90939403e+06 1.71794718e+07\n",
      " 1.71794718e+07 1.71794718e+07 1.71794718e+07 1.71794718e+07\n",
      " 5.05336157e+06 1.71794718e+07 1.71794718e+07 1.71794718e+07\n",
      " 1.71794718e+07 1.71794718e+07 1.71794718e+07 2.12092429e+06\n",
      " 1.71794718e+07 1.71794718e+07 6.23872137e+05 1.71794718e+07\n",
      " 1.71794718e+07 1.71794718e+07 2.12092429e+06 1.71794718e+07\n",
      " 2.12092429e+06 1.71794718e+07 1.71794718e+07 1.71794718e+07\n",
      " 1.71794718e+07 1.71794718e+07 1.71794718e+07 1.71794718e+07\n",
      " 1.71794718e+07 4.09321898e+07 1.71794718e+07 1.71794718e+07\n",
      " 1.71794718e+07 1.71794718e+07 1.71794718e+07 2.12092429e+06\n",
      " 1.71794718e+07 1.71794718e+07 1.71794718e+07 1.71794718e+07\n",
      " 1.71794718e+07 1.71794718e+07 1.71794718e+07 1.71794718e+07\n",
      " 1.71794718e+07 1.71794718e+07 1.71794718e+07 1.71794718e+07\n",
      " 2.12092429e+06 1.71794718e+07 4.09321898e+07 1.71794718e+07\n",
      " 1.71794718e+07 6.23872137e+05 1.71794718e+07 1.71794718e+07\n",
      " 1.71794718e+07 1.71794718e+07 1.71794718e+07 1.71794718e+07\n",
      " 1.71794718e+07 1.71794718e+07 2.12092429e+06 1.71794718e+07\n",
      " 2.12092429e+06 1.71794718e+07 1.71794718e+07 1.71794718e+07\n",
      " 1.71794718e+07 1.71794718e+07 1.71794718e+07 1.71794718e+07\n",
      " 1.71794718e+07 1.71794718e+07 1.71794718e+07 2.12092429e+06\n",
      " 1.71794718e+07 1.71794718e+07 1.71794718e+07 1.71794718e+07\n",
      " 1.71794718e+07 1.71794718e+07 1.71794718e+07 1.71794718e+07\n",
      " 2.12092429e+06 1.71794718e+07 1.71794718e+07 1.71794718e+07\n",
      " 4.09321898e+07 1.71794718e+07 1.71794718e+07 9.90939403e+06\n",
      " 2.12092429e+06 1.71794718e+07 1.71794718e+07 1.71794718e+07\n",
      " 1.71794718e+07 1.71794718e+07 1.71794718e+07 4.09321898e+07\n",
      " 1.71794718e+07 1.71794718e+07 2.12092429e+06 1.71794718e+07\n",
      " 1.71794718e+07 1.71794718e+07 9.90939403e+06 1.71794718e+07\n",
      " 1.71794718e+07 2.12092429e+06 1.71794718e+07 1.71794718e+07\n",
      " 1.71794718e+07 1.71794718e+07 1.71794718e+07 1.71794718e+07\n",
      " 1.71794718e+07 1.71794718e+07 1.71794718e+07 1.71794718e+07\n",
      " 1.71794718e+07 1.71794718e+07 2.12092429e+06 1.71794718e+07\n",
      " 1.71794718e+07 1.71794718e+07 1.71794718e+07 1.71794718e+07\n",
      " 1.71794718e+07 1.71794718e+07 1.71794718e+07 1.71794718e+07\n",
      " 1.71794718e+07 1.71794718e+07 1.71794718e+07 1.71794718e+07\n",
      " 1.71794718e+07 1.71794718e+07 1.71794718e+07 1.71794718e+07\n",
      " 1.71794718e+07 1.71794718e+07 1.71794718e+07 1.71794718e+07\n",
      " 1.71794718e+07 1.71794718e+07 1.71794718e+07 1.71794718e+07\n",
      " 4.09321898e+07 1.71794718e+07 1.71794718e+07 2.12092429e+06\n",
      " 1.71794718e+07 1.71794718e+07 1.71794718e+07 1.71794718e+07\n",
      " 1.71794718e+07 1.71794718e+07 1.71794718e+07 1.71794718e+07\n",
      " 1.71794718e+07 2.12092429e+06 7.70210387e+04 1.71794718e+07\n",
      " 1.71794718e+07 2.12092429e+06 1.71794718e+07 2.12092429e+06\n",
      " 4.09321898e+07 1.71794718e+07 1.71794718e+07 1.71794718e+07\n",
      " 1.71794718e+07 2.12092429e+06 1.71794718e+07 1.71794718e+07\n",
      " 1.71794718e+07 1.71794718e+07 1.71794718e+07 1.71794718e+07\n",
      " 1.71794718e+07 1.71794718e+07 1.64846842e+04 1.71794718e+07\n",
      " 1.71794718e+07 1.71794718e+07 1.71794718e+07 1.71794718e+07\n",
      " 1.71794718e+07 1.71794718e+07 1.71794718e+07 1.71794718e+07\n",
      " 1.71794718e+07 1.71794718e+07 1.71794718e+07 1.71794718e+07\n",
      " 1.71794718e+07 1.71794718e+07 1.71794718e+07 1.71794718e+07\n",
      " 1.71794718e+07 1.71794718e+07 2.12092429e+06 1.71794718e+07\n",
      " 1.71794718e+07 1.71794718e+07 9.90939403e+06 1.71794718e+07\n",
      " 1.71794718e+07 1.71794718e+07 1.71794718e+07 1.71794718e+07\n",
      " 1.71794718e+07 4.09321898e+07 1.71794718e+07 1.71794718e+07\n",
      " 1.71794718e+07 1.71794718e+07 4.09321898e+07 1.71794718e+07\n",
      " 1.71794718e+07 1.71794718e+07 1.71794718e+07 1.71794718e+07\n",
      " 1.71794718e+07 1.71794718e+07 1.71794718e+07 1.71794718e+07\n",
      " 1.71794718e+07 1.71794718e+07 1.71794718e+07 1.71794718e+07\n",
      " 1.71794718e+07 2.12624522e+05 1.71794718e+07 2.12092429e+06\n",
      " 1.71794718e+07 1.71794718e+07 1.71794718e+07 1.71794718e+07\n",
      " 1.71794718e+07 1.71794718e+07 1.71794718e+07 1.71794718e+07\n",
      " 1.71794718e+07 1.71794718e+07 1.71794718e+07 1.71794718e+07\n",
      " 1.71794718e+07 1.71794718e+07 1.71794718e+07 1.71794718e+07\n",
      " 1.71794718e+07 2.12092429e+06 2.12092429e+06 1.71794718e+07\n",
      " 1.71794718e+07 1.71794718e+07 1.71794718e+07 1.71794718e+07\n",
      " 1.71794718e+07 1.71794718e+07 1.71794718e+07 1.71794718e+07\n",
      " 1.71794718e+07 1.71794718e+07 1.71794718e+07 1.71794718e+07\n",
      " 1.71794718e+07 1.71794718e+07 1.71794718e+07 1.71794718e+07\n",
      " 1.71794718e+07 1.71794718e+07 1.71794718e+07 2.12092429e+06\n",
      " 1.71794718e+07 1.71794718e+07 4.09321898e+07 1.71794718e+07\n",
      " 1.71794718e+07 1.71794718e+07 1.71794718e+07 9.90939403e+06\n",
      " 1.71794718e+07 1.71794718e+07 4.09321898e+07 1.71794718e+07\n",
      " 1.71794718e+07 1.71794718e+07 1.71794718e+07 1.71794718e+07\n",
      " 9.90939403e+06 2.12092429e+06 1.71794718e+07 2.12092429e+06\n",
      " 1.71794718e+07 1.71794718e+07 4.09321898e+07 1.71794718e+07\n",
      " 1.71794718e+07 1.71794718e+07 1.71794718e+07 1.71794718e+07\n",
      " 1.71794718e+07 2.12092429e+06 1.71794718e+07 1.71794718e+07\n",
      " 1.71794718e+07 1.71794718e+07 1.71794718e+07 1.71794718e+07\n",
      " 1.71794718e+07 2.12092429e+06 1.71794718e+07 1.71794718e+07\n",
      " 1.71794718e+07 1.71794718e+07 1.71794718e+07 1.71794718e+07\n",
      " 2.12092429e+06 9.90939403e+06 1.71794718e+07 1.71794718e+07\n",
      " 1.71794718e+07 1.71794718e+07 1.71794718e+07 1.71794718e+07\n",
      " 9.90939403e+06 1.71794718e+07 1.71794718e+07 1.71794718e+07\n",
      " 1.71794718e+07 1.71794718e+07 1.71794718e+07 1.71794718e+07\n",
      " 1.71794718e+07 1.71794718e+07 1.71794718e+07 1.71794718e+07\n",
      " 1.71794718e+07 1.71794718e+07 1.71794718e+07 1.71794718e+07\n",
      " 1.71794718e+07 1.71794718e+07 1.71794718e+07 1.71794718e+07\n",
      " 1.71794718e+07 2.12092429e+06 1.71794718e+07 1.71794718e+07\n",
      " 1.71794718e+07 1.71794718e+07 1.71794718e+07 5.05336157e+06\n",
      " 1.71794718e+07 1.71794718e+07 1.71794718e+07 1.71794718e+07\n",
      " 1.71794718e+07 1.71794718e+07 1.71794718e+07 1.71794718e+07\n",
      " 9.90939403e+06 1.71794718e+07 1.71794718e+07 1.71794718e+07\n",
      " 1.71794718e+07 1.71794718e+07 1.71794718e+07 9.90939403e+06\n",
      " 1.71794718e+07 2.12092429e+06 1.71794718e+07 1.71794718e+07\n",
      " 1.71794718e+07 1.71794718e+07 1.71794718e+07 1.71794718e+07\n",
      " 1.71794718e+07 2.12092429e+06 1.71794718e+07 1.71794718e+07\n",
      " 1.71794718e+07 1.71794718e+07 2.12092429e+06 1.71794718e+07\n",
      " 1.71794718e+07 1.71794718e+07 1.71794718e+07 2.12092429e+06\n",
      " 1.71794718e+07 1.71794718e+07 1.71794718e+07 1.71794718e+07\n",
      " 9.90939403e+06 1.71794718e+07 1.71794718e+07 1.71794718e+07\n",
      " 1.71794718e+07 1.71794718e+07 1.71794718e+07 1.71794718e+07\n",
      " 1.71794718e+07 1.71794718e+07 1.71794718e+07 1.71794718e+07\n",
      " 1.71794718e+07 1.71794718e+07 1.71794718e+07 1.71794718e+07\n",
      " 1.71794718e+07 1.71794718e+07 1.71794718e+07 2.12624522e+05\n",
      " 1.71794718e+07 5.98321927e+02 1.71794718e+07 1.71794718e+07\n",
      " 4.09321898e+07 1.71794718e+07 1.71794718e+07 1.71794718e+07\n",
      " 9.90939403e+06 1.71794718e+07 1.71794718e+07 1.71794718e+07\n",
      " 1.71794718e+07 1.71794718e+07 1.71794718e+07 1.71794718e+07\n",
      " 1.71794718e+07 2.12092429e+06 1.71794718e+07 1.71794718e+07\n",
      " 4.09321898e+07 1.71794718e+07 1.71794718e+07 1.71794718e+07\n",
      " 1.71794718e+07 1.71794718e+07 1.71794718e+07 1.71794718e+07\n",
      " 1.71794718e+07 1.71794718e+07 1.71794718e+07 1.71794718e+07\n",
      " 1.71794718e+07 1.71794718e+07 1.71794718e+07 1.71794718e+07\n",
      " 1.71794718e+07 1.71794718e+07 1.71794718e+07 1.71794718e+07\n",
      " 1.71794718e+07 1.71794718e+07 1.71794718e+07 2.12092429e+06\n",
      " 2.12092429e+06 1.71794718e+07 1.71794718e+07 1.71794718e+07\n",
      " 1.71794718e+07 1.71794718e+07 1.64846842e+04 1.71794718e+07\n",
      " 1.71794718e+07 1.71794718e+07 1.71794718e+07 1.71794718e+07\n",
      " 1.71794718e+07 1.71794718e+07 2.12092429e+06 1.71794718e+07\n",
      " 1.71794718e+07 1.71794718e+07 1.71794718e+07 1.71794718e+07\n",
      " 1.71794718e+07 1.71794718e+07 1.71794718e+07 1.71794718e+07\n",
      " 1.71794718e+07 1.71794718e+07 1.71794718e+07 1.71794718e+07\n",
      " 1.71794718e+07 1.71794718e+07 1.71794718e+07 1.71794718e+07\n",
      " 1.71794718e+07 4.09321898e+07 1.71794718e+07 2.12624522e+05\n",
      " 1.71794718e+07 1.71794718e+07 1.71794718e+07 1.71794718e+07\n",
      " 1.71794718e+07 1.71794718e+07 1.71794718e+07 1.71794718e+07\n",
      " 1.71794718e+07 2.12624522e+05 1.71794718e+07 1.71794718e+07\n",
      " 1.71794718e+07 1.71794718e+07 2.12092429e+06 5.05336157e+06\n",
      " 1.71794718e+07 2.12092429e+06 1.71794718e+07 1.71794718e+07\n",
      " 1.71794718e+07 1.71794718e+07 1.71794718e+07 1.71794718e+07\n",
      " 2.12092429e+06 1.71794718e+07 1.71794718e+07 1.71794718e+07\n",
      " 1.71794718e+07 2.12092429e+06 1.71794718e+07 1.71794718e+07\n",
      " 1.71794718e+07 1.71794718e+07 2.12092429e+06 1.71794718e+07\n",
      " 1.71794718e+07 1.71794718e+07]\n"
     ]
    }
   ],
   "source": [
    "print(\"Transformed data:\", transformed_data)\n"
   ]
  },
  {
   "cell_type": "code",
   "execution_count": null,
   "id": "d48ea60e",
   "metadata": {
    "id": "d48ea60e",
    "outputId": "c0a5ecc9-ae3d-4351-bad5-056446ea734e"
   },
   "outputs": [
    {
     "name": "stdout",
     "output_type": "stream",
     "text": [
      "Lambda value: 3.0179204535899\n"
     ]
    }
   ],
   "source": [
    "print(\"Lambda value:\", lambda_value)\n"
   ]
  },
  {
   "cell_type": "markdown",
   "id": "b2cef415",
   "metadata": {
    "id": "b2cef415"
   },
   "source": [
    "# Square Root Transformation :\n"
   ]
  },
  {
   "cell_type": "markdown",
   "id": "d1bb37c9",
   "metadata": {
    "id": "d1bb37c9"
   },
   "source": [
    "- This transformation is beneficial when dealing with right-skewed data or a few extreme outliers.\n",
    "- Taking the square root can help compress the larger values and make the distribution more symmetric."
   ]
  },
  {
   "cell_type": "markdown",
   "id": "b06269fe",
   "metadata": {
    "id": "b06269fe"
   },
   "source": [
    "# Using Square Root Transformation :"
   ]
  },
  {
   "cell_type": "code",
   "execution_count": null,
   "id": "6a96e9f1",
   "metadata": {
    "id": "6a96e9f1"
   },
   "outputs": [],
   "source": [
    "df['LoanAmount']=df.LoanAmount**(1/2) # this column is right scre\n"
   ]
  },
  {
   "cell_type": "code",
   "execution_count": null,
   "id": "84f54c0a",
   "metadata": {
    "id": "84f54c0a",
    "outputId": "69a57e35-3f1d-4ff9-e701-dfdd99fa7a21"
   },
   "outputs": [
    {
     "data": {
      "image/png": "[encoded data removed]",
      "text/plain": [
       "<Figure size 300x400 with 1 Axes>"
      ]
     },
     "metadata": {},
     "output_type": "display_data"
    }
   ],
   "source": [
    "plt.figure(figsize=(3,4))\n",
    "sns.histplot(x=df['LoanAmount'], kde= True)\n",
    "plt.show()"
   ]
  },
  {
   "cell_type": "markdown",
   "id": "16c888e2",
   "metadata": {
    "id": "16c888e2"
   },
   "source": [
    "### Now it is perfectly balanced."
   ]
  },
  {
   "cell_type": "markdown",
   "id": "be97268d",
   "metadata": {
    "id": "be97268d"
   },
   "source": [
    "### All the available features need to be experimented with to get the best transformation for each feature."
   ]
  },
  {
   "cell_type": "markdown",
   "id": "3d35cdc4",
   "metadata": {
    "id": "3d35cdc4"
   },
   "source": [
    "# Scaling :"
   ]
  },
  {
   "cell_type": "markdown",
   "id": "21bb3f3f",
   "metadata": {
    "id": "21bb3f3f"
   },
   "source": [
    "- Feature scaling is the process of normalizing the range of features in a dataset.\n",
    "- Real-world datasets often contain features that are varying in degrees of magnitude, range, and units. Therefore, in order for machine learning models to interpret these features on the same scale, we need to perform feature scaling.\n",
    "\n",
    "- Scaling of the data comes under the set of steps of data pre-processing when we are performing machine learning algorithms in the data set.\n",
    "- As we know most of the supervised and unsupervised learning methods make decisions according to the data sets applied to them and often the algorithms calculate the distance between the data points to make better inferences out of the data.\n",
    "\n",
    "- In real life, if we take an example of purchasing apples from a bunch of apples, we go close to the shop, examine various apples and pick various apples of the same attributes.\n",
    "- Because we have learned about the attributes of apples and we know which are better and which are not good also we know which attributes can be compromised and which can not.\n",
    "- So if most of the apples consist of pretty similar attributes we will take less time in the selection of the apples which directly affect the time of purchasing taken by us.\n",
    "- The moral of the example as if the apples every apple in the shop is good we will take less time to purchase or if the apples are not good enough we will take more time in the selection process which means that if the values of attributes are closer we will work faster and the chances of selecting good apples also strong.\n",
    "\n",
    "- Similarly in the machine learning algorithms if the values of the features are closer to each other there are chances for the algorithm to get trained well and faster instead of the data set where the data points or features values have high differences with each other will take more time to understand the data and the accuracy will be lower.\n",
    "\n",
    "- So if the data in any conditions has data points far from each other, scaling is a technique to make them closer to each other or in simpler words, we can say that the scaling is used for making data points generalized so that the distance between them will be lower.\n",
    "\n",
    "- As we know, most of the machine learning models learn from the data by the time the learning model maps the data points from input to output.  \n",
    "- And the distribution of the data points can be different for every feature of the data.\n",
    "- Larger differences between the data points of input variables increase the uncertainty in the results of the model.\n",
    "\n",
    "- The machine learning models provide weights to the input variables according to their data points and inferences for output. -  - In that case, if the difference between the data points is so high, the model will need to provide the larger weight to the points and in final results, the model with a large weight value is often unstable.\n",
    "- This means the model can produce poor results or can perform poorly during learning.\n",
    "\n",
    "- Scaling the target value is a good idea in regression modelling; scaling of the data makes it easy for a model to learn and understand the problem.\n",
    "- In the case of neural networks, an independent variable with a spread of values may result in a large loss in training and testing and cause the learning process to be unstable.\n",
    "\n",
    "- Normalization and Standardization are the two main methods for the scaling of the data. Which are widely used in the algorithms where scaling is required.\n",
    "- Both of them can be implemented by the scikit-learn libraries preprocess package.\n",
    "\n",
    "## Why feature scaling?\n",
    "\n",
    "- As of now, we have discussed that various machine learning algorithms are sensitive when the data is not scaled.\n",
    "- There are various machine learning algorithms that use the same kind of basic strategies as their base concept under the algorithm.\n",
    "- These base concepts are totally based on the mapping of the distance between data points.\n",
    "\n"
   ]
  },
  {
   "cell_type": "markdown",
   "id": "c90199c1",
   "metadata": {
    "id": "c90199c1"
   },
   "source": [
    "## Why is Scaling Important?\n",
    "\n",
    "- By far, we saw how scaling can affect the distribution and nature of the dataset.\n",
    "- Now it’s time to see why scaling is important before model building or how it can improve the model’s accuracy.\n",
    "- Along with that, we will also see what type of algorithm shows the effect for that, we have taken two algorithms, i.e., Logistic regression, where there is a lot of significance of distance, and another one is Decision Tree which has no relationship with distance."
   ]
  },
  {
   "cell_type": "markdown",
   "id": "5b7ffe89",
   "metadata": {
    "id": "5b7ffe89"
   },
   "source": [
    "## Data Normalization :\n",
    "\n",
    "- Normalization can have various meanings, in the simplest case normalization means adjusting all the values measured in the different scales, in a common scale.\n",
    "\n",
    "- In statistics, normalization is the method of rescaling data where we try to fit all the data points between the range of 0 to 1 so that the data points can become closer to each other.\n",
    "\n",
    "- It is a very common approach to scaling the data.\n",
    "- In this method of scaling the data, the minimum value of any feature gets converted into 0 and the maximum value of the feature gets converted into 1.\n",
    "\n",
    "- Basically, under the operation of normalization, the difference between any value and the minimum value gets divided by the difference of the maximum and minimum values.\n",
    "- We can represent the normalization as follows :\n",
    "\n",
    "### X(norm) = X- min(x) / max(x) - min(x)\n",
    "\n",
    "\n",
    "- Where x is any value from the feature x and min(X) is the minimum value from the feature and max(x) is the maximum value of the feature.\n",
    "\n",
    "- Scikit learn provides the implementation of normalization in a preprocessing package.\n",
    "\n",
    "#### Normalizing the array.\n",
    "\n",
    "- scaler = MinMaxScaler()\n",
    "- scaler.fit(df)\n",
    "- scaled_features = scaler.transform(df)\n",
    "- print(scaled_features)\n",
    "\n",
    "### Where to Use Normalization?\n",
    "\n",
    "- Since we have seen the normalization method scales between zero to one it is better to use with the data where the distribution of the data is not following the Gaussian distribution or we can apply with an algorithm that does not count on the distribution of the data in the procedure like K-means and KNN.\n"
   ]
  },
  {
   "cell_type": "markdown",
   "id": "fac2bde8",
   "metadata": {
    "id": "fac2bde8"
   },
   "source": [
    "## Standardization :\n",
    "\n",
    "- Like normalization, standardization is also required in some forms of machine learning when the input data points are scaled in different scales. Standardization can be a common scale for these data points.  \n",
    "\n",
    "- The basic concept behind the standardization function is to make data points centred about the mean of all the data points presented in a feature with a unit standard deviation.\n",
    "- This means the mean of the data point will be zero and the standard deviation will be 1.\n",
    "\n",
    "- This technique also tries to scale the data point between zero to one but in it, we don’t use max or minimum.\n",
    "- Here we are working with the mean and the standard deviation.\n",
    "\n",
    "- In statistics, the mean is the average value of all the numbers presented in a set of numbers and the standard deviation is a measurement of the dispersion of the data points from the mean value of the data points.  \n",
    "\n",
    "- So in standardization, the data points are rescaled by ensuring that after scaling they will be in a curve shape. Mathematically we can represent it as follow :\n",
    "\n",
    " ### X(std) = X - mean(X) / std deviation(X).\n",
    "\n",
    "\n",
    "## Implementation :\n",
    "\n",
    "- from sklearn.preprocessing import StandardScaler\n",
    "- sc_X = StandardScaler()\n",
    "- sc_X = sc_X.fit_transform(df)\n",
    "- print(sc_X)\n",
    "\n",
    "\n",
    "### Where to use Standardization?\n",
    "\n",
    "- Since the results provided by the standardization are not bounded with any range as we have seen in normalization, it can be used with the data where the distribution is following the Gaussian distribution.\n",
    "- In the case of outliers, standardization does not harm the position wherein normalization captures all the data points in their ranges.\n",
    "\n"
   ]
  },
  {
   "cell_type": "markdown",
   "id": "0c33ebbc",
   "metadata": {
    "id": "0c33ebbc"
   },
   "source": [
    "# Standard scaling :"
   ]
  },
  {
   "cell_type": "markdown",
   "id": "79102949",
   "metadata": {
    "id": "79102949"
   },
   "source": [
    "- Feature scaling through standardization, also called Z-score normalization, is an important preprocessing step for many machine learning algorithms. It involves rescaling each feature such that it has a standard deviation of 1 and a mean of 0.\n",
    "\n",
    "- StandardScaler removes the mean and scales each feature/variable to unit variance.\n",
    "- This operation is performed feature-wise in an independent way.\n",
    "- StandardScaler can be influenced by outliers (if they exist in the dataset) since it involves the estimation of the empirical mean and standard deviation of each feature.\n",
    "\n",
    "\n",
    "- Standardization is one of the feature scaling techniques which scales down the data in such a way that the algorithms (like KNN, Logistic Regression, etc.) which are dependent on distance and weights should not get affected by uneven-scaled datasets because if it happens, then, the model accuracy will not be good (will show this practically).\n",
    "- on the other hand, if we will scale the data evenly in such a way that the data points are mean centric and standard deviation of the distribution is 1 then the weights will be treated equally by the algorithm giving the more relevant and accurate results.\n",
    "\n",
    "- import numpy as np # linear algebra\n",
    "- import pandas as pd # data processing\n",
    "- import matplotlib.pyplot as plt\n",
    "- import seaborn as sns\n",
    "- We are importing some required libraries, which will help in practically implementing standardization.\n",
    "\n",
    "- Numpy: For solving equations related to linear algebra.\n",
    "- Pandas: For DataFrame manipulation and preprocessing.\n",
    "- Matplotlib and Seaborn: For data visualization and seeing the distributions.\n",
    "- df = pd.read_csv('Social_Network_Ads.csv')\n",
    "- df=df.iloc[:,2:]\n",
    "- df.sample(5)\n",
    "\n",
    "\n",
    "### Inference:\n",
    "- There will always be a debate about whether to do a train test split before doing standard scaling or not, but in my preference, it is essential to do this step before standardization as if we scale the whole data, then for our algorithm, there might be no testing data left which will eventually lead to overfitting condition.\n",
    "- On the other hand now if we only scale our training data then we will still have the testing data which is unseen for the model."
   ]
  },
  {
   "cell_type": "markdown",
   "id": "3147c9b7",
   "metadata": {
    "id": "3147c9b7"
   },
   "source": [
    "## Standard Scaler :\n",
    "- from sklearn.preprocessing import StandardScaler\n",
    "\n",
    "- scaler = StandardScaler()\n",
    "\n",
    "#### fit the scaler to the train set, it will learn the parameters :\n",
    "- scaler.fit(X_train)\n",
    "\n",
    "#### transform train and test sets\n",
    "- X_train_scaled = scaler.transform(X_train)\n",
    "- X_test_scaled = scaler.transform(X_test).\n",
    "\n"
   ]
  },
  {
   "cell_type": "markdown",
   "id": "29da33a1",
   "metadata": {
    "id": "29da33a1"
   },
   "source": [
    "# Using Standard Scalar :"
   ]
  },
  {
   "cell_type": "code",
   "execution_count": null,
   "id": "1c818b6a",
   "metadata": {
    "id": "1c818b6a",
    "outputId": "56d6ae15-ea48-40c2-c479-e4b020d96df0",
    "scrolled": false
   },
   "outputs": [
    {
     "data": {
      "text/plain": [
       "Index(['Loan_ID', 'Gender', 'Married', 'Dependents', 'Education',\n",
       "       'Self_Employed', 'ApplicantIncome', 'CoapplicantIncome', 'LoanAmount',\n",
       "       'Loan_Amount_Term', 'Credit_History', 'Property_Area',\n",
       "       'Loan_Status (Approved)', 'ApplicantIncome_exponential'],\n",
       "      dtype='object')"
      ]
     },
     "execution_count": 38,
     "metadata": {},
     "output_type": "execute_result"
    }
   ],
   "source": [
    "df.columns"
   ]
  },
  {
   "cell_type": "code",
   "execution_count": null,
   "id": "10ab70e1",
   "metadata": {
    "id": "10ab70e1"
   },
   "outputs": [],
   "source": [
    "X=df.drop(['Loan_Status (Approved)'],axis=1)\n",
    "Y=df['Loan_Status (Approved)']"
   ]
  },
  {
   "cell_type": "code",
   "execution_count": null,
   "id": "a05962c1",
   "metadata": {
    "id": "a05962c1"
   },
   "outputs": [],
   "source": [
    "from sklearn.model_selection import train_test_split\n",
    "X_train,X_test,Y_train,Y_test= train_test_split(X,Y,test_size=0.3,random_state=42)"
   ]
  },
  {
   "cell_type": "code",
   "execution_count": null,
   "id": "f80f49a1",
   "metadata": {
    "id": "f80f49a1"
   },
   "outputs": [],
   "source": [
    "from sklearn.preprocessing import StandardScaler\n",
    "scaler = StandardScaler()"
   ]
  },
  {
   "cell_type": "code",
   "execution_count": null,
   "id": "b926311e",
   "metadata": {
    "id": "b926311e"
   },
   "outputs": [],
   "source": [
    "X_train_scaled = scaler.transform(X_train)\n",
    "X_test_scaled = scaler.transform(X_test)"
   ]
  },
  {
   "cell_type": "markdown",
   "id": "c6120daf",
   "metadata": {
    "id": "c6120daf"
   },
   "source": [
    "# MinMax Scaling :"
   ]
  },
  {
   "cell_type": "markdown",
   "id": "ca1d031a",
   "metadata": {
    "id": "ca1d031a"
   },
   "source": [
    "- The MinMax Scaler is a popular feature scaling technique in Machine Learning.\n",
    "- It scales the features of a dataset to a specific range, typically between 0 and 1.\n",
    "- The main advantage of the MinMax Scaler is that it preserves the shape of the original distribution while bringing the values within a desired range.\n",
    "\n",
    "- Also known as min-max scaling or min-max normalization, it is the simplest method and consists of rescaling the range of features to scale the range in [0, 1].\n",
    "- The general formula for normalization is given as: Here, max(x) and min(x) are the maximum and the minimum values of the feature respectively.\n",
    "- MinMaxScaler preserves the shape of the original distribution.\n",
    "- It does not meaningfully change the information embedded in the original data.Note that MinMaxScaler doesn’t reduce the importance of outliers.\n",
    "- The default range for the feature returned by MinMaxScaler is 0 to 1.\n",
    "\n",
    "## When to use MinMax scalar :\n",
    "\n",
    "- Variables that are measured at different scales do not contribute equally to the model fitting & model learned function and might end up creating a bias . Thus, to deal with this potential problem feature-wise normalization such as MinMax Scaling is usually used prior to model fitting.\n",
    "\n"
   ]
  },
  {
   "cell_type": "markdown",
   "id": "ed478fee",
   "metadata": {
    "id": "ed478fee"
   },
   "source": [
    "# Using MinMax Scalar :"
   ]
  },
  {
   "cell_type": "code",
   "execution_count": null,
   "id": "f78d1700",
   "metadata": {
    "id": "f78d1700"
   },
   "outputs": [],
   "source": [
    "from sklearn.preprocessing import MinMaxScaler\n",
    "\n",
    "# Define the MinMaxScaler object\n",
    "scaler = MinMaxScaler()"
   ]
  },
  {
   "cell_type": "code",
   "execution_count": null,
   "id": "4df72454",
   "metadata": {
    "id": "4df72454"
   },
   "outputs": [],
   "source": [
    "# Apply the fit_transform method to your numerical features\n",
    "X_train_scaled = scaler.fit_transform(X_train)\n",
    "Y_train_scaled = scaler.fit_transform(Y_train)\n"
   ]
  },
  {
   "cell_type": "markdown",
   "id": "9d25b741",
   "metadata": {
    "id": "9d25b741"
   },
   "source": [
    "# Robust Scalar :"
   ]
  },
  {
   "cell_type": "markdown",
   "id": "bc441e45",
   "metadata": {
    "id": "bc441e45"
   },
   "source": [
    "- Normalization: shrinks the range such that the range is now between 0 and 1 (or -1 to 1 if there are negative values).\n",
    "- Robust Scaler: similar to normalization but it instead uses the interquartile range, so that it is robust to outliers.\n",
    "- It scales features using statistics that are robust to outliers.\n",
    "- This method removes the median and scales the data in the range between 1st quartile and 3rd quartile. i.e., in between 25th quantile and 75th quantile range.\n",
    "- This range is also called an Interquartile range(IQR).\n",
    "- By using RobustScaler(), we can remove the outliers and then use either StandardScaler or MinMaxScaler for preprocessing the dataset.\n",
    "- It scales features using statistics that are robust to outliers. This method removes the median and scales the data in the range between 1st quartile and 3rd quartile.\n",
    "- The advantage of using RobustScaler over StandardScaler and MinMaxScaler is that it is more robust to outliers.\n",
    "- Since it uses median and quartiles instead of mean and variance, it can handle features with a large number of outliers without being influenced by them."
   ]
  },
  {
   "cell_type": "markdown",
   "id": "565c9703",
   "metadata": {
    "id": "565c9703"
   },
   "source": [
    "# Using Robust Scalar :"
   ]
  },
  {
   "cell_type": "code",
   "execution_count": null,
   "id": "a16731bc",
   "metadata": {
    "id": "a16731bc"
   },
   "outputs": [],
   "source": [
    "from sklearn.preprocessing import RobustScaler\n",
    "scaler = RobustScaler()\n"
   ]
  },
  {
   "cell_type": "code",
   "execution_count": null,
   "id": "1072fc46",
   "metadata": {
    "id": "1072fc46"
   },
   "outputs": [],
   "source": [
    "X_train_rf = scaler.fit_transform(X_train)\n",
    "X_test_rf = scaler.transform(X_test)\n"
   ]
  },
  {
   "cell_type": "markdown",
   "id": "65f59d1c",
   "metadata": {
    "id": "65f59d1c"
   },
   "source": [
    " #                              **  HAPPY LEARNING  **\n"
   ]
  },
  {
   "cell_type": "raw",
   "id": "e19f39e1",
   "metadata": {
    "id": "e19f39e1"
   },
   "source": []
  },
  {
   "cell_type": "markdown",
   "id": "2371c7d8",
   "metadata": {
    "id": "2371c7d8"
   },
   "source": []
  }
 ],
 "metadata": {
  "colab": {
   "provenance": []
  },
  "kernelspec": {
   "display_name": "Python 3 (ipykernel)",
   "language": "python",
   "name": "python3"
  },
  "language_info": {
   "codemirror_mode": {
    "name": "ipython",
    "version": 3
   },
   "file_extension": ".py",
   "mimetype": "text/x-python",
   "name": "python",
   "nbconvert_exporter": "python",
   "pygments_lexer": "ipython3",
   "version": "3.11.5"
  }
 },
 "nbformat": 4,
 "nbformat_minor": 5
}
