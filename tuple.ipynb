{
 "cells": [
  {
   "cell_type": "code",
   "execution_count": 1,
   "id": "8e403a34-10f6-4951-a8d3-b9cc2c37403b",
   "metadata": {},
   "outputs": [
    {
     "name": "stdout",
     "output_type": "stream",
     "text": [
      "My tuple: (1, 2, 3, 4, 5)\n"
     ]
    }
   ],
   "source": [
    "# Creating and printing a tuple\n",
    "my_tuple = (1, 2, 3, 4, 5)\n",
    "print(\"My tuple:\", my_tuple)"
   ]
  },
  {
   "cell_type": "code",
   "execution_count": 2,
   "id": "791ca25d-b962-41fd-96a1-166ba29c6241",
   "metadata": {},
   "outputs": [
    {
     "name": "stdout",
     "output_type": "stream",
     "text": [
      "<class 'tuple'>\n"
     ]
    }
   ],
   "source": [
    "t=tuple() #to check type of tuple\n",
    "print (type(t))"
   ]
  },
  {
   "cell_type": "code",
   "execution_count": 3,
   "id": "021d5584-84a1-4c0c-b39d-8301b9685636",
   "metadata": {},
   "outputs": [
    {
     "data": {
      "text/plain": [
       "tuple"
      ]
     },
     "execution_count": 3,
     "metadata": {},
     "output_type": "execute_result"
    }
   ],
   "source": [
    "t1=()\n",
    "type(t1)"
   ]
  },
  {
   "cell_type": "code",
   "execution_count": 4,
   "id": "3b9dc227-734a-4c32-ba74-a45b53aa4057",
   "metadata": {},
   "outputs": [
    {
     "data": {
      "text/plain": [
       "('one', 'two', 'three', 'four', 'one', 'one', 'two', 'three')"
      ]
     },
     "execution_count": 4,
     "metadata": {},
     "output_type": "execute_result"
    }
   ],
   "source": [
    "#count\n",
    "mytuple=('one','two','three','four','one',\n",
    "         'one','two','three')\n",
    "mytuple"
   ]
  },
  {
   "cell_type": "code",
   "execution_count": 5,
   "id": "86054dad-7342-4804-8067-2b34864260b4",
   "metadata": {},
   "outputs": [
    {
     "data": {
      "text/plain": [
       "8"
      ]
     },
     "execution_count": 5,
     "metadata": {},
     "output_type": "execute_result"
    }
   ],
   "source": [
    "len(mytuple)"
   ]
  },
  {
   "cell_type": "code",
   "execution_count": 6,
   "id": "cd6e93c2-ae74-4f64-ab57-8d4ea195fe14",
   "metadata": {},
   "outputs": [
    {
     "data": {
      "text/plain": [
       "(1, 2, 3, 4, 9, 8, 7, 6, 5)"
      ]
     },
     "execution_count": 6,
     "metadata": {},
     "output_type": "execute_result"
    }
   ],
   "source": [
    "#tuple membership\n",
    "\n",
    "mytuple2 =(1,2,3,4,9,8,7,6,5)\n",
    "mytuple2"
   ]
  },
  {
   "cell_type": "code",
   "execution_count": 7,
   "id": "ffb33692-e95b-44ab-b30d-5fec64f17fb5",
   "metadata": {},
   "outputs": [
    {
     "data": {
      "text/plain": [
       "[1, 2, 3, 4, 5, 6, 7, 8, 9]"
      ]
     },
     "execution_count": 7,
     "metadata": {},
     "output_type": "execute_result"
    }
   ],
   "source": [
    "sorted(mytuple2) #it sort in an ascending order"
   ]
  },
  {
   "cell_type": "code",
   "execution_count": 8,
   "id": "e0fe7fea-b72d-4b36-af24-00c81f822f0a",
   "metadata": {},
   "outputs": [
    {
     "data": {
      "text/plain": [
       "[9, 8, 7, 6, 5, 4, 3, 2, 1]"
      ]
     },
     "execution_count": 8,
     "metadata": {},
     "output_type": "execute_result"
    }
   ],
   "source": [
    " sorted(mytuple2,reverse=True)#is sort in an dscending order"
   ]
  },
  {
   "cell_type": "code",
   "execution_count": 9,
   "id": "537de687-d30b-4b0f-a885-95924f5ff4f4",
   "metadata": {},
   "outputs": [
    {
     "data": {
      "text/plain": [
       "(1, 2, 3, 4, 9, 8, 7, 6, 5)"
      ]
     },
     "execution_count": 9,
     "metadata": {},
     "output_type": "execute_result"
    }
   ],
   "source": [
    "mytuple2 #it cannot change input list"
   ]
  },
  {
   "cell_type": "code",
   "execution_count": 10,
   "id": "be7b723f-65bd-4d4b-bf67-8abaa2cb60b7",
   "metadata": {},
   "outputs": [
    {
     "name": "stdout",
     "output_type": "stream",
     "text": [
      "x: 10\n",
      "y: 20\n"
     ]
    }
   ],
   "source": [
    "# Tuple unpacking\n",
    "coordinates = (10, 20)\n",
    "x, y = coordinates\n",
    "print(\"x:\", x)\n",
    "print(\"y:\", y)\n"
   ]
  },
  {
   "cell_type": "code",
   "execution_count": 11,
   "id": "9ce4eec8-f759-4859-b731-166dbb658a61",
   "metadata": {},
   "outputs": [
    {
     "name": "stdout",
     "output_type": "stream",
     "text": [
      "Combined tuple: (1, 2, 3, 4, 5, 6)\n"
     ]
    }
   ],
   "source": [
    "# Concatenating tuples\n",
    "tuple1 = (1, 2, 3)\n",
    "tuple2 = (4, 5, 6)\n",
    "combined_tuple = tuple1 + tuple2\n",
    "print(\"Combined tuple:\", combined_tuple)\n"
   ]
  },
  {
   "cell_type": "code",
   "execution_count": 12,
   "id": "fb72196b-cedb-4fa4-ad72-5ef816487d1e",
   "metadata": {},
   "outputs": [
    {
     "name": "stdout",
     "output_type": "stream",
     "text": [
      "Length of tuple: 5\n"
     ]
    }
   ],
   "source": [
    "# Finding the length of a tuple\n",
    "my_tuple = (1, 2, 3, 4, 5)\n",
    "length = len(my_tuple)\n",
    "print(\"Length of tuple:\", length)\n"
   ]
  },
  {
   "cell_type": "code",
   "execution_count": 13,
   "id": "23c271e8-9e82-4ad6-b6ee-4775e6c22651",
   "metadata": {},
   "outputs": [
    {
     "name": "stdout",
     "output_type": "stream",
     "text": [
      "First element: apple\n",
      "Last element: cherry\n"
     ]
    }
   ],
   "source": [
    "# Accessing elements of a tuple\n",
    "my_tuple = ('apple', 'banana', 'cherry')\n",
    "print(\"First element:\", my_tuple[0])\n",
    "print(\"Last element:\", my_tuple[-1])\n"
   ]
  },
  {
   "cell_type": "code",
   "execution_count": 14,
   "id": "2e2bb295-d837-4fb4-85b2-09cdc9ec0b40",
   "metadata": {},
   "outputs": [
    {
     "name": "stdout",
     "output_type": "stream",
     "text": [
      "Index of 'c': 2\n"
     ]
    }
   ],
   "source": [
    "# Finding the index of an element\n",
    "my_tuple = ('a', 'b', 'c', 'd')\n",
    "index_of_c = my_tuple.index('c')\n",
    "print(\"Index of 'c':\", index_of_c)\n"
   ]
  },
  {
   "cell_type": "code",
   "execution_count": 15,
   "id": "d29d18d9-3172-4226-b42b-fac98638092d",
   "metadata": {},
   "outputs": [
    {
     "name": "stdout",
     "output_type": "stream",
     "text": [
      "Sliced tuple: (20, 30, 40)\n"
     ]
    }
   ],
   "source": [
    "# Slicing a tuple\n",
    "my_tuple = (10, 20, 30, 40, 50)\n",
    "sliced_tuple = my_tuple[1:4]\n",
    "print(\"Sliced tuple:\", sliced_tuple)\n"
   ]
  },
  {
   "cell_type": "code",
   "execution_count": 16,
   "id": "b5408064-91ef-4b18-8ad0-e5d765fad88d",
   "metadata": {},
   "outputs": [
    {
     "name": "stdout",
     "output_type": "stream",
     "text": [
      "After swapping, a: 10\n",
      "After swapping, b: 5\n"
     ]
    }
   ],
   "source": [
    "# Swapping values using tuple\n",
    "a, b = 5, 10\n",
    "a, b = b, a\n",
    "print(\"After swapping, a:\", a)\n",
    "print(\"After swapping, b:\", b)\n"
   ]
  },
  {
   "cell_type": "code",
   "execution_count": 19,
   "id": "d46baec7-87ce-48f1-8b56-26042e802c4e",
   "metadata": {},
   "outputs": [
    {
     "name": "stdout",
     "output_type": "stream",
     "text": [
      "User Info: ('Pranav', 22)\n"
     ]
    }
   ],
   "source": [
    "# Function returning a tuple\n",
    "def get_user_info():\n",
    "    name = \"Pranav\"\n",
    "    age = 22\n",
    "    return name, age\n",
    "\n",
    "user_info = get_user_info()\n",
    "print(\"User Info:\", user_info)\n"
   ]
  }
 ],
 "metadata": {
  "kernelspec": {
   "display_name": "Python 3 (ipykernel)",
   "language": "python",
   "name": "python3"
  },
  "language_info": {
   "codemirror_mode": {
    "name": "ipython",
    "version": 3
   },
   "file_extension": ".py",
   "mimetype": "text/x-python",
   "name": "python",
   "nbconvert_exporter": "python",
   "pygments_lexer": "ipython3",
   "version": "3.12.4"
  }
 },
 "nbformat": 4,
 "nbformat_minor": 5
}
