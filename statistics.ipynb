{
 "cells": [
  {
   "cell_type": "code",
   "execution_count": 1,
   "id": "cceec9f0-65ea-4912-8fd7-10bce82d0c9d",
   "metadata": {},
   "outputs": [
    {
     "name": "stdout",
     "output_type": "stream",
     "text": [
      "The average of list values is : 4\n"
     ]
    }
   ],
   "source": [
    "# Python example to check the working of mean() method  \n",
    "# importing statistics module  \n",
    "import statistics  \n",
    "  \n",
    "def find_mean(list1):  \n",
    "    return statistics.mean(observation_list)  \n",
    "  \n",
    "# initializing the observation list  \n",
    "observation_list = [7, 2, 3, 5, 8, 4, 2, 1]  \n",
    "print (\"The average of list values is : \",end=\"\")  \n",
    "print (find_mean(observation_list))  "
   ]
  },
  {
   "cell_type": "code",
   "execution_count": 3,
   "id": "c2195a51-73fc-4680-b748-784b42643446",
   "metadata": {},
   "outputs": [
    {
     "name": "stdout",
     "output_type": "stream",
     "text": [
      "The mean is: 4.7\n"
     ]
    }
   ],
   "source": [
    "#another method to calculate mean\n",
    "\n",
    "list1 = [2, 8, 7, 1, 3, 2, 8, 9, 2, 5]  \n",
    "mean = sum(list1)/len(list1)  \n",
    "print(\"The mean is:\", mean)  \n",
    "\n"
   ]
  },
  {
   "cell_type": "code",
   "execution_count": null,
   "id": "5de551ca-ff84-4014-8d58-a904e22faa83",
   "metadata": {},
   "outputs": [],
   "source": []
  }
 ],
 "metadata": {
  "kernelspec": {
   "display_name": "Python 3 (ipykernel)",
   "language": "python",
   "name": "python3"
  },
  "language_info": {
   "codemirror_mode": {
    "name": "ipython",
    "version": 3
   },
   "file_extension": ".py",
   "mimetype": "text/x-python",
   "name": "python",
   "nbconvert_exporter": "python",
   "pygments_lexer": "ipython3",
   "version": "3.12.4"
  }
 },
 "nbformat": 4,
 "nbformat_minor": 5
}
