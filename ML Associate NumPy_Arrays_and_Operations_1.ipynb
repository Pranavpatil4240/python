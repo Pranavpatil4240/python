{
 "cells": [
  {
   "cell_type": "code",
   "execution_count": 2,
   "id": "f606fd42-eb70-4acd-b90d-6f7b60182590",
   "metadata": {},
   "outputs": [],
   "source": [
    "import numpy as np"
   ]
  },
  {
   "cell_type": "code",
   "execution_count": 3,
   "id": "1158971b-dff3-46ba-8b0e-c2e8b97e1683",
   "metadata": {},
   "outputs": [
    {
     "data": {
      "text/plain": [
       "array([], dtype=float64)"
      ]
     },
     "execution_count": 3,
     "metadata": {},
     "output_type": "execute_result"
    }
   ],
   "source": [
    "#create an empty array\n",
    "arr1=np.array \n",
    "arr1"
   ]
  },
  {
   "cell_type": "code",
   "execution_count": 5,
   "id": "ea215f47-4cbd-461b-9844-68ce1a152e0e",
   "metadata": {},
   "outputs": [
    {
     "name": "stdout",
     "output_type": "stream",
     "text": [
      "[5, 6, 7, 8, 9, 10]\n",
      "<class 'list'>\n"
     ]
    }
   ],
   "source": [
    "my_list=[5,6,7,8,9,10]\n",
    "print(my_list)\n",
    "print(type(my_list))"
   ]
  },
  {
   "cell_type": "code",
   "execution_count": 6,
   "id": "f1989efe-0848-4008-a9e5-09ed68a02b5e",
   "metadata": {},
   "outputs": [],
   "source": [
    "a=np.array(my_list)"
   ]
  },
  {
   "cell_type": "code",
   "execution_count": 7,
   "id": "1c071927-784e-489a-b91e-5fe5fcaa2600",
   "metadata": {},
   "outputs": [
    {
     "data": {
      "text/plain": [
       "array([ 5,  6,  7,  8,  9, 10])"
      ]
     },
     "execution_count": 7,
     "metadata": {},
     "output_type": "execute_result"
    }
   ],
   "source": [
    "a"
   ]
  },
  {
   "cell_type": "code",
   "execution_count": 11,
   "id": "c55e5c80-91ae-4086-95fe-508391bc7b81",
   "metadata": {},
   "outputs": [
    {
     "data": {
      "text/plain": [
       "numpy.ndarray"
      ]
     },
     "execution_count": 11,
     "metadata": {},
     "output_type": "execute_result"
    }
   ],
   "source": [
    "type(a)"
   ]
  },
  {
   "cell_type": "code",
   "execution_count": 12,
   "id": "9e9f6393-e211-4d8a-be3d-7b0ef191cbad",
   "metadata": {},
   "outputs": [
    {
     "data": {
      "text/plain": [
       "1"
      ]
     },
     "execution_count": 12,
     "metadata": {},
     "output_type": "execute_result"
    }
   ],
   "source": [
    "a.ndim #number of dimensions in the array\n"
   ]
  },
  {
   "cell_type": "code",
   "execution_count": 13,
   "id": "b4d1273d-8b23-4bf6-9c1a-d0d56d509120",
   "metadata": {},
   "outputs": [
    {
     "data": {
      "text/plain": [
       "6"
      ]
     },
     "execution_count": 13,
     "metadata": {},
     "output_type": "execute_result"
    }
   ],
   "source": [
    "a.size #size of an array is the no.of times\n"
   ]
  },
  {
   "cell_type": "code",
   "execution_count": 14,
   "id": "e719dc95-fb6a-4017-9145-f8a32b0d4557",
   "metadata": {},
   "outputs": [
    {
     "data": {
      "text/plain": [
       "(6,)"
      ]
     },
     "execution_count": 14,
     "metadata": {},
     "output_type": "execute_result"
    }
   ],
   "source": [
    "a.shape #shape of array"
   ]
  },
  {
   "cell_type": "markdown",
   "id": "8f471d5c-256f-462f-9986-005e22f5d6c8",
   "metadata": {},
   "source": [
    "Arrays can be of n dimensions"
   ]
  },
  {
   "cell_type": "code",
   "execution_count": 15,
   "id": "873b3817-bc3f-4ca7-a1a6-b1ffadec5232",
   "metadata": {},
   "outputs": [
    {
     "data": {
      "text/plain": [
       "[[1, 2, 3, 4], [5, 6, 7, 8], [9, 10, 11, 12]]"
      ]
     },
     "execution_count": 15,
     "metadata": {},
     "output_type": "execute_result"
    }
   ],
   "source": [
    "my_matrix=[[1,2,3,4],[5,6,7,8],[9,10,11,12]] #list of lists\n",
    "my_matrix"
   ]
  },
  {
   "cell_type": "code",
   "execution_count": 16,
   "id": "4c1b4f05-aaf6-4784-8efc-148faf627352",
   "metadata": {},
   "outputs": [
    {
     "data": {
      "text/plain": [
       "array([[ 1,  2,  3,  4],\n",
       "       [ 5,  6,  7,  8],\n",
       "       [ 9, 10, 11, 12]])"
      ]
     },
     "execution_count": 16,
     "metadata": {},
     "output_type": "execute_result"
    }
   ],
   "source": [
    "b=np.array(my_matrix) #generates a 2d array\n",
    "b"
   ]
  },
  {
   "cell_type": "code",
   "execution_count": 17,
   "id": "ee5da6f5-df70-41cc-8e4d-57fc403dd88c",
   "metadata": {},
   "outputs": [
    {
     "data": {
      "text/plain": [
       "2"
      ]
     },
     "execution_count": 17,
     "metadata": {},
     "output_type": "execute_result"
    }
   ],
   "source": [
    "b.ndim"
   ]
  },
  {
   "cell_type": "code",
   "execution_count": 18,
   "id": "53397480-ab98-4479-8c5c-c155caac2405",
   "metadata": {},
   "outputs": [
    {
     "data": {
      "text/plain": [
       "12"
      ]
     },
     "execution_count": 18,
     "metadata": {},
     "output_type": "execute_result"
    }
   ],
   "source": [
    "b.size"
   ]
  },
  {
   "cell_type": "code",
   "execution_count": 19,
   "id": "85077445-848f-47a8-adcb-2b251e6e7bf6",
   "metadata": {},
   "outputs": [
    {
     "data": {
      "text/plain": [
       "(3, 4)"
      ]
     },
     "execution_count": 19,
     "metadata": {},
     "output_type": "execute_result"
    }
   ],
   "source": [
    "b.shape #rows - colums"
   ]
  },
  {
   "cell_type": "code",
   "execution_count": 21,
   "id": "10b024f4-2e22-4e54-816f-1c7777e1d80a",
   "metadata": {},
   "outputs": [
    {
     "data": {
      "text/plain": [
       "dtype('int32')"
      ]
     },
     "execution_count": 21,
     "metadata": {},
     "output_type": "execute_result"
    }
   ],
   "source": [
    "b.dtype #datatype of elements in array"
   ]
  },
  {
   "cell_type": "code",
   "execution_count": 23,
   "id": "2076f5b1-973b-4c82-8d38-d121c13bb1c1",
   "metadata": {},
   "outputs": [
    {
     "data": {
      "text/plain": [
       "array([[[ 1,  2,  3],\n",
       "        [ 4,  5,  6]],\n",
       "\n",
       "       [[ 7,  8,  9],\n",
       "        [10, 11, 12]]])"
      ]
     },
     "execution_count": 23,
     "metadata": {},
     "output_type": "execute_result"
    }
   ],
   "source": [
    "arr1=np.array([[[1,2,3],[4,5,6]],[[7,8,9],[10,11,12]]]) #3d array\n",
    "arr1\n"
   ]
  },
  {
   "cell_type": "code",
   "execution_count": 25,
   "id": "d3db7ee0-bd86-420e-823a-834d852a1acc",
   "metadata": {},
   "outputs": [
    {
     "data": {
      "text/plain": [
       "3"
      ]
     },
     "execution_count": 25,
     "metadata": {},
     "output_type": "execute_result"
    }
   ],
   "source": [
    "arr1.ndim"
   ]
  },
  {
   "cell_type": "code",
   "execution_count": 26,
   "id": "403ea2e0-56a6-469e-a7ea-20a92d7bdaaf",
   "metadata": {},
   "outputs": [
    {
     "data": {
      "text/plain": [
       "12"
      ]
     },
     "execution_count": 26,
     "metadata": {},
     "output_type": "execute_result"
    }
   ],
   "source": [
    "arr1.size"
   ]
  },
  {
   "cell_type": "code",
   "execution_count": 27,
   "id": "e2b0586a-ec96-4b37-a430-4d6ad2efb2ce",
   "metadata": {},
   "outputs": [
    {
     "data": {
      "text/plain": [
       "(2, 2, 3)"
      ]
     },
     "execution_count": 27,
     "metadata": {},
     "output_type": "execute_result"
    }
   ],
   "source": [
    "arr1.shape"
   ]
  },
  {
   "cell_type": "code",
   "execution_count": null,
   "id": "8244894f-6cbd-4a27-8412-3637b36a576c",
   "metadata": {},
   "outputs": [],
   "source": [
    "22"
   ]
  },
  {
   "cell_type": "markdown",
   "id": "a2ec3cc7-add0-4eac-886e-38c4b89cc84d",
   "metadata": {},
   "source": [
    "Built-in Methods"
   ]
  },
  {
   "cell_type": "code",
   "execution_count": 28,
   "id": "10146bf0-f751-4d38-acad-07786a61d33b",
   "metadata": {},
   "outputs": [],
   "source": [
    "arr2=arr1.reshape((1,3,4)) #reshape function takes the new shape array"
   ]
  },
  {
   "cell_type": "code",
   "execution_count": 29,
   "id": "3483798e-01cf-4767-bd35-4a68c917d533",
   "metadata": {},
   "outputs": [
    {
     "data": {
      "text/plain": [
       "(1, 3, 4)"
      ]
     },
     "execution_count": 29,
     "metadata": {},
     "output_type": "execute_result"
    }
   ],
   "source": [
    "arr2.shape"
   ]
  },
  {
   "cell_type": "code",
   "execution_count": 30,
   "id": "4ccf881e-4efd-4cc1-8a3e-264a8d0c5804",
   "metadata": {},
   "outputs": [
    {
     "data": {
      "text/plain": [
       "array([[[ 1,  2,  3,  4],\n",
       "        [ 5,  6,  7,  8],\n",
       "        [ 9, 10, 11, 12]]])"
      ]
     },
     "execution_count": 30,
     "metadata": {},
     "output_type": "execute_result"
    }
   ],
   "source": [
    "arr2\n"
   ]
  },
  {
   "cell_type": "markdown",
   "id": "727ed1f1-fc47-4626-9105-5c00dc0f75b1",
   "metadata": {},
   "source": [
    "Arrange\n",
    "#Return evenly spaced values within a given interval"
   ]
  },
  {
   "cell_type": "code",
   "execution_count": 32,
   "id": "7a519292-5567-4c3c-b76e-23a3b99ca903",
   "metadata": {},
   "outputs": [
    {
     "data": {
      "text/plain": [
       "array([ 0,  1,  2,  3,  4,  5,  6,  7,  8,  9, 10, 11, 12, 13, 14])"
      ]
     },
     "execution_count": 32,
     "metadata": {},
     "output_type": "execute_result"
    }
   ],
   "source": [
    "#np.arange(start,end,step)\n",
    "np.arange(15) #end ;default start at 0\n"
   ]
  },
  {
   "cell_type": "code",
   "execution_count": 33,
   "id": "8e691e1d-e62b-4198-8f8e-376bd8e66bcf",
   "metadata": {},
   "outputs": [
    {
     "data": {
      "text/plain": [
       "array([100,  96,  92,  88,  84,  80,  76,  72,  68,  64,  60,  56,  52,\n",
       "        48,  44,  40,  36,  32,  28,  24,  20,  16,  12,   8,   4])"
      ]
     },
     "execution_count": 33,
     "metadata": {},
     "output_type": "execute_result"
    }
   ],
   "source": [
    "np.arange(100,2,-4) #start ,end and step"
   ]
  },
  {
   "cell_type": "code",
   "execution_count": 34,
   "id": "13c7494b-4496-4016-924f-9b722dd1c6af",
   "metadata": {},
   "outputs": [
    {
     "data": {
      "text/plain": [
       "array([ 0,  2,  4,  6,  8, 10])"
      ]
     },
     "execution_count": 34,
     "metadata": {},
     "output_type": "execute_result"
    }
   ],
   "source": [
    "np.arange(0,11,2) #start end and step"
   ]
  },
  {
   "cell_type": "markdown",
   "id": "bf519fda-acad-4a1c-98bf-977bfaa79abd",
   "metadata": {},
   "source": [
    "Zeros and ones #generate arrays of zeros or ones"
   ]
  },
  {
   "cell_type": "code",
   "execution_count": 35,
   "id": "c5db1f1a-d27e-4743-8fa7-3780601ee587",
   "metadata": {},
   "outputs": [],
   "source": [
    "import numpy as np"
   ]
  },
  {
   "cell_type": "code",
   "execution_count": 36,
   "id": "cc67ecd7-433e-44df-b2f3-a7a74f602afb",
   "metadata": {},
   "outputs": [
    {
     "data": {
      "text/plain": [
       "array([0., 0., 0.])"
      ]
     },
     "execution_count": 36,
     "metadata": {},
     "output_type": "execute_result"
    }
   ],
   "source": [
    "np.zeros(3) #generates array in 1 dimension with all elaments 0"
   ]
  },
  {
   "cell_type": "code",
   "execution_count": 39,
   "id": "6991a4c6-65f8-44eb-9864-2087db2244dc",
   "metadata": {},
   "outputs": [
    {
     "data": {
      "text/plain": [
       "array([[0., 0., 0., 0., 0.],\n",
       "       [0., 0., 0., 0., 0.],\n",
       "       [0., 0., 0., 0., 0.],\n",
       "       [0., 0., 0., 0., 0.],\n",
       "       [0., 0., 0., 0., 0.]])"
      ]
     },
     "execution_count": 39,
     "metadata": {},
     "output_type": "execute_result"
    }
   ],
   "source": [
    "np.zeros((5,5)) #generates array in 2 dimension with all elements"
   ]
  },
  {
   "cell_type": "code",
   "execution_count": 40,
   "id": "7872200b-dd2c-4a58-b05b-302667654c00",
   "metadata": {},
   "outputs": [
    {
     "data": {
      "text/plain": [
       "array([1., 1., 1.])"
      ]
     },
     "execution_count": 40,
     "metadata": {},
     "output_type": "execute_result"
    }
   ],
   "source": [
    "np.ones(3)#generates array of 1 dimension where all elements in array\n"
   ]
  },
  {
   "cell_type": "code",
   "execution_count": 42,
   "id": "5f6c10a1-04f7-44b1-bc24-269fef7ea4c2",
   "metadata": {},
   "outputs": [
    {
     "data": {
      "text/plain": [
       "array([[1., 1., 1., 1., 1.],\n",
       "       [1., 1., 1., 1., 1.],\n",
       "       [1., 1., 1., 1., 1.],\n",
       "       [1., 1., 1., 1., 1.]])"
      ]
     },
     "execution_count": 42,
     "metadata": {},
     "output_type": "execute_result"
    }
   ],
   "source": [
    "np.ones((4,5)) #generates array of dimensions where all elemements in array"
   ]
  },
  {
   "cell_type": "code",
   "execution_count": 44,
   "id": "ed9e3f96-54dd-4a0f-919c-b939754a0f7a",
   "metadata": {},
   "outputs": [
    {
     "data": {
      "text/plain": [
       "array([[[1., 1., 1.],\n",
       "        [1., 1., 1.],\n",
       "        [1., 1., 1.],\n",
       "        [1., 1., 1.],\n",
       "        [1., 1., 1.]],\n",
       "\n",
       "       [[1., 1., 1.],\n",
       "        [1., 1., 1.],\n",
       "        [1., 1., 1.],\n",
       "        [1., 1., 1.],\n",
       "        [1., 1., 1.]],\n",
       "\n",
       "       [[1., 1., 1.],\n",
       "        [1., 1., 1.],\n",
       "        [1., 1., 1.],\n",
       "        [1., 1., 1.],\n",
       "        [1., 1., 1.]],\n",
       "\n",
       "       [[1., 1., 1.],\n",
       "        [1., 1., 1.],\n",
       "        [1., 1., 1.],\n",
       "        [1., 1., 1.],\n",
       "        [1., 1., 1.]]])"
      ]
     },
     "execution_count": 44,
     "metadata": {},
     "output_type": "execute_result"
    }
   ],
   "source": [
    "np.ones((4,5,3))\n"
   ]
  },
  {
   "cell_type": "markdown",
   "id": "cd63b972-bea3-4b16-a9e3-a180904809eb",
   "metadata": {},
   "source": [
    "Linespace #return evenly spaced numbers over a specified interval"
   ]
  },
  {
   "cell_type": "code",
   "execution_count": 45,
   "id": "a0e1cf68-37b1-4148-ade0-1a57fb6a1c8a",
   "metadata": {},
   "outputs": [],
   "source": [
    "import numpy as np"
   ]
  },
  {
   "cell_type": "code",
   "execution_count": 47,
   "id": "78f6deeb-eaf7-4b4c-b5db-ef9f0c5a44bf",
   "metadata": {},
   "outputs": [
    {
     "data": {
      "text/plain": [
       "array([ 1.        ,  1.28571429,  1.57142857,  1.85714286,  2.14285714,\n",
       "        2.42857143,  2.71428571,  3.        ,  3.28571429,  3.57142857,\n",
       "        3.85714286,  4.14285714,  4.42857143,  4.71428571,  5.        ,\n",
       "        5.28571429,  5.57142857,  5.85714286,  6.14285714,  6.42857143,\n",
       "        6.71428571,  7.        ,  7.28571429,  7.57142857,  7.85714286,\n",
       "        8.14285714,  8.42857143,  8.71428571,  9.        ,  9.28571429,\n",
       "        9.57142857,  9.85714286, 10.14285714, 10.42857143, 10.71428571,\n",
       "       11.        , 11.28571429, 11.57142857, 11.85714286, 12.14285714,\n",
       "       12.42857143, 12.71428571, 13.        , 13.28571429, 13.57142857,\n",
       "       13.85714286, 14.14285714, 14.42857143, 14.71428571, 15.        ])"
      ]
     },
     "execution_count": 47,
     "metadata": {},
     "output_type": "execute_result"
    }
   ],
   "source": [
    "np.linspace(1,15) #default 50 observations \n",
    "#both the start and end are included in the array\n",
    "\n"
   ]
  },
  {
   "cell_type": "code",
   "execution_count": 50,
   "id": "9982c2a2-92bd-4216-80fb-6465b6941260",
   "metadata": {},
   "outputs": [
    {
     "data": {
      "text/plain": [
       "array([  0.,  25.,  50.,  75., 100.])"
      ]
     },
     "execution_count": 50,
     "metadata": {},
     "output_type": "execute_result"
    }
   ],
   "source": [
    "np.linspace(0,100,5) #equality spaced 5 values"
   ]
  },
  {
   "cell_type": "code",
   "execution_count": null,
   "id": "ff826d5b-750e-494c-b85e-e637bbe500e6",
   "metadata": {},
   "outputs": [],
   "source": [
    "#retstep ~ return step computed by linspace"
   ]
  },
  {
   "cell_type": "code",
   "execution_count": 54,
   "id": "ee9e4070-b8cd-429c-9681-00bb1abca5e1",
   "metadata": {},
   "outputs": [
    {
     "data": {
      "text/plain": [
       "(array([  0.,  25.,  50.,  75., 100.]), 25.0)"
      ]
     },
     "execution_count": 54,
     "metadata": {},
     "output_type": "execute_result"
    }
   ],
   "source": [
    "np.linspace(0,100,5, retstep=True) #start #end (here end is included) and  default\n"
   ]
  },
  {
   "cell_type": "code",
   "execution_count": 52,
   "id": "0b5acb22-cac0-4594-8918-f85ab98fa02e",
   "metadata": {},
   "outputs": [
    {
     "data": {
      "text/plain": [
       "array([  0.        ,  22.22222222,  44.44444444,  66.66666667,\n",
       "        88.88888889, 111.11111111, 133.33333333, 155.55555556,\n",
       "       177.77777778, 200.        ])"
      ]
     },
     "execution_count": 52,
     "metadata": {},
     "output_type": "execute_result"
    }
   ],
   "source": [
    "np.linspace(0,200,10) #default retstep=False"
   ]
  },
  {
   "cell_type": "markdown",
   "id": "6ec1ec54-cdff-45ea-a5de-fb34030d2901",
   "metadata": {},
   "source": [
    "eye #Creates an identity matrix"
   ]
  },
  {
   "cell_type": "code",
   "execution_count": 55,
   "id": "5352f27c-7a67-4264-b478-c1502df45fcd",
   "metadata": {},
   "outputs": [
    {
     "data": {
      "text/plain": [
       "array([[1., 0., 0., 0., 0.],\n",
       "       [0., 1., 0., 0., 0.],\n",
       "       [0., 0., 1., 0., 0.],\n",
       "       [0., 0., 0., 1., 0.],\n",
       "       [0., 0., 0., 0., 1.]])"
      ]
     },
     "execution_count": 55,
     "metadata": {},
     "output_type": "execute_result"
    }
   ],
   "source": [
    "np.eye(5) #generates 2d array of (5,5)"
   ]
  },
  {
   "cell_type": "code",
   "execution_count": null,
   "id": "72952c8c-5757-46f4-a756-657b514bd466",
   "metadata": {},
   "outputs": [],
   "source": [
    "#create an eye from a zeros array"
   ]
  },
  {
   "cell_type": "markdown",
   "id": "c226ab7a-d2b1-4796-a2a1-8caf406df8a7",
   "metadata": {},
   "source": [
    "Use of Copy function"
   ]
  },
  {
   "cell_type": "code",
   "execution_count": 104,
   "id": "99f5aa23-8f95-4ca2-b202-7981e7ec8668",
   "metadata": {},
   "outputs": [],
   "source": [
    "import numpy as np\n",
    "arr3=np.array([1,2,3,4,5,6,7,8,9])\n",
    "arr4=np.array([10,11,12,13,14,15,16,17])"
   ]
  },
  {
   "cell_type": "code",
   "execution_count": 105,
   "id": "570946ac-e389-4a70-984c-eba4f4306792",
   "metadata": {},
   "outputs": [
    {
     "data": {
      "text/plain": [
       "array([1, 2, 3, 4, 5, 6, 7, 8, 9])"
      ]
     },
     "execution_count": 105,
     "metadata": {},
     "output_type": "execute_result"
    }
   ],
   "source": [
    "arr4=arr3\n",
    "arr3"
   ]
  },
  {
   "cell_type": "code",
   "execution_count": 106,
   "id": "d68de43d-5f12-4526-b551-ee90ceedf5b7",
   "metadata": {},
   "outputs": [
    {
     "data": {
      "text/plain": [
       "array([ 1,  2,  3,  4,  5, 30,  7,  8,  9])"
      ]
     },
     "execution_count": 106,
     "metadata": {},
     "output_type": "execute_result"
    }
   ],
   "source": [
    "arr4[5]=30\n",
    "arr4"
   ]
  },
  {
   "cell_type": "code",
   "execution_count": 107,
   "id": "e708c5a7-5422-4294-82b4-71b324291438",
   "metadata": {},
   "outputs": [
    {
     "data": {
      "text/plain": [
       "array([ 1,  2,  3,  4,  5, 30,  7,  8,  9])"
      ]
     },
     "execution_count": 107,
     "metadata": {},
     "output_type": "execute_result"
    }
   ],
   "source": [
    "arr3"
   ]
  },
  {
   "cell_type": "code",
   "execution_count": 108,
   "id": "a1a8a1d9-dd33-4a0e-ac3a-fcfd31e96cfd",
   "metadata": {},
   "outputs": [],
   "source": [
    "arr5=arr3.copy()"
   ]
  },
  {
   "cell_type": "code",
   "execution_count": 110,
   "id": "0ce450a1-e212-4783-8828-1510aaf42cf0",
   "metadata": {},
   "outputs": [
    {
     "data": {
      "text/plain": [
       "array([  1, 100, 100, 100, 100, 100, 100, 100, 100])"
      ]
     },
     "execution_count": 110,
     "metadata": {},
     "output_type": "execute_result"
    }
   ],
   "source": [
    "arr5[1:]=100\n",
    "arr5"
   ]
  },
  {
   "cell_type": "markdown",
   "id": "141f6661-0dd4-4bf7-94b5-3a1a49c8e2b9",
   "metadata": {},
   "source": [
    "Random (rand)"
   ]
  },
  {
   "cell_type": "code",
   "execution_count": 111,
   "id": "edccb45c-9a3e-4dcd-8f9f-20b8abc6ee6f",
   "metadata": {},
   "outputs": [],
   "source": [
    "import numpy as np"
   ]
  },
  {
   "cell_type": "code",
   "execution_count": 112,
   "id": "5c05580c-31fa-4ef3-a06b-c978fb887644",
   "metadata": {},
   "outputs": [
    {
     "data": {
      "text/plain": [
       "0.533292529229543"
      ]
     },
     "execution_count": 112,
     "metadata": {},
     "output_type": "execute_result"
    }
   ],
   "source": [
    "np.random.rand()"
   ]
  },
  {
   "cell_type": "code",
   "execution_count": 113,
   "id": "1ca98036-c0c2-4546-a247-a77eeba58b95",
   "metadata": {},
   "outputs": [
    {
     "data": {
      "text/plain": [
       "array([0.07228029, 0.21562954, 0.48576042, 0.78029038, 0.70183681,\n",
       "       0.12174372, 0.20979632, 0.2513724 , 0.03351125, 0.70691211])"
      ]
     },
     "execution_count": 113,
     "metadata": {},
     "output_type": "execute_result"
    }
   ],
   "source": [
    "np.random.rand(10) #rand gives value between 0 to 1\n"
   ]
  },
  {
   "cell_type": "code",
   "execution_count": 114,
   "id": "6ecd202c-00b1-47ac-89ac-3e95604679a0",
   "metadata": {},
   "outputs": [
    {
     "data": {
      "text/plain": [
       "array([[0.78228075, 0.69870957, 0.67212233, 0.49735966, 0.23389236],\n",
       "       [0.38488212, 0.99323506, 0.87815522, 0.37552929, 0.47961752]])"
      ]
     },
     "execution_count": 114,
     "metadata": {},
     "output_type": "execute_result"
    }
   ],
   "source": [
    "np.random.rand(10).reshape((2,5))"
   ]
  },
  {
   "cell_type": "code",
   "execution_count": 115,
   "id": "50909ce5-6940-43d6-a496-0a7a2dd3e621",
   "metadata": {},
   "outputs": [],
   "source": [
    "#creating array from unifrom distribution\n",
    "new_arr=np.random.rand(5,3)"
   ]
  },
  {
   "cell_type": "code",
   "execution_count": 116,
   "id": "a13c6da2-ea42-4c20-bc8d-fc0d168f35aa",
   "metadata": {},
   "outputs": [
    {
     "data": {
      "text/plain": [
       "array([[0.77352387, 0.36226981, 0.5270195 ],\n",
       "       [0.57777716, 0.20553784, 0.52938085],\n",
       "       [0.71694875, 0.28376108, 0.01756333],\n",
       "       [0.21133915, 0.4107557 , 0.11814058],\n",
       "       [0.07258231, 0.92708386, 0.7575446 ]])"
      ]
     },
     "execution_count": 116,
     "metadata": {},
     "output_type": "execute_result"
    }
   ],
   "source": [
    "new_arr"
   ]
  },
  {
   "cell_type": "markdown",
   "id": "66011c56-188e-4e30-b357-52b697c19496",
   "metadata": {},
   "source": [
    "randn #returnn a sample  (or samples) from the standard normal distribution"
   ]
  },
  {
   "cell_type": "code",
   "execution_count": 117,
   "id": "6cbf23cf-a3d8-40f8-be9b-bba4a41a413e",
   "metadata": {},
   "outputs": [
    {
     "data": {
      "text/plain": [
       "[1, 2, 3, 4, 5, 6]"
      ]
     },
     "execution_count": 117,
     "metadata": {},
     "output_type": "execute_result"
    }
   ],
   "source": [
    "arr1"
   ]
  },
  {
   "cell_type": "code",
   "execution_count": 118,
   "id": "b542fd7a-4f10-4b81-93ed-37b51b8b6fb5",
   "metadata": {},
   "outputs": [
    {
     "data": {
      "text/plain": [
       "array([-1.23902928,  1.25846545, -0.6964573 ,  0.15326862, -0.31433063,\n",
       "       -1.70676816,  0.23362068, -2.24394927,  1.58912346,  0.16320117,\n",
       "        0.80816919, -0.28714033, -0.23113483, -1.46956564, -0.6019678 ,\n",
       "        0.02424288, -0.8008856 ,  0.559874  , -0.98854907, -0.00814189,\n",
       "        0.17051796,  1.88509187,  0.1708401 ,  1.45771726,  0.2529017 ,\n",
       "       -1.73503876, -0.20625827, -1.24849481,  0.21082711,  1.39051871,\n",
       "       -0.18302456,  0.16344596,  1.80355907, -3.36026145, -1.99223716,\n",
       "        0.27896071,  0.37123688,  0.45527738,  1.14332858,  1.25872245,\n",
       "       -0.97806389,  0.4188723 , -1.0141172 ,  0.04711118, -0.89160792,\n",
       "       -0.72186855, -0.2236039 ,  0.48000808, -0.34093217, -0.52048012])"
      ]
     },
     "execution_count": 118,
     "metadata": {},
     "output_type": "execute_result"
    }
   ],
   "source": [
    "arr1=np.random.randn(50)\n",
    "arr1"
   ]
  },
  {
   "cell_type": "markdown",
   "id": "5930e4ed-566e-403a-a40b-7ad0080e2ce2",
   "metadata": {},
   "source": [
    "randint\n",
    "\n"
   ]
  },
  {
   "cell_type": "code",
   "execution_count": 119,
   "id": "6d4c7e37-66d4-49e3-b629-4026d5116ab5",
   "metadata": {},
   "outputs": [
    {
     "data": {
      "text/plain": [
       "46"
      ]
     },
     "execution_count": 119,
     "metadata": {},
     "output_type": "execute_result"
    }
   ],
   "source": [
    "np.random.randint(1,100)"
   ]
  },
  {
   "cell_type": "code",
   "execution_count": 120,
   "id": "78cfda40-7c19-4851-82bd-48fc9ca2d3cb",
   "metadata": {},
   "outputs": [
    {
     "data": {
      "text/plain": [
       "array([41, 20, 48, 37, 91, 50, 30, 38, 64, 87])"
      ]
     },
     "execution_count": 120,
     "metadata": {},
     "output_type": "execute_result"
    }
   ],
   "source": [
    "np.random.randint(1,100,10)"
   ]
  },
  {
   "cell_type": "code",
   "execution_count": 123,
   "id": "5eccf517-c4a4-4402-a56c-cdfaf305ee69",
   "metadata": {},
   "outputs": [
    {
     "data": {
      "text/plain": [
       "array([53, 44, 45, 43, 51, 40, 42, 56, 48, 46, 44, 44, 45, 51, 46, 53, 43,\n",
       "       49, 41, 52, 45, 59, 41, 48, 42, 40, 43, 58, 55, 54, 47, 42, 53, 45,\n",
       "       42, 59, 51, 51, 41, 44, 44, 47, 48, 49, 52, 54, 41, 47, 42, 55])"
      ]
     },
     "execution_count": 123,
     "metadata": {},
     "output_type": "execute_result"
    }
   ],
   "source": [
    "np.random.randint(40,60,50) #generating 50 values between "
   ]
  },
  {
   "cell_type": "code",
   "execution_count": null,
   "id": "912766ec-a4bd-44a6-a0a7-2790c7b9b4b9",
   "metadata": {},
   "outputs": [],
   "source": []
  }
 ],
 "metadata": {
  "kernelspec": {
   "display_name": "Python 3 (ipykernel)",
   "language": "python",
   "name": "python3"
  },
  "language_info": {
   "codemirror_mode": {
    "name": "ipython",
    "version": 3
   },
   "file_extension": ".py",
   "mimetype": "text/x-python",
   "name": "python",
   "nbconvert_exporter": "python",
   "pygments_lexer": "ipython3",
   "version": "3.12.4"
  }
 },
 "nbformat": 4,
 "nbformat_minor": 5
}
