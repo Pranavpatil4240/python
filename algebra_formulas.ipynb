{
 "cells": [
  {
   "cell_type": "code",
   "execution_count": null,
   "id": "bb229bd1",
   "metadata": {},
   "outputs": [],
   "source": [
    "\n",
    "# Importing necessary libraries\n",
    "import numpy as np\n",
    "from sympy import symbols, Eq, solve\n"
   ]
  },
  {
   "cell_type": "code",
   "execution_count": null,
   "id": "d49e374a",
   "metadata": {},
   "outputs": [],
   "source": [
    "\n",
    "# 1. Basic Algebraic Operations\n",
    "# Let's perform basic operations: addition, subtraction, multiplication, and division of algebraic expressions.\n",
    "\n",
    "# Defining variables\n",
    "x, y = symbols('x y')\n",
    "\n",
    "# Addition of algebraic expressions\n",
    "expr1 = 3*x + 2*y\n",
    "expr2 = 2*x + 3*y\n",
    "addition = expr1 + expr2\n",
    "addition\n",
    "\n",
    "# Output: Algebraic addition result\n",
    "# Explanation: The variables `x` and `y` are added according to basic algebraic rules.\n"
   ]
  },
  {
   "cell_type": "code",
   "execution_count": null,
   "id": "07b3d1c2",
   "metadata": {},
   "outputs": [],
   "source": [
    "\n",
    "# Subtraction of algebraic expressions\n",
    "subtraction = expr1 - expr2\n",
    "subtraction\n",
    "\n",
    "# Output: Algebraic subtraction result\n",
    "# Explanation: The algebraic subtraction of two expressions follows standard rules.\n"
   ]
  },
  {
   "cell_type": "code",
   "execution_count": null,
   "id": "c6e8efb7",
   "metadata": {},
   "outputs": [],
   "source": [
    "\n",
    "# Multiplication of algebraic expressions\n",
    "multiplication = expr1 * expr2\n",
    "multiplication\n",
    "\n",
    "# Output: Multiplication result of the algebraic expressions\n",
    "# Explanation: Multiplying two algebraic expressions involves distributing the terms.\n"
   ]
  },
  {
   "cell_type": "code",
   "execution_count": null,
   "id": "377cefdf",
   "metadata": {},
   "outputs": [],
   "source": [
    "\n",
    "# 2. Solving Linear Equations\n",
    "# Let's solve a simple linear equation: 3x + 2 = 11\n",
    "\n",
    "eq = Eq(3*x + 2, 11)\n",
    "solution = solve(eq, x)\n",
    "solution\n",
    "\n",
    "# Output: Solution of the linear equation\n",
    "# Explanation: Using SymPy's `solve` function, we solve the equation for x.\n"
   ]
  },
  {
   "cell_type": "code",
   "execution_count": null,
   "id": "d1d07371",
   "metadata": {},
   "outputs": [],
   "source": [
    "\n",
    "# 3. Quadratic Formula\n",
    "# The general quadratic equation is ax^2 + bx + c = 0.\n",
    "# Let's solve the quadratic equation using the quadratic formula: ax^2 + bx + c = 0\n",
    "\n",
    "a, b, c = 1, -3, 2  # Coefficients of the quadratic equation\n",
    "\n",
    "# The quadratic formula: (-b ± √(b² - 4ac)) / 2a\n",
    "discriminant = b**2 - 4*a*c  # Calculating the discriminant\n",
    "\n",
    "# Two solutions\n",
    "sol1 = (-b + np.sqrt(discriminant)) / (2*a)\n",
    "sol2 = (-b - np.sqrt(discriminant)) / (2*a)\n",
    "(sol1, sol2)\n",
    "\n",
    "# Output: Solutions of the quadratic equation\n",
    "# Explanation: We use the quadratic formula to find the roots of the equation.\n"
   ]
  },
  {
   "cell_type": "code",
   "execution_count": null,
   "id": "0c896a7a",
   "metadata": {},
   "outputs": [],
   "source": [
    "\n",
    "# 4. Simplifying Algebraic Expressions\n",
    "# Simplifying the expression (3x^2 + 2x - 5) - (2x^2 - 4x + 3)\n",
    "\n",
    "expr_simplify = (3*x**2 + 2*x - 5) - (2*x**2 - 4*x + 3)\n",
    "simplified_expr = expr_simplify.simplify()\n",
    "simplified_expr\n",
    "\n",
    "# Output: Simplified algebraic expression\n",
    "# Explanation: Simplifying by combining like terms.\n"
   ]
  },
  {
   "cell_type": "code",
   "execution_count": null,
   "id": "1f5d9d01",
   "metadata": {},
   "outputs": [],
   "source": [
    "\n",
    "# 5. Matrix Operations\n",
    "# Let's define two matrices and perform addition, subtraction, and multiplication.\n",
    "\n",
    "# Defining two 2x2 matrices\n",
    "matrix1 = np.array([[1, 2], [3, 4]])\n",
    "matrix2 = np.array([[5, 6], [7, 8]])\n",
    "\n",
    "# Matrix addition\n",
    "matrix_addition = matrix1 + matrix2\n",
    "matrix_addition\n",
    "\n",
    "# Output: Resultant matrix after addition\n",
    "# Explanation: Element-wise addition of two matrices.\n"
   ]
  },
  {
   "cell_type": "code",
   "execution_count": null,
   "id": "fa671e8a",
   "metadata": {},
   "outputs": [],
   "source": [
    "\n",
    "# Matrix subtraction\n",
    "matrix_subtraction = matrix1 - matrix2\n",
    "matrix_subtraction\n",
    "\n",
    "# Output: Resultant matrix after subtraction\n",
    "# Explanation: Element-wise subtraction of two matrices.\n"
   ]
  },
  {
   "cell_type": "code",
   "execution_count": null,
   "id": "b4d95cfc",
   "metadata": {},
   "outputs": [],
   "source": [
    "\n",
    "# Matrix multiplication (dot product)\n",
    "matrix_multiplication = np.dot(matrix1, matrix2)\n",
    "matrix_multiplication\n",
    "\n",
    "# Output: Matrix multiplication result\n",
    "# Explanation: The dot product of two matrices is calculated by multiplying rows by columns.\n"
   ]
  },
  {
   "cell_type": "code",
   "execution_count": null,
   "id": "f6b27eef",
   "metadata": {},
   "outputs": [],
   "source": [
    "\n",
    "# 6. Determinant and Inverse of a Matrix\n",
    "# Let's calculate the determinant and inverse of a matrix.\n",
    "\n",
    "# Determinant of matrix1\n",
    "det_matrix1 = np.linalg.det(matrix1)\n",
    "det_matrix1\n",
    "\n",
    "# Output: Determinant of the matrix\n",
    "# Explanation: The determinant helps in understanding if the matrix is invertible.\n"
   ]
  },
  {
   "cell_type": "code",
   "execution_count": null,
   "id": "bf8034fd",
   "metadata": {},
   "outputs": [],
   "source": [
    "\n",
    "# Inverse of matrix1 (only possible if the determinant is non-zero)\n",
    "if det_matrix1 != 0:\n",
    "    inverse_matrix1 = np.linalg.inv(matrix1)\n",
    "    inverse_matrix1\n",
    "else:\n",
    "    inverse_matrix1 = None\n",
    "\n",
    "inverse_matrix1\n",
    "\n",
    "# Output: Inverse of the matrix (if determinant is non-zero)\n",
    "# Explanation: If the determinant is non-zero, we can calculate the inverse of the matrix.\n"
   ]
  }
 ],
 "metadata": {},
 "nbformat": 4,
 "nbformat_minor": 5
}
