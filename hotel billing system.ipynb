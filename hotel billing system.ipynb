{
 "cells": [
  {
   "cell_type": "code",
   "execution_count": 17,
   "id": "94fa9da5-3d60-42b2-b820-a1bc893417cc",
   "metadata": {},
   "outputs": [
    {
     "name": "stdout",
     "output_type": "stream",
     "text": [
      "Welcome to the Hotel Billing System!\n",
      "Room Rates:\n",
      "Standard Room: rs1000 per night\n",
      "Deluxe Room: rs1500 per night\n",
      "Suite: rs2000 per night\n"
     ]
    },
    {
     "name": "stdin",
     "output_type": "stream",
     "text": [
      "Enter the room type you want to book:  Deluxe Room\n",
      "Enter the number of nights you want to stay:  5\n"
     ]
    },
    {
     "name": "stdout",
     "output_type": "stream",
     "text": [
      "\n",
      "Receipt:\n",
      "Room Type: Deluxe Room\n",
      "Number of Nights: 5\n",
      "Total Bill: rs7500\n"
     ]
    }
   ],
   "source": [
    "\n",
    "\n",
    "# Hotel Billing System\n",
    "\n",
    "room_rates = {\n",
    "    \"Standard Room\":1000,\n",
    "    \"Deluxe Room\": 1500,\n",
    "    \"Suite\": 2000\n",
    "}\n",
    "\n",
    "def display_room_rates():\n",
    "    print(\"Room Rates:\")\n",
    "    for room_type, rate in room_rates.items():\n",
    "        print(f\"{room_type}: rs{rate} per night\")\n",
    "\n",
    "def calculate_bill(room_type, num_nights):\n",
    "    if room_type in room_rates:\n",
    "        total_bill = room_rates[room_type] * num_nights\n",
    "        return total_bill\n",
    "    else:\n",
    "        return None\n",
    "\n",
    "def generate_receipt(room_type, num_nights, total_bill):\n",
    "    print(\"\\nReceipt:\")\n",
    "    print(f\"Room Type: {room_type}\")\n",
    "    print(f\"Number of Nights: {num_nights}\")\n",
    "    print(f\"Total Bill: rs{total_bill}\")\n",
    "\n",
    "# Main program\n",
    "print(\"Welcome to the Hotel Billing System!\")\n",
    "display_room_rates()\n",
    "\n",
    "\n",
    "selected_room = input(\"Enter the room type you want to book: \")\n",
    "num_nights = int(input(\"Enter the number of nights you want to stay: \"))\n",
    "\n",
    "total_cost = calculate_bill(selected_room, num_nights)\n",
    "\n",
    "if total_cost is not None:\n",
    "    generate_receipt(selected_room, num_nights, total_cost)\n",
    "else:\n",
    "    print(\"Invalid room type. Please try again.\")\n"
   ]
  },
  {
   "cell_type": "code",
   "execution_count": null,
   "id": "a99b2b98-ec19-4f50-baa0-eefac63c4086",
   "metadata": {},
   "outputs": [],
   "source": []
  },
  {
   "cell_type": "code",
   "execution_count": null,
   "id": "756dca4c-1f09-4aa7-a5df-7c2d8d56307d",
   "metadata": {},
   "outputs": [],
   "source": []
  }
 ],
 "metadata": {
  "kernelspec": {
   "display_name": "Python 3 (ipykernel)",
   "language": "python",
   "name": "python3"
  },
  "language_info": {
   "codemirror_mode": {
    "name": "ipython",
    "version": 3
   },
   "file_extension": ".py",
   "mimetype": "text/x-python",
   "name": "python",
   "nbconvert_exporter": "python",
   "pygments_lexer": "ipython3",
   "version": "3.12.4"
  }
 },
 "nbformat": 4,
 "nbformat_minor": 5
}
