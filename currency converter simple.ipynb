{
 "cells": [
  {
   "cell_type": "code",
   "execution_count": 1,
   "id": "36cd662a-56b1-494c-9e20-f41d763ebe2d",
   "metadata": {},
   "outputs": [
    {
     "name": "stdout",
     "output_type": "stream",
     "text": [
      "Which currency would you like to convert to INR?\n",
      "1: USD (United States Dollar)\n",
      "2: EUR (Euro)\n",
      "3: GBP (British Pound)\n",
      "4: JPY (Japanese Yen)\n",
      "5: AUD (Australian Dollar)\n"
     ]
    },
    {
     "name": "stdin",
     "output_type": "stream",
     "text": [
      "Enter the number corresponding to your choice:  1\n",
      "Enter the amount:  1\n"
     ]
    },
    {
     "name": "stdout",
     "output_type": "stream",
     "text": [
      "1.0 USD = 83.50 INR\n"
     ]
    }
   ],
   "source": [
    "# Define exchange rates (these are example rates and might not be current)\n",
    "usd_to_inr = 83.50\n",
    "eur_to_inr = 89.75\n",
    "gbp_to_inr = 102.25\n",
    "jpy_to_inr = 0.56\n",
    "aud_to_inr = 54.20\n",
    "\n",
    "# Ask the user which currency they want to convert\n",
    "print(\"Which currency would you like to convert to INR?\")\n",
    "print(\"1: USD (United States Dollar)\")\n",
    "print(\"2: EUR (Euro)\")\n",
    "print(\"3: GBP (British Pound)\")\n",
    "print(\"4: JPY (Japanese Yen)\")\n",
    "print(\"5: AUD (Australian Dollar)\")\n",
    "\n",
    "currency_choice = input(\"Enter the number corresponding to your choice: \")\n",
    "\n",
    "# Get the amount from the user\n",
    "amount = float(input(\"Enter the amount: \"))\n",
    "\n",
    "# Initialize the INR amount\n",
    "inr_amount = 0\n",
    "\n",
    "# Convert based on user's choice\n",
    "if currency_choice == '1':\n",
    "    inr_amount = amount * usd_to_inr\n",
    "    print(f\"{amount} USD = {inr_amount:.2f} INR\")\n",
    "elif currency_choice == '2':\n",
    "    inr_amount = amount * eur_to_inr\n",
    "    print(f\"{amount} EUR = {inr_amount:.2f} INR\")\n",
    "elif currency_choice == '3':\n",
    "    inr_amount = amount * gbp_to_inr\n",
    "    print(f\"{amount} GBP = {inr_amount:.2f} INR\")\n",
    "elif currency_choice == '4':\n",
    "    inr_amount = amount * jpy_to_inr\n",
    "    print(f\"{amount} JPY = {inr_amount:.2f} INR\")\n",
    "elif currency_choice == '5':\n",
    "    inr_amount = amount * aud_to_inr\n",
    "    print(f\"{amount} AUD = {inr_amount:.2f} INR\")\n",
    "else:\n",
    "    print(\"Invalid choice. Please select a number between 1 and 5.\")\n"
   ]
  },
  {
   "cell_type": "code",
   "execution_count": null,
   "id": "8b76fa25-387a-42e9-a7df-84fdbe30f7f1",
   "metadata": {},
   "outputs": [],
   "source": []
  }
 ],
 "metadata": {
  "kernelspec": {
   "display_name": "Python 3 (ipykernel)",
   "language": "python",
   "name": "python3"
  },
  "language_info": {
   "codemirror_mode": {
    "name": "ipython",
    "version": 3
   },
   "file_extension": ".py",
   "mimetype": "text/x-python",
   "name": "python",
   "nbconvert_exporter": "python",
   "pygments_lexer": "ipython3",
   "version": "3.12.4"
  }
 },
 "nbformat": 4,
 "nbformat_minor": 5
}
