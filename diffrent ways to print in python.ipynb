{
 "cells": [
  {
   "cell_type": "code",
   "execution_count": 2,
   "id": "094759fc-16ff-4ad1-a2ce-4c115c440fb6",
   "metadata": {},
   "outputs": [
    {
     "name": "stdout",
     "output_type": "stream",
     "text": [
      "Hello, World!\n"
     ]
    }
   ],
   "source": [
    "#1. Print with the ‘print’ function\n",
    "# Example 1: Printing a string\n",
    "print(\"Hello, World!\")\n",
    "# Output: Hello, World!"
   ]
  },
  {
   "cell_type": "code",
   "execution_count": 3,
   "id": "bd7e89fe-7bd7-43a0-8b1e-d71957720106",
   "metadata": {},
   "outputs": [
    {
     "name": "stdout",
     "output_type": "stream",
     "text": [
      "42\n"
     ]
    }
   ],
   "source": [
    "# Example 2: Printing a variable\n",
    "x = 42\n",
    "print(x)\n",
    "# Output: 42"
   ]
  },
  {
   "cell_type": "code",
   "execution_count": 5,
   "id": "a88070ff-a89d-41b1-bdd1-0945184320c8",
   "metadata": {},
   "outputs": [
    {
     "name": "stdout",
     "output_type": "stream",
     "text": [
      "Pranav is 25 years old.\n"
     ]
    }
   ],
   "source": [
    "#2. Print with string formatting\n",
    "# Example 1: Printing a formatted string\n",
    "name = \"Pranav\"\n",
    "age = 25\n",
    "print(\"%s is %d years old.\" % (name, age))\n",
    "# Output: Pranav is 25 years old."
   ]
  },
  {
   "cell_type": "code",
   "execution_count": 6,
   "id": "4c09f839-6259-43de-a8da-e87daa22c69f",
   "metadata": {},
   "outputs": [
    {
     "name": "stdout",
     "output_type": "stream",
     "text": [
      "The price is $19.99.\n"
     ]
    }
   ],
   "source": [
    "# Example 2: Printing a formatted string with a floating-point value\n",
    "price = 19.99\n",
    "print(\"The price is $%.2f.\" % price)\n",
    "# Output: The price is $19.99."
   ]
  },
  {
   "cell_type": "code",
   "execution_count": 8,
   "id": "87b37da9-b16e-4106-962a-232b9d80b58c",
   "metadata": {},
   "outputs": [
    {
     "name": "stdout",
     "output_type": "stream",
     "text": [
      "Pranav is 30 years old.\n"
     ]
    }
   ],
   "source": [
    "#3. Print with the ‘str.format()’ method\n",
    "# Example 1: Printing a formatted string using 'str.format()'\n",
    "name = \"Pranav\"\n",
    "age = 30\n",
    "print(\"{} is {} years old.\".format(name, age))\n",
    "# Output: Bob is 30 years old.\n"
   ]
  },
  {
   "cell_type": "code",
   "execution_count": 9,
   "id": "9068bbf8-d786-497b-91ab-9a61a64ee76d",
   "metadata": {},
   "outputs": [
    {
     "name": "stdout",
     "output_type": "stream",
     "text": [
      "Python Course costs $99.99.\n"
     ]
    }
   ],
   "source": [
    "\n",
    "# Example 2: Printing a formatted string with named arguments\n",
    "product = \"Python Course\"\n",
    "price = 99.99\n",
    "print(\"{name} costs ${price:.2f}.\".format(name=product, price=price))\n",
    "# Output: Python Course costs $99.99."
   ]
  },
  {
   "cell_type": "code",
   "execution_count": 12,
   "id": "bece0044-c99f-4a48-ae75-bdd8fc072ac2",
   "metadata": {},
   "outputs": [
    {
     "name": "stdout",
     "output_type": "stream",
     "text": [
      "Pranav is 35 years old.\n"
     ]
    }
   ],
   "source": [
    "#4. Print with the ‘f-string’ syntax\n",
    "# Example 1: Printing an f-string\n",
    "name = \"Pranav\"\n",
    "age = 35\n",
    "print(f\"{name} is {age} years old.\")\n",
    "# Output: Carol is 35 years old.\n",
    "\n"
   ]
  },
  {
   "cell_type": "code",
   "execution_count": 13,
   "id": "7d81561b-13fb-410b-8bea-eae546dc7bdd",
   "metadata": {},
   "outputs": [
    {
     "name": "stdout",
     "output_type": "stream",
     "text": [
      "The total price is $32.35.\n"
     ]
    }
   ],
   "source": [
    "# Example 2: Printing an f-string with a formatted number\n",
    "price = 29.95\n",
    "tax_rate = 0.08\n",
    "print(f\"The total price is ${price * (1 + tax_rate):.2f}.\")\n",
    "# Output: The total price is $32.34."
   ]
  },
  {
   "cell_type": "code",
   "execution_count": 24,
   "id": "8084fa64-28f0-480c-954d-9e2cc8cb03b5",
   "metadata": {},
   "outputs": [],
   "source": [
    "#5. Print to a file or a stream\n",
    "# Example 1: Printing to a file\n",
    "with open('output.txt', 'w') as f:\n",
    "    # Writing to the file using the print function\n",
    "    print(\"This line will be written to a file.\", file=f)\n"
   ]
  },
  {
   "cell_type": "code",
   "execution_count": 26,
   "id": "193f95f9-5c1a-4d3b-b8dc-8ceeeb4fbfe4",
   "metadata": {},
   "outputs": [
    {
     "name": "stderr",
     "output_type": "stream",
     "text": [
      "This line will be written to a stream.\n"
     ]
    }
   ],
   "source": [
    "\n",
    "# Example 2: Printing to a stream\n",
    "import sys\n",
    "print(\"This line will be written to a stream.\", file=sys.stderr)"
   ]
  },
  {
   "cell_type": "code",
   "execution_count": null,
   "id": "9b530ffc-ff7c-4708-bb33-81f5f14f7b1a",
   "metadata": {},
   "outputs": [],
   "source": []
  }
 ],
 "metadata": {
  "kernelspec": {
   "display_name": "Python 3 (ipykernel)",
   "language": "python",
   "name": "python3"
  },
  "language_info": {
   "codemirror_mode": {
    "name": "ipython",
    "version": 3
   },
   "file_extension": ".py",
   "mimetype": "text/x-python",
   "name": "python",
   "nbconvert_exporter": "python",
   "pygments_lexer": "ipython3",
   "version": "3.12.4"
  }
 },
 "nbformat": 4,
 "nbformat_minor": 5
}
