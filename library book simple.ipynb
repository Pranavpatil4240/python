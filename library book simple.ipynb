{
 "cells": [
  {
   "cell_type": "code",
   "execution_count": 3,
   "id": "9e62dc59-1fcd-439c-8fdc-3d254f6b0f61",
   "metadata": {},
   "outputs": [
    {
     "name": "stdout",
     "output_type": "stream",
     "text": [
      "Available books in the library:\n",
      "Book1\n",
      "Book2\n",
      "Book3\n",
      "You have borrowed the book: Book1\n",
      "Thank you for returning the book.\n",
      "Available books in the library:\n",
      "Book2\n",
      "Book3\n",
      "Book1\n"
     ]
    }
   ],
   "source": [
    "\n",
    "\n",
    "\n",
    "class Library:\n",
    "    def __init__(self, books):\n",
    "        self.books = books\n",
    "\n",
    "    def display_available_books(self):\n",
    "        print(\"Available books in the library:\")\n",
    "        for book in self.books:\n",
    "            print(book)\n",
    "\n",
    "    def lend_book(self, requested_book):\n",
    "        if requested_book in self.books:\n",
    "            print(f\"You have borrowed the book: {requested_book}\")\n",
    "            self.books.remove(requested_book)\n",
    "        else:\n",
    "            print(\"Sorry, the book is not available.\")\n",
    "\n",
    "    def add_book(self, returned_book):\n",
    "        self.books.append(returned_book)\n",
    "        print(\"Thank you for returning the book.\")\n",
    "\n",
    "# Initial list of books in the library\n",
    "library_books = ['Python', 'C programing', 'Data structure']\n",
    "\n",
    "# Create a Library object\n",
    "my_library = Library(library_books)\n",
    "\n",
    "# Example usage\n",
    "my_library.display_available_books()\n",
    "my_library.lend_book('Python')\n",
    "my_library.add_book('Python')\n",
    "my_library.display_available_books()\n",
    "\n",
    "\n"
   ]
  },
  {
   "cell_type": "code",
   "execution_count": null,
   "id": "d55d4dac-4cc1-4424-8b1c-6240acf7a1db",
   "metadata": {},
   "outputs": [],
   "source": []
  }
 ],
 "metadata": {
  "kernelspec": {
   "display_name": "Python 3 (ipykernel)",
   "language": "python",
   "name": "python3"
  },
  "language_info": {
   "codemirror_mode": {
    "name": "ipython",
    "version": 3
   },
   "file_extension": ".py",
   "mimetype": "text/x-python",
   "name": "python",
   "nbconvert_exporter": "python",
   "pygments_lexer": "ipython3",
   "version": "3.12.4"
  }
 },
 "nbformat": 4,
 "nbformat_minor": 5
}
