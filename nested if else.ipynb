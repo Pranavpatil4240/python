{
 "cells": [
  {
   "cell_type": "code",
   "execution_count": 1,
   "id": "d514cfe8-ca7b-4d5e-abde-1afeba6c8595",
   "metadata": {},
   "outputs": [
    {
     "name": "stdout",
     "output_type": "stream",
     "text": [
      "The number is positive.\n"
     ]
    }
   ],
   "source": [
    "\n",
    "# Example 1 : Number checker\n",
    "num = 5\n",
    "\n",
    "if num > 0:\n",
    "    print(\"The number is positive.\")\n",
    "else:\n",
    "    if num < 0:\n",
    "        print(\"The number is negative.\")\n",
    "    else:\n",
    "        print(\"The number is zero.\")\n"
   ]
  },
  {
   "cell_type": "code",
   "execution_count": 2,
   "id": "f414eeb8-e01a-4f35-9474-238d8b0c20c2",
   "metadata": {},
   "outputs": [
    {
     "name": "stdout",
     "output_type": "stream",
     "text": [
      "You are an adult.\n"
     ]
    }
   ],
   "source": [
    "# Example 2 : Age classifier\n",
    "age = 35\n",
    "\n",
    "if age >= 60:\n",
    "    print(\"You are a senior citizen.\")\n",
    "else:\n",
    "    if age >= 18:\n",
    "        print(\"You are an adult.\")\n",
    "    else:\n",
    "        print(\"You are a teenager.\")"
   ]
  },
  {
   "cell_type": "code",
   "execution_count": 3,
   "id": "ad09fc0a-ee65-4294-a993-0e2a62ec8ba4",
   "metadata": {},
   "outputs": [
    {
     "name": "stdout",
     "output_type": "stream",
     "text": [
      "The number is positive and even.\n"
     ]
    }
   ],
   "source": [
    "\n",
    "# Simpler example of a nested if-else statement\n",
    "num = 10\n",
    "\n",
    "if num > 0:\n",
    "    if num % 2 == 0:\n",
    "        print(\"The number is positive and even.\")\n",
    "    else:\n",
    "        print(\"The number is positive but odd.\")\n",
    "else:\n",
    "    print(\"The number is not positive.\")"
   ]
  },
  {
   "cell_type": "code",
   "execution_count": 4,
   "id": "fc839341-06be-4cef-b4c7-9c7e9c024525",
   "metadata": {},
   "outputs": [
    {
     "name": "stdin",
     "output_type": "stream",
     "text": [
      "Enter your username:  pranav\n",
      "Enter your password:  1234\n"
     ]
    },
    {
     "name": "stdout",
     "output_type": "stream",
     "text": [
      "Unknown user. Please try again.\n"
     ]
    }
   ],
   "source": [
    "\n",
    "# Password and Username Checking\n",
    "username = input(\"Enter your username: \")\n",
    "password = input(\"Enter your password: \")\n",
    "\n",
    "if username == \"admin\":\n",
    "    if password == \"password\":\n",
    "        print(\"Login successful! Welcome, admin.\")\n",
    "    elif password == \"12345\":\n",
    "        print(\"Weak password. Please reset your password.\")\n",
    "    else:\n",
    "        print(\"Incorrect password. Please try again.\")\n",
    "else:\n",
    "    if username == \"guest\":\n",
    "        if password == \"guest\":\n",
    "            print(\"Login successful! Welcome, guest.\")\n",
    "        else:\n",
    "            print(\"Incorrect password. Please try again.\")\n",
    "    else:\n",
    "        print(\"Unknown user. Please try again.\")"
   ]
  },
  {
   "cell_type": "code",
   "execution_count": 5,
   "id": "6d022c22-a2db-436d-9e99-f37638ba72a6",
   "metadata": {},
   "outputs": [
    {
     "name": "stdin",
     "output_type": "stream",
     "text": [
      "Enter your name:  pranav\n",
      "Enter your email address:  pranav@gmail.com\n",
      "Enter your password:  123\n"
     ]
    },
    {
     "name": "stdout",
     "output_type": "stream",
     "text": [
      "Registration successful.\n"
     ]
    }
   ],
   "source": [
    "# Using if-else for Validation\n",
    "name = input(\"Enter your name: \")\n",
    "email = input(\"Enter your email address: \")\n",
    "password = input(\"Enter your password: \")\n",
    "\n",
    "if name == \"\":\n",
    "    print(\"Name cannot be empty.\")\n",
    "else:\n",
    "    if \"@\" not in email:\n",
    "        print(\"Invalid email address.\")\n",
    "    else:\n",
    "        if len(password) > 8:\n",
    "            print(\"Password must be at least 8 characters long.\")\n",
    "        else:\n",
    "            print(\"Registration successful.\")"
   ]
  },
  {
   "cell_type": "code",
   "execution_count": 6,
   "id": "963116ed-f477-499b-ab66-f0e0dffdc026",
   "metadata": {},
   "outputs": [
    {
     "name": "stdin",
     "output_type": "stream",
     "text": [
      "Enter your username:  pranav\n",
      "Enter your password:  1234\n"
     ]
    },
    {
     "name": "stdout",
     "output_type": "stream",
     "text": [
      "Invalid username.\n"
     ]
    }
   ],
   "source": [
    "\n",
    "# Using if-else for Authentication\n",
    "username = input(\"Enter your username: \")\n",
    "password = input(\"Enter your password: \")\n",
    "\n",
    "if username == \"admin\":\n",
    "    if password == \"password123\":\n",
    "        print(\"Login successful.\")\n",
    "    else:\n",
    "        print(\"Invalid password.\")\n",
    "else:\n",
    "    print(\"Invalid username.\")"
   ]
  },
  {
   "cell_type": "code",
   "execution_count": 7,
   "id": "ccd41f73-f047-4cad-a5e2-00bb0da3526b",
   "metadata": {},
   "outputs": [
    {
     "name": "stdout",
     "output_type": "stream",
     "text": [
      "letter is A\n"
     ]
    }
   ],
   "source": [
    "# if-elif statement example\n",
    "letter = \"A\"\n",
    "\n",
    "if letter == \"B\":\n",
    "    print(\"letter is B\")\n",
    "\n",
    "elif letter == \"C\":\n",
    "    print(\"letter is C\")\n",
    "\n",
    "elif letter == \"A\":\n",
    "    print(\"letter is A\")\n",
    "\n",
    "else:\n",
    "    print(\"letter isn't A, B or C\")"
   ]
  },
  {
   "cell_type": "code",
   "execution_count": null,
   "id": "27f7e146-b978-4181-b64c-63a2ad93cc5b",
   "metadata": {},
   "outputs": [],
   "source": []
  }
 ],
 "metadata": {
  "kernelspec": {
   "display_name": "Python 3 (ipykernel)",
   "language": "python",
   "name": "python3"
  },
  "language_info": {
   "codemirror_mode": {
    "name": "ipython",
    "version": 3
   },
   "file_extension": ".py",
   "mimetype": "text/x-python",
   "name": "python",
   "nbconvert_exporter": "python",
   "pygments_lexer": "ipython3",
   "version": "3.12.4"
  }
 },
 "nbformat": 4,
 "nbformat_minor": 5
}
