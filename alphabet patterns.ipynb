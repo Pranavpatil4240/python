{
 "cells": [
  {
   "cell_type": "code",
   "execution_count": 1,
   "id": "14d9dd73-dc82-4509-8122-686d7e3597e5",
   "metadata": {},
   "outputs": [
    {
     "name": "stdout",
     "output_type": "stream",
     "text": [
      "A\n",
      "AB\n",
      "ABC\n",
      "ABCD\n",
      "ABCDE\n"
     ]
    }
   ],
   "source": [
    "# outer loop\n",
    "for i in range (65,70):\n",
    "    # inner loop\n",
    "    for j in range(65,i+1):\n",
    "        print(chr(j),end=\"\")\n",
    "    print()"
   ]
  },
  {
   "cell_type": "code",
   "execution_count": 2,
   "id": "1a7ac4ad-fa5e-4eff-b266-78be03ec386c",
   "metadata": {},
   "outputs": [
    {
     "name": "stdout",
     "output_type": "stream",
     "text": [
      "A\n",
      "BB\n",
      "CCC\n",
      "DDDD\n",
      "EEEEE\n"
     ]
    }
   ],
   "source": [
    "# outer loop\n",
    "for i in range (65,70):\n",
    "    # inner loop\n",
    "    for j in range(65,i+1):\n",
    "        print(chr(i),end=\"\")\n",
    "    print()"
   ]
  },
  {
   "cell_type": "code",
   "execution_count": 3,
   "id": "b130251c-b99c-4848-841a-308a25466c4c",
   "metadata": {},
   "outputs": [
    {
     "name": "stdout",
     "output_type": "stream",
     "text": [
      "A\n",
      "AP\n",
      "APO\n",
      "APOO\n",
      "APOOR\n",
      "APOORV\n",
      "APOORVA\n"
     ]
    }
   ],
   "source": [
    "str= \"APOORVA\"  # string\n",
    "# Outer loop\n",
    "for i in range(0,7):\n",
    "    # inner loop\n",
    "    for j in range(0,i+1):\n",
    "        print(str[j],end=\"\")\n",
    "    print()"
   ]
  },
  {
   "cell_type": "code",
   "execution_count": 4,
   "id": "e8b6a6a8-7a66-4ba5-be57-2f91d8aea7b2",
   "metadata": {},
   "outputs": [
    {
     "name": "stdout",
     "output_type": "stream",
     "text": [
      "A\n",
      "BA\n",
      "CBA\n",
      "DCBA\n",
      "EDCBA\n"
     ]
    }
   ],
   "source": [
    "# Outer loop\n",
    "for i in range(65,70):\n",
    "    # Inner loop\n",
    "    for j in range(i,64,-1):\n",
    "        print(chr(j),end=\"\")\n",
    "    print()"
   ]
  },
  {
   "cell_type": "code",
   "execution_count": 5,
   "id": "2786cb49-211b-473b-9296-943cc7a96848",
   "metadata": {},
   "outputs": [
    {
     "name": "stdout",
     "output_type": "stream",
     "text": [
      "    A\n",
      "   ABA\n",
      "  ABCAB\n",
      " ABCDABC\n",
      "ABCDEABCD\n"
     ]
    }
   ],
   "source": [
    "m=6   \n",
    "# Outer loop\n",
    "for i in range(65,70):\n",
    "    m=m-1\n",
    "    # Inner loop 1 \n",
    "    for j in range(m,1,-1):\n",
    "        print(\" \",end=\"\")\n",
    "    # Inner loop 2\n",
    "    for k in range(65,i+1):\n",
    "        print(chr(k),end=\"\")\n",
    "    # Inner loop 3\n",
    "    for n in range(65,i):\n",
    "        print(chr(n),end=\"\")\n",
    "    print()"
   ]
  },
  {
   "cell_type": "code",
   "execution_count": 6,
   "id": "6ed1f84b-22e5-45f1-b395-4d506a777bed",
   "metadata": {},
   "outputs": [
    {
     "name": "stdout",
     "output_type": "stream",
     "text": [
      "A\n",
      "BA\n",
      "CBA\n",
      "DCBA\n",
      "EDCBA\n"
     ]
    }
   ],
   "source": [
    "# Outer loop\n",
    "for i in range(65,70):\n",
    "    # Inner loop\n",
    "    for j in range(i,64,-1):\n",
    "        print(chr(j),end=\"\")\n",
    "    print()"
   ]
  },
  {
   "cell_type": "code",
   "execution_count": 10,
   "id": "d6892b23-024d-42e9-aa67-f1ec8404b4cc",
   "metadata": {},
   "outputs": [
    {
     "name": "stdin",
     "output_type": "stream",
     "text": [
      "Enter a number: 5\n"
     ]
    },
    {
     "name": "stdout",
     "output_type": "stream",
     "text": [
      "E \n",
      "E D \n",
      "E D C \n",
      "E D C B \n",
      "E D C B A \n",
      "E D C B \n",
      "E D C \n",
      "E D \n",
      "E \n",
      "\n"
     ]
    }
   ],
   "source": [
    "num=int(input(\"Enter a number:\"))\n",
    "for i in range(1,num+1):\n",
    "    for j in range(1,i+1):\n",
    "        print(chr(65+num-j),end=\" \")\n",
    "    print()\n",
    "for a in range(1,num+1):\n",
    "    for k in range(num-a,0,-1):\n",
    "        print(chr(64+k+a),end=\" \")\n",
    "    print()"
   ]
  },
  {
   "cell_type": "code",
   "execution_count": 11,
   "id": "8e70b612-0f05-4cd2-ad1d-fc417b24f705",
   "metadata": {},
   "outputs": [
    {
     "name": "stdin",
     "output_type": "stream",
     "text": [
      "Enter a number: 5\n"
     ]
    },
    {
     "name": "stdout",
     "output_type": "stream",
     "text": [
      "E D C B A \n",
      " D C B A \n",
      "  C B A \n",
      "   B A \n",
      "    A \n"
     ]
    }
   ],
   "source": [
    "num=int(input(\"Enter a number:\"))\n",
    "for i in range(1,num+1):\n",
    "    print(\" \"*(i-1),end=\"\")\n",
    "    for j in range(1,num+2-i):\n",
    "        print(chr(65+num+1-i-j),end=\" \")\n",
    "    print()"
   ]
  },
  {
   "cell_type": "code",
   "execution_count": 12,
   "id": "90b702e7-b702-4139-a9db-e85aa05d4c54",
   "metadata": {},
   "outputs": [
    {
     "name": "stdin",
     "output_type": "stream",
     "text": [
      "Enter a number: 5\n"
     ]
    },
    {
     "name": "stdout",
     "output_type": "stream",
     "text": [
      "    A \n",
      "   A B \n",
      "  A B C \n",
      " A B C D \n",
      "A B C D E \n",
      " B C D E \n",
      "  C D E \n",
      "   D E \n",
      "    E \n"
     ]
    }
   ],
   "source": [
    "num=int(input(\"Enter a number:\"))\n",
    "for i in range(1,num+1):\n",
    "    print(\" \"*(num-i),end=\"\")\n",
    "    for j in range(1,i+1):\n",
    "        print(chr(64+j),end=\" \")\n",
    "    print()\n",
    "for p in range(1,num):\n",
    "    print(\" \"*p,end=\"\")\n",
    "    for q in range(1,num+1-p):\n",
    "        print(chr(64+q+p),end=\" \")\n",
    "    print()"
   ]
  },
  {
   "cell_type": "code",
   "execution_count": 13,
   "id": "0d52289e-1608-483a-a84f-3425d7f6c889",
   "metadata": {},
   "outputs": [
    {
     "name": "stdout",
     "output_type": "stream",
     "text": [
      "A\n",
      "B C\n",
      "D E\n",
      "F G\n",
      "H I\n",
      "F G\n",
      "D E\n",
      "B C\n",
      "A\n"
     ]
    }
   ],
   "source": [
    "# A given value of N will produce (2 * N - 1) rows, of which the first N rows\n",
    "# will be unique and the remaining (N - 1) rows will be mirrored\n",
    "num_rows = 5\n",
    "# The code of the starting character\n",
    "start = 65\n",
    "\n",
    "# Produce N unique rows: first row has one character, all others have two\n",
    "rows = [chr(start)] + [f\"{chr(start + 2 * i + 1)} {chr(start + 2 * i + 2)}\"\n",
    "                       for i in range(num_rows - 1)] if num_rows > 0 else []\n",
    "# Produce (N - 1) mirrored rows by reversing everything but the last row,\n",
    "# join with line breaks, then print\n",
    "print(\"\\n\".join(rows + rows[-2::-1]))"
   ]
  },
  {
   "cell_type": "code",
   "execution_count": null,
   "id": "86d1577f-05c5-4016-b3f8-5ce08cdd691b",
   "metadata": {},
   "outputs": [],
   "source": []
  }
 ],
 "metadata": {
  "kernelspec": {
   "display_name": "Python 3 (ipykernel)",
   "language": "python",
   "name": "python3"
  },
  "language_info": {
   "codemirror_mode": {
    "name": "ipython",
    "version": 3
   },
   "file_extension": ".py",
   "mimetype": "text/x-python",
   "name": "python",
   "nbconvert_exporter": "python",
   "pygments_lexer": "ipython3",
   "version": "3.12.4"
  }
 },
 "nbformat": 4,
 "nbformat_minor": 5
}
